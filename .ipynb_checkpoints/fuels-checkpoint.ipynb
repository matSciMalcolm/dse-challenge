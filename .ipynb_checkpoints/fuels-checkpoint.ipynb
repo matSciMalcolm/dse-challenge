{
 "cells": [
  {
   "cell_type": "markdown",
   "metadata": {},
   "source": [
    "# Benchmarking MSS against Ling _IMMI_ (2017)\n",
    "In this notebook, we will recreate some key results from [Ling et al. _IMMI_ (2017)](https://link.springer.com/article/10.1007/s40192-017-0098-z). We will show that the errors produced from the Random Forest implemented in lolo are well-calibrated and that the uncertainties can be used with Sequential Learning to quickly find optimal materials within a search space.\n",
    "\n",
    "Note: This notebook will require you to install [matminer](https://hackingmaterials.github.io/matminer/) and establish an account with Citrination to get an an API key (see [Quickstart](https://citrineinformatics.github.io/api-documentation/quickstart/index.html)), and set it as an environment variable named CITRINE_KEY."
   ]
  },
  {
   "cell_type": "code",
   "execution_count": 1,
   "metadata": {},
   "outputs": [
    {
     "name": "stderr",
     "output_type": "stream",
     "text": [
      "/Users/malcolmdavidson/anaconda3/envs/tecca/lib/python3.7/site-packages/dask/config.py:168: YAMLLoadWarning:\n",
      "\n",
      "calling yaml.load() without Loader=... is deprecated, as the default Loader is unsafe. Please read https://msg.pyyaml.org/load for full details.\n",
      "\n"
     ]
    }
   ],
   "source": [
    "%matplotlib inline\n",
    "from matplotlib import pyplot as plt\n",
    "from matminer.data_retrieval.retrieve_Citrine import CitrineDataRetrieval\n",
    "from matminer.featurizers.base import MultipleFeaturizer\n",
    "from matminer.featurizers import composition as cf\n",
    "from lolopy.learners import RandomForestRegressor\n",
    "from sklearn.model_selection import KFold\n",
    "from pymatgen import Composition\n",
    "from scipy.stats import norm\n",
    "from collections import Counter\n",
    "import pandas as pd\n",
    "import numpy as np\n",
    "import statistics\n",
    "import os"
   ]
  },
  {
   "cell_type": "markdown",
   "metadata": {},
   "source": [
    "Set the random seed"
   ]
  },
  {
   "cell_type": "code",
   "execution_count": 2,
   "metadata": {},
   "outputs": [],
   "source": [
    "np.random.seed(8)"
   ]
  },
  {
   "cell_type": "markdown",
   "metadata": {},
   "source": [
    "## Get the Datasets\n",
    "The Ling Paper used 4 different datasets to test the uncertainty estimates"
   ]
  },
  {
   "cell_type": "code",
   "execution_count": 3,
   "metadata": {},
   "outputs": [],
   "source": [
    "cdr = CitrineDataRetrieval()"
   ]
  },
  {
   "cell_type": "code",
   "execution_count": 4,
   "metadata": {},
   "outputs": [
    {
     "name": "stderr",
     "output_type": "stream",
     "text": [
      "100%|██████████| 165/165 [00:04<00:00, 41.09it/s]\n"
     ]
    }
   ],
   "source": [
    "data = cdr.get_dataframe(criteria={'data_set_id': 150888}, print_properties_options=False)"
   ]
  },
  {
   "cell_type": "markdown",
   "metadata": {},
   "source": [
    "Convert the composition and class variable from strings"
   ]
  },
  {
   "cell_type": "code",
   "execution_count": 5,
   "metadata": {},
   "outputs": [],
   "source": [
    "def get_compostion(c):\n",
    "    \"\"\"Attempt to parse composition, return None if failed\"\"\"\n",
    "    \n",
    "    try:\n",
    "        return Composition(c)\n",
    "    except:\n",
    "        return None"
   ]
  },
  {
   "cell_type": "code",
   "execution_count": 6,
   "metadata": {},
   "outputs": [],
   "source": [
    "data['composition'] = data['chemicalFormula'].apply(get_compostion)\n",
    "data['ZT'] = pd.to_numeric(data['ZT'], errors='coerce')"
   ]
  },
  {
   "cell_type": "code",
   "execution_count": 7,
   "metadata": {},
   "outputs": [],
   "source": [
    "data.reset_index(drop=True, inplace=True)"
   ]
  },
  {
   "cell_type": "markdown",
   "metadata": {},
   "source": [
    "## Compute Features\n",
    "Every dataset except the steel fatigue dataset uses the composition-based features of [Ward et al.](https://www.nature.com/articles/npjcompumats201628)."
   ]
  },
  {
   "cell_type": "code",
   "execution_count": 8,
   "metadata": {},
   "outputs": [],
   "source": [
    "f =  MultipleFeaturizer([cf.Stoichiometry(), cf.ElementProperty.from_preset(\"magpie\"),\n",
    "                         cf.ValenceOrbital(props=['avg']), cf.IonProperty(fast=True)])"
   ]
  },
  {
   "cell_type": "code",
   "execution_count": 9,
   "metadata": {},
   "outputs": [
    {
     "data": {
      "application/vnd.jupyter.widget-view+json": {
       "model_id": "709004dc1a064762a07fb184c10b107f",
       "version_major": 2,
       "version_minor": 0
      },
      "text/plain": [
       "HBox(children=(IntProgress(value=0, description='MultipleFeaturizer', max=165, style=ProgressStyle(description…"
      ]
     },
     "metadata": {},
     "output_type": "display_data"
    },
    {
     "name": "stdout",
     "output_type": "stream",
     "text": [
      "\n"
     ]
    }
   ],
   "source": [
    "X = np.array(f.featurize_many(data['composition']))"
   ]
  },
  {
   "cell_type": "code",
   "execution_count": 10,
   "metadata": {},
   "outputs": [],
   "source": [
    "model = RandomForestRegressor()"
   ]
  },
  {
   "cell_type": "code",
   "execution_count": 11,
   "metadata": {},
   "outputs": [],
   "source": [
    "y = data['ZT'].values"
   ]
  },
  {
   "cell_type": "code",
   "execution_count": 28,
   "metadata": {},
   "outputs": [
    {
     "data": {
      "text/plain": [
       "57"
      ]
     },
     "execution_count": 28,
     "metadata": {},
     "output_type": "execute_result"
    }
   ],
   "source": [
    "np.argmax(y)"
   ]
  },
  {
   "cell_type": "markdown",
   "metadata": {},
   "source": [
    "## Sequential Learning\n",
    "One important use of model uncertainties is to employ them to guide which experiments to pick to find optimal materials with minimal experiments/computations. As described in the Ling paper (and [other](https://journals.aps.org/prb/abstract/10.1103/PhysRevB.89.054303) [nice](https://www.nature.com/articles/srep19660) [articles](https://link.springer.com/article/10.1007/s10822-015-9832-9)), it is not always best to pick the experiment that the model predicts to have the best properties if you can perform more than one experiment sequentially. Rather, it can be better to pick entries with large uncertainities that, when tested and added to the training set, can improve the models predictions for the next experiments. \n",
    "\n",
    "Here, we demonstrate one approach for picking experiments: Maximum Liklihood of Improvement (MLI). In contrast to picking the material with the best predicted properties (an approach we refer to Maximum Expected Improvment (MEU)), the MLI approach pickes the material with with the highest liklihood of being better than the best material in the training set - a measure that uses both the predicted value and the uncertainty."
   ]
  },
  {
   "cell_type": "markdown",
   "metadata": {},
   "source": [
    "### Step 1: Pick an initial training set\n",
    "We'll start with a small set of entries from the training set"
   ]
  },
  {
   "cell_type": "code",
   "execution_count": 12,
   "metadata": {},
   "outputs": [
    {
     "name": "stdout",
     "output_type": "stream",
     "text": [
      "Picked 10 training entries\n"
     ]
    }
   ],
   "source": [
    "in_train = np.zeros(len(data), dtype=np.bool)\n",
    "in_train[np.random.choice(len(data), 10, replace=False)] = True\n",
    "print('Picked {} training entries'.format(in_train.sum()))"
   ]
  },
  {
   "cell_type": "code",
   "execution_count": 13,
   "metadata": {},
   "outputs": [],
   "source": [
    "assert not np.isclose(max(y), max(y[in_train]))"
   ]
  },
  {
   "cell_type": "markdown",
   "metadata": {},
   "source": [
    "### Step 2: Run an iterative search\n",
    "Starting with the same 32 materials in the training set, we will iteratively pick materials, add them to the training set, and retrain the model using 3 different strategies for picking entries: MEI, MLI, and randomly."
   ]
  },
  {
   "cell_type": "code",
   "execution_count": 14,
   "metadata": {},
   "outputs": [],
   "source": [
    "n_steps = 100\n",
    "n_iterations = 100"
   ]
  },
  {
   "cell_type": "code",
   "execution_count": 15,
   "metadata": {},
   "outputs": [],
   "source": [
    "all_inds = set(range(len(y)))"
   ]
  },
  {
   "cell_type": "markdown",
   "metadata": {},
   "source": [
    "#### Random Selection\n",
    "Just pick an entry at random, no need to train a model"
   ]
  },
  {
   "cell_type": "code",
   "execution_count": 16,
   "metadata": {},
   "outputs": [],
   "source": [
    "if not os.path.exists(os.path.join('data','rss_file.txt')):\n",
    "    rss_steps = []\n",
    "    for j in range(10*n_iterations):\n",
    "        random_train = [set(np.where(in_train)[0].tolist())]\n",
    "        for i in range(n_steps):\n",
    "            # Get the current train set and search space\n",
    "            train_inds = set(random_train[-1])  # Last iteration\n",
    "            search_inds = sorted(all_inds.difference(train_inds))\n",
    "            c = np.random.choice(search_inds)\n",
    "            # Pick an entry at random\n",
    "            train_inds.add(c)\n",
    "\n",
    "            # Add it to the list of training sets\n",
    "            random_train.append(train_inds)\n",
    "            if c == 57:\n",
    "                rss_steps.append(i)\n",
    "                break\n",
    "    with open(os.path.join('data','rss_file.txt'), 'w') as f:\n",
    "        for item in rss_steps:\n",
    "            f.write(\"%s\\n\" % item)"
   ]
  },
  {
   "cell_type": "markdown",
   "metadata": {},
   "source": [
    "#### Maximum Expected Improvement\n",
    "Pick the entry with the largest predicted value"
   ]
  },
  {
   "cell_type": "code",
   "execution_count": 17,
   "metadata": {},
   "outputs": [],
   "source": [
    "if not os.path.exists(os.path.join('data','mei_file.txt')):\n",
    "    mei_steps = []\n",
    "    for j in range(n_iterations):\n",
    "        mei_train = [set(np.where(in_train)[0].tolist())]\n",
    "        for i in range(n_steps):\n",
    "            # Get the current train set and search space\n",
    "            train_inds = sorted(set(mei_train[-1]))  # Last iteration\n",
    "            search_inds = sorted(all_inds.difference(train_inds))\n",
    "\n",
    "            # Pick entry with the largest maximum value\n",
    "            model.fit(X[train_inds], y[train_inds])\n",
    "            y_pred = model.predict(X[search_inds])\n",
    "            train_inds.append(search_inds[np.argmax(y_pred)])\n",
    "\n",
    "            # Add it to the list of training sets\n",
    "            mei_train.append(set(train_inds))\n",
    "\n",
    "            if search_inds[np.argmax(y_pred)] == 57:\n",
    "                mei_steps.append(i)\n",
    "                break\n",
    "    with open(os.path.join('data','mei_file.txt'), 'w') as f:\n",
    "        for item in mei_steps:\n",
    "            f.write(\"%s\\n\" % item)"
   ]
  },
  {
   "cell_type": "markdown",
   "metadata": {},
   "source": [
    "#### Maximum Likelihood of Improvement\n",
    "Pick the entry with the largest probability of improvement"
   ]
  },
  {
   "cell_type": "code",
   "execution_count": 18,
   "metadata": {},
   "outputs": [],
   "source": [
    "if not os.path.exists(os.path.join('data','mli_file.txt')):\n",
    "    mli_steps = []\n",
    "    for j in range(n_iterations):\n",
    "        mli_train = [set(np.where(in_train)[0].tolist())]\n",
    "        for i in range(n_steps):\n",
    "            # Get the current train set and search space\n",
    "            train_inds = sorted(set(mli_train[-1]))  # Last iteration\n",
    "            search_inds = sorted(all_inds.difference(train_inds))\n",
    "\n",
    "            # Pick entry with the largest maximum value\n",
    "            model.fit(X[train_inds], y[train_inds])\n",
    "            y_pred, y_std = model.predict(X[search_inds], return_std=True)\n",
    "            c = search_inds[np.argmax(np.divide(y_pred - np.max(y[train_inds]), y_std))]\n",
    "            train_inds.append(c)\n",
    "\n",
    "            # Add it to the list of training sets\n",
    "            mli_train.append(set(train_inds))\n",
    "\n",
    "            if c == 57:\n",
    "                mli_steps.append(i)\n",
    "                break\n",
    "    with open(os.path.join('data','mli_file.txt'), 'w') as f:\n",
    "        for item in mli_steps:\n",
    "            f.write(\"%s\\n\" % item)"
   ]
  },
  {
   "cell_type": "markdown",
   "metadata": {},
   "source": [
    "#### Malcolm Selection Strategy\n",
    "Pick the entry voted for the most by 10 identical models"
   ]
  },
  {
   "cell_type": "code",
   "execution_count": 19,
   "metadata": {},
   "outputs": [],
   "source": [
    "if not os.path.exists(os.path.join('data','mss_file.txt')):\n",
    "    num_models = 10\n",
    "    mss_steps = []\n",
    "    for j in range(n_iterations):\n",
    "        mss_train = [set(np.where(in_train)[0].tolist())]\n",
    "        for i in range(n_steps):\n",
    "            # Get the current train set and search space\n",
    "            train_inds = sorted(set(mss_train[-1]))  # Last iteration\n",
    "            search_inds = sorted(all_inds.difference(train_inds))\n",
    "\n",
    "            # create ensemble of models\n",
    "            models = [RandomForestRegressor() for i in range(num_models)]\n",
    "            for model in models:\n",
    "                model.fit(X[train_inds], y[train_inds])\n",
    "\n",
    "            y_predictions = [model.predict(X[search_inds]) for model in models]\n",
    "            y_top = [np.argmax(prediction) for prediction in y_predictions]\n",
    "            y_pred = Counter(y_top).most_common(1)[0][0]\n",
    "\n",
    "            train_inds.append(search_inds[y_pred])\n",
    "\n",
    "            # Add it to the list of training sets\n",
    "            mss_train.append(set(train_inds))\n",
    "            if search_inds[y_pred] == 57:\n",
    "                mss_steps.append(i)\n",
    "                break\n",
    "    with open(os.path.join('data','mss_file.txt'), 'w') as f:\n",
    "        for item in mss_steps:\n",
    "            f.write(\"%s\\n\" % item)"
   ]
  },
  {
   "cell_type": "code",
   "execution_count": 20,
   "metadata": {},
   "outputs": [],
   "source": [
    "if os.path.exists(os.path.join('data','mli_file.txt')) and os.path.exists(os.path.join('data','mei_file.txt')) and os.path.exists(os.path.join('data','mss_file.txt')) and os.path.exists(os.path.join('data','rss_file.txt')):\n",
    "    \n",
    "    with open(os.path.join('data','rss_file.txt'), 'r') as f:\n",
    "            rss_steps = [int(line.rstrip('\\n')) for line in f]\n",
    "    with open(os.path.join('data','mei_file.txt'), 'r') as f:\n",
    "            mei_steps = [int(line.rstrip('\\n')) for line in f]\n",
    "    with open(os.path.join('data','mli_file.txt'), 'r') as f:\n",
    "            mli_steps = [int(line.rstrip('\\n')) for line in f]\n",
    "    with open(os.path.join('data','mss_file.txt'), 'r') as f:\n",
    "            mss_steps = [int(line.rstrip('\\n')) for line in f]\n",
    "        "
   ]
  },
  {
   "cell_type": "markdown",
   "metadata": {},
   "source": [
    "Plot the results"
   ]
  },
  {
   "cell_type": "code",
   "execution_count": 26,
   "metadata": {
    "scrolled": true
   },
   "outputs": [
    {
     "data": {
      "image/png": "[encoded data removed]",
      "text/plain": [
       "<Figure size 468x288 with 1 Axes>"
      ]
     },
     "metadata": {
      "needs_background": "light"
     },
     "output_type": "display_data"
    }
   ],
   "source": [
    "fig, ax = plt.subplots()\n",
    "fig.suptitle('Number of experiments required to find the best zT')\n",
    "search_data = [rss_steps, mei_steps, mli_steps, mss_steps]\n",
    "h_data = [statistics.mean(steps) for steps in search_data]\n",
    "h_err = [statistics.stdev(steps) for steps in search_data]\n",
    "width = 0.35\n",
    "x = np.arange(4)\n",
    "ax.bar(x, h_data, width, yerr=h_err, color=['r','g','b','y'])\n",
    "ax.set_ylim(0,100)\n",
    "ax.set_xlabel('Acquisition Function')\n",
    "ax.set_xticks(x)\n",
    "ax.set_xticklabels(['Random','MEI','MLI','MSS'])\n",
    "ax.set_ylabel('Number of Evaluations')\n",
    "    \n",
    "fig.set_size_inches(6.5, 4)\n",
    "#fig.tight_layout()"
   ]
  },
  {
   "cell_type": "code",
   "execution_count": 29,
   "metadata": {},
   "outputs": [
    {
     "data": {
      "text/plain": [
       "[48.55396825396826, 18.39, 17.64, 18.7]"
      ]
     },
     "execution_count": 29,
     "metadata": {},
     "output_type": "execute_result"
    }
   ],
   "source": [
    "h_data"
   ]
  },
  {
   "cell_type": "code",
   "execution_count": 30,
   "metadata": {},
   "outputs": [
    {
     "data": {
      "text/plain": [
       "[28.769675373765832, 3.1619422492953264, 4.495834210969668, 2.042478193694408]"
      ]
     },
     "execution_count": 30,
     "metadata": {},
     "output_type": "execute_result"
    }
   ],
   "source": [
    "h_err"
   ]
  },
  {
   "cell_type": "code",
   "execution_count": null,
   "metadata": {},
   "outputs": [],
   "source": []
  }
 ],
 "metadata": {
  "kernelspec": {
   "display_name": "Python 3",
   "language": "python",
   "name": "python3"
  },
  "language_info": {
   "codemirror_mode": {
    "name": "ipython",
    "version": 3
   },
   "file_extension": ".py",
   "mimetype": "text/x-python",
   "name": "python",
   "nbconvert_exporter": "python",
   "pygments_lexer": "ipython3",
   "version": "3.7.3"
  }
 },
 "nbformat": 4,
 "nbformat_minor": 2
}
