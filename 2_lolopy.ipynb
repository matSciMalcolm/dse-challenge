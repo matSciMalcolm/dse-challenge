{
 "cells": [
  {
   "cell_type": "code",
   "execution_count": 4,
   "metadata": {},
   "outputs": [],
   "source": [
    "%matplotlib inline\n",
    "from matplotlib import pyplot as plt\n",
    "from matminer.data_retrieval.retrieve_Citrine import CitrineDataRetrieval\n",
    "from matminer.featurizers.base import MultipleFeaturizer\n",
    "from matminer.featurizers import composition as cf\n",
    "from lolopy.learners import RandomForestRegressor\n",
    "from sklearn.model_selection import KFold\n",
    "from pymatgen import Composition\n",
    "from scipy.stats import norm\n",
    "from collections import Counter\n",
    "import pandas as pd\n",
    "import numpy as np\n",
    "import statistics\n",
    "import os"
   ]
  },
  {
   "cell_type": "code",
   "execution_count": 3,
   "metadata": {},
   "outputs": [],
   "source": [
    "# Load Data\n",
    "# Compute features\n",
    "# Run CV\n",
    "# Report"
   ]
  },
  {
   "cell_type": "markdown",
   "metadata": {},
   "source": [
    "## Configure"
   ]
  },
  {
   "cell_type": "code",
   "execution_count": 12,
   "metadata": {},
   "outputs": [],
   "source": [
    "load_path = os.path.join('data','processed_data.csv')\n",
    "api_key = os.environ.get('CITRINATION_API_KEY')\n",
    "site = 'https://citrination.com'\n",
    "config_path = os.path.join('config','config.json')\n",
    "dataset_name = 'dse_challenge_binary_0'\n",
    "np.random.seed(8)"
   ]
  },
  {
   "cell_type": "markdown",
   "metadata": {},
   "source": [
    "## Load data"
   ]
  },
  {
   "cell_type": "code",
   "execution_count": 37,
   "metadata": {
    "scrolled": true
   },
   "outputs": [
    {
     "name": "stdout",
     "output_type": "stream",
     "text": [
      "'Loaded 25802 records.'\n"
     ]
    }
   ],
   "source": [
    "data = pd.read_csv(load_path)\n",
    "pprint(f\"Loaded {len(df.index)} records.\")"
   ]
  },
  {
   "cell_type": "code",
   "execution_count": 38,
   "metadata": {},
   "outputs": [],
   "source": [
    "def get_compostion(c):\n",
    "    \"\"\"Attempt to parse composition, return None if failed\"\"\"\n",
    "    \n",
    "    try:\n",
    "        return Composition(c)\n",
    "    except:\n",
    "        return None"
   ]
  },
  {
   "cell_type": "code",
   "execution_count": 39,
   "metadata": {},
   "outputs": [],
   "source": [
    "data['composition'] = data['formula'].apply(get_compostion)"
   ]
  },
  {
   "cell_type": "code",
   "execution_count": 45,
   "metadata": {},
   "outputs": [],
   "source": [
    "data = data[['composition','stable']]"
   ]
  },
  {
   "cell_type": "code",
   "execution_count": 46,
   "metadata": {},
   "outputs": [],
   "source": [
    "data.reset_index(drop=True, inplace=True)"
   ]
  },
  {
   "cell_type": "markdown",
   "metadata": {},
   "source": [
    "## Compute features using matminer"
   ]
  },
  {
   "cell_type": "code",
   "execution_count": 24,
   "metadata": {},
   "outputs": [],
   "source": [
    "f =  MultipleFeaturizer([cf.Stoichiometry(), cf.ElementProperty.from_preset(\"magpie\"),\n",
    "                         cf.ValenceOrbital(props=['avg']), cf.IonProperty(fast=True)])"
   ]
  },
  {
   "cell_type": "code",
   "execution_count": 25,
   "metadata": {
    "scrolled": true
   },
   "outputs": [
    {
     "data": {
      "application/vnd.jupyter.widget-view+json": {
       "model_id": "16fffe7ef72642718c1566c4c050df5b",
       "version_major": 2,
       "version_minor": 0
      },
      "text/plain": [
       "HBox(children=(IntProgress(value=0, description='MultipleFeaturizer', max=25802, style=ProgressStyle(descripti…"
      ]
     },
     "metadata": {},
     "output_type": "display_data"
    },
    {
     "name": "stderr",
     "output_type": "stream",
     "text": [
      "/Users/malcolmdavidson/anaconda3/envs/dse-challenge/lib/python3.7/site-packages/pymatgen/core/periodic_table.py:427: UserWarning:\n",
      "\n",
      "No electronegativity for Ne. Setting to NaN. This has no physical meaning, and is mainly done to avoid errors caused by the code expecting a float.\n",
      "\n",
      "/Users/malcolmdavidson/anaconda3/envs/dse-challenge/lib/python3.7/site-packages/pymatgen/core/periodic_table.py:427: UserWarning:\n",
      "\n",
      "No electronegativity for He. Setting to NaN. This has no physical meaning, and is mainly done to avoid errors caused by the code expecting a float.\n",
      "\n",
      "/Users/malcolmdavidson/anaconda3/envs/dse-challenge/lib/python3.7/site-packages/pymatgen/core/periodic_table.py:427: UserWarning:\n",
      "\n",
      "No electronegativity for Ar. Setting to NaN. This has no physical meaning, and is mainly done to avoid errors caused by the code expecting a float.\n",
      "\n",
      "/Users/malcolmdavidson/anaconda3/envs/dse-challenge/lib/python3.7/site-packages/pymatgen/core/periodic_table.py:427: UserWarning:\n",
      "\n",
      "No electronegativity for Ar. Setting to NaN. This has no physical meaning, and is mainly done to avoid errors caused by the code expecting a float.\n",
      "\n",
      "/Users/malcolmdavidson/anaconda3/envs/dse-challenge/lib/python3.7/site-packages/pymatgen/core/periodic_table.py:427: UserWarning:\n",
      "\n",
      "No electronegativity for Ne. Setting to NaN. This has no physical meaning, and is mainly done to avoid errors caused by the code expecting a float.\n",
      "\n",
      "/Users/malcolmdavidson/anaconda3/envs/dse-challenge/lib/python3.7/site-packages/pymatgen/core/periodic_table.py:427: UserWarning:\n",
      "\n",
      "No electronegativity for Ne. Setting to NaN. This has no physical meaning, and is mainly done to avoid errors caused by the code expecting a float.\n",
      "\n",
      "/Users/malcolmdavidson/anaconda3/envs/dse-challenge/lib/python3.7/site-packages/pymatgen/core/periodic_table.py:427: UserWarning:\n",
      "\n",
      "No electronegativity for He. Setting to NaN. This has no physical meaning, and is mainly done to avoid errors caused by the code expecting a float.\n",
      "\n",
      "/Users/malcolmdavidson/anaconda3/envs/dse-challenge/lib/python3.7/site-packages/pymatgen/core/periodic_table.py:427: UserWarning:\n",
      "\n",
      "No electronegativity for Ne. Setting to NaN. This has no physical meaning, and is mainly done to avoid errors caused by the code expecting a float.\n",
      "\n",
      "/Users/malcolmdavidson/anaconda3/envs/dse-challenge/lib/python3.7/site-packages/pymatgen/core/periodic_table.py:427: UserWarning:\n",
      "\n",
      "No electronegativity for Ar. Setting to NaN. This has no physical meaning, and is mainly done to avoid errors caused by the code expecting a float.\n",
      "\n",
      "/Users/malcolmdavidson/anaconda3/envs/dse-challenge/lib/python3.7/site-packages/pymatgen/core/periodic_table.py:427: UserWarning:\n",
      "\n",
      "No electronegativity for He. Setting to NaN. This has no physical meaning, and is mainly done to avoid errors caused by the code expecting a float.\n",
      "\n",
      "/Users/malcolmdavidson/anaconda3/envs/dse-challenge/lib/python3.7/site-packages/pymatgen/core/periodic_table.py:427: UserWarning:\n",
      "\n",
      "No electronegativity for Ar. Setting to NaN. This has no physical meaning, and is mainly done to avoid errors caused by the code expecting a float.\n",
      "\n",
      "/Users/malcolmdavidson/anaconda3/envs/dse-challenge/lib/python3.7/site-packages/pymatgen/core/periodic_table.py:427: UserWarning:\n",
      "\n",
      "No electronegativity for He. Setting to NaN. This has no physical meaning, and is mainly done to avoid errors caused by the code expecting a float.\n",
      "\n"
     ]
    },
    {
     "name": "stdout",
     "output_type": "stream",
     "text": [
      "\n"
     ]
    }
   ],
   "source": [
    "X = np.array(f.featurize_many(data['composition']))"
   ]
  },
  {
   "cell_type": "markdown",
   "metadata": {},
   "source": [
    "## Run cross validation"
   ]
  },
  {
   "cell_type": "code",
   "execution_count": 47,
   "metadata": {},
   "outputs": [],
   "source": [
    "model = RandomForestRegressor()"
   ]
  },
  {
   "cell_type": "code",
   "execution_count": 48,
   "metadata": {},
   "outputs": [],
   "source": [
    "y = data['stable'].values"
   ]
  },
  {
   "cell_type": "code",
   "execution_count": null,
   "metadata": {},
   "outputs": [
    {
     "name": "stderr",
     "output_type": "stream",
     "text": [
      "ERROR:root:Exception while sending command.\n",
      "Traceback (most recent call last):\n",
      "  File \"/Users/malcolmdavidson/anaconda3/envs/dse-challenge/lib/python3.7/site-packages/IPython/core/interactiveshell.py\", line 3296, in run_code\n",
      "    exec(code_obj, self.user_global_ns, self.user_ns)\n",
      "  File \"<ipython-input-49-933029d890b2>\", line 4, in <module>\n",
      "    model.fit(X[train_id], y[train_id])\n",
      "  File \"/Users/malcolmdavidson/anaconda3/envs/dse-challenge/lib/python3.7/site-packages/lolopy/learners.py\", line 79, in fit\n",
      "    result = learner.train(train_data, self.gateway.jvm.scala.Some(weights_java))\n",
      "  File \"/Users/malcolmdavidson/anaconda3/envs/dse-challenge/lib/python3.7/site-packages/py4j/java_gateway.py\", line 1284, in __call__\n",
      "    answer = self.gateway_client.send_command(command)\n",
      "  File \"/Users/malcolmdavidson/anaconda3/envs/dse-challenge/lib/python3.7/site-packages/py4j/java_gateway.py\", line 1014, in send_command\n",
      "    response = connection.send_command(command)\n",
      "  File \"/Users/malcolmdavidson/anaconda3/envs/dse-challenge/lib/python3.7/site-packages/py4j/java_gateway.py\", line 1181, in send_command\n",
      "    answer = smart_decode(self.stream.readline()[:-1])\n",
      "  File \"/Users/malcolmdavidson/anaconda3/envs/dse-challenge/lib/python3.7/socket.py\", line 589, in readinto\n",
      "    return self._sock.recv_into(b)\n",
      "KeyboardInterrupt\n",
      "\n",
      "During handling of the above exception, another exception occurred:\n",
      "\n",
      "Traceback (most recent call last):\n",
      "  File \"/Users/malcolmdavidson/anaconda3/envs/dse-challenge/lib/python3.7/site-packages/IPython/core/interactiveshell.py\", line 2033, in showtraceback\n",
      "    stb = value._render_traceback_()\n",
      "AttributeError: 'KeyboardInterrupt' object has no attribute '_render_traceback_'\n",
      "\n",
      "During handling of the above exception, another exception occurred:\n",
      "\n",
      "Traceback (most recent call last):\n",
      "  File \"/Users/malcolmdavidson/anaconda3/envs/dse-challenge/lib/python3.7/site-packages/py4j/java_gateway.py\", line 1188, in send_command\n",
      "    raise Py4JNetworkError(\"Answer from Java side is empty\")\n",
      "py4j.protocol.Py4JNetworkError: Answer from Java side is empty\n",
      "\n",
      "During handling of the above exception, another exception occurred:\n",
      "\n",
      "Traceback (most recent call last):\n",
      "  File \"/Users/malcolmdavidson/anaconda3/envs/dse-challenge/lib/python3.7/site-packages/py4j/java_gateway.py\", line 1014, in send_command\n",
      "    response = connection.send_command(command)\n",
      "  File \"/Users/malcolmdavidson/anaconda3/envs/dse-challenge/lib/python3.7/site-packages/py4j/java_gateway.py\", line 1193, in send_command\n",
      "    \"Error while receiving\", e, proto.ERROR_ON_RECEIVE)\n",
      "py4j.protocol.Py4JNetworkError: Error while receiving\n",
      "ERROR:py4j.java_gateway:An error occurred while trying to connect to the Java server (127.0.0.1:59422)\n",
      "Traceback (most recent call last):\n",
      "  File \"/Users/malcolmdavidson/anaconda3/envs/dse-challenge/lib/python3.7/site-packages/IPython/core/interactiveshell.py\", line 3296, in run_code\n",
      "    exec(code_obj, self.user_global_ns, self.user_ns)\n",
      "  File \"<ipython-input-49-933029d890b2>\", line 4, in <module>\n",
      "    model.fit(X[train_id], y[train_id])\n",
      "  File \"/Users/malcolmdavidson/anaconda3/envs/dse-challenge/lib/python3.7/site-packages/lolopy/learners.py\", line 79, in fit\n",
      "    result = learner.train(train_data, self.gateway.jvm.scala.Some(weights_java))\n",
      "  File \"/Users/malcolmdavidson/anaconda3/envs/dse-challenge/lib/python3.7/site-packages/py4j/java_gateway.py\", line 1284, in __call__\n",
      "    answer = self.gateway_client.send_command(command)\n",
      "  File \"/Users/malcolmdavidson/anaconda3/envs/dse-challenge/lib/python3.7/site-packages/py4j/java_gateway.py\", line 1014, in send_command\n",
      "    response = connection.send_command(command)\n",
      "  File \"/Users/malcolmdavidson/anaconda3/envs/dse-challenge/lib/python3.7/site-packages/py4j/java_gateway.py\", line 1181, in send_command\n",
      "    answer = smart_decode(self.stream.readline()[:-1])\n",
      "  File \"/Users/malcolmdavidson/anaconda3/envs/dse-challenge/lib/python3.7/socket.py\", line 589, in readinto\n",
      "    return self._sock.recv_into(b)\n",
      "KeyboardInterrupt\n",
      "\n",
      "During handling of the above exception, another exception occurred:\n",
      "\n",
      "Traceback (most recent call last):\n",
      "  File \"/Users/malcolmdavidson/anaconda3/envs/dse-challenge/lib/python3.7/site-packages/IPython/core/interactiveshell.py\", line 2033, in showtraceback\n",
      "    stb = value._render_traceback_()\n",
      "AttributeError: 'KeyboardInterrupt' object has no attribute '_render_traceback_'\n",
      "\n",
      "During handling of the above exception, another exception occurred:\n",
      "\n",
      "Traceback (most recent call last):\n",
      "  File \"/Users/malcolmdavidson/anaconda3/envs/dse-challenge/lib/python3.7/site-packages/py4j/java_gateway.py\", line 958, in _get_connection\n",
      "    connection = self.deque.pop()\n",
      "IndexError: pop from an empty deque\n",
      "\n",
      "During handling of the above exception, another exception occurred:\n",
      "\n",
      "Traceback (most recent call last):\n",
      "  File \"/Users/malcolmdavidson/anaconda3/envs/dse-challenge/lib/python3.7/site-packages/py4j/java_gateway.py\", line 1096, in start\n",
      "    self.socket.connect((self.address, self.port))\n",
      "ConnectionRefusedError: [Errno 61] Connection refused\n",
      "ERROR:py4j.java_gateway:An error occurred while trying to connect to the Java server (127.0.0.1:59422)\n",
      "Traceback (most recent call last):\n",
      "  File \"/Users/malcolmdavidson/anaconda3/envs/dse-challenge/lib/python3.7/site-packages/IPython/core/interactiveshell.py\", line 3296, in run_code\n",
      "    exec(code_obj, self.user_global_ns, self.user_ns)\n",
      "  File \"<ipython-input-49-933029d890b2>\", line 4, in <module>\n",
      "    model.fit(X[train_id], y[train_id])\n",
      "  File \"/Users/malcolmdavidson/anaconda3/envs/dse-challenge/lib/python3.7/site-packages/lolopy/learners.py\", line 79, in fit\n",
      "    result = learner.train(train_data, self.gateway.jvm.scala.Some(weights_java))\n",
      "  File \"/Users/malcolmdavidson/anaconda3/envs/dse-challenge/lib/python3.7/site-packages/py4j/java_gateway.py\", line 1284, in __call__\n",
      "    answer = self.gateway_client.send_command(command)\n",
      "  File \"/Users/malcolmdavidson/anaconda3/envs/dse-challenge/lib/python3.7/site-packages/py4j/java_gateway.py\", line 1014, in send_command\n",
      "    response = connection.send_command(command)\n",
      "  File \"/Users/malcolmdavidson/anaconda3/envs/dse-challenge/lib/python3.7/site-packages/py4j/java_gateway.py\", line 1181, in send_command\n",
      "    answer = smart_decode(self.stream.readline()[:-1])\n",
      "  File \"/Users/malcolmdavidson/anaconda3/envs/dse-challenge/lib/python3.7/socket.py\", line 589, in readinto\n",
      "    return self._sock.recv_into(b)\n",
      "KeyboardInterrupt\n",
      "\n",
      "During handling of the above exception, another exception occurred:\n",
      "\n",
      "Traceback (most recent call last):\n",
      "  File \"/Users/malcolmdavidson/anaconda3/envs/dse-challenge/lib/python3.7/site-packages/IPython/core/interactiveshell.py\", line 2033, in showtraceback\n",
      "    stb = value._render_traceback_()\n",
      "AttributeError: 'KeyboardInterrupt' object has no attribute '_render_traceback_'\n",
      "\n",
      "During handling of the above exception, another exception occurred:\n",
      "\n",
      "Traceback (most recent call last):\n",
      "  File \"/Users/malcolmdavidson/anaconda3/envs/dse-challenge/lib/python3.7/site-packages/py4j/java_gateway.py\", line 958, in _get_connection\n",
      "    connection = self.deque.pop()\n",
      "IndexError: pop from an empty deque\n",
      "\n",
      "During handling of the above exception, another exception occurred:\n",
      "\n",
      "Traceback (most recent call last):\n",
      "  File \"/Users/malcolmdavidson/anaconda3/envs/dse-challenge/lib/python3.7/site-packages/py4j/java_gateway.py\", line 1096, in start\n",
      "    self.socket.connect((self.address, self.port))\n",
      "ConnectionRefusedError: [Errno 61] Connection refused\n",
      "ERROR:py4j.java_gateway:An error occurred while trying to connect to the Java server (127.0.0.1:59422)\n",
      "Traceback (most recent call last):\n",
      "  File \"/Users/malcolmdavidson/anaconda3/envs/dse-challenge/lib/python3.7/site-packages/IPython/core/interactiveshell.py\", line 3296, in run_code\n",
      "    exec(code_obj, self.user_global_ns, self.user_ns)\n",
      "  File \"<ipython-input-49-933029d890b2>\", line 4, in <module>\n",
      "    model.fit(X[train_id], y[train_id])\n",
      "  File \"/Users/malcolmdavidson/anaconda3/envs/dse-challenge/lib/python3.7/site-packages/lolopy/learners.py\", line 79, in fit\n",
      "    result = learner.train(train_data, self.gateway.jvm.scala.Some(weights_java))\n",
      "  File \"/Users/malcolmdavidson/anaconda3/envs/dse-challenge/lib/python3.7/site-packages/py4j/java_gateway.py\", line 1284, in __call__\n",
      "    answer = self.gateway_client.send_command(command)\n",
      "  File \"/Users/malcolmdavidson/anaconda3/envs/dse-challenge/lib/python3.7/site-packages/py4j/java_gateway.py\", line 1014, in send_command\n",
      "    response = connection.send_command(command)\n",
      "  File \"/Users/malcolmdavidson/anaconda3/envs/dse-challenge/lib/python3.7/site-packages/py4j/java_gateway.py\", line 1181, in send_command\n",
      "    answer = smart_decode(self.stream.readline()[:-1])\n",
      "  File \"/Users/malcolmdavidson/anaconda3/envs/dse-challenge/lib/python3.7/socket.py\", line 589, in readinto\n",
      "    return self._sock.recv_into(b)\n",
      "KeyboardInterrupt\n",
      "\n",
      "During handling of the above exception, another exception occurred:\n",
      "\n",
      "Traceback (most recent call last):\n",
      "  File \"/Users/malcolmdavidson/anaconda3/envs/dse-challenge/lib/python3.7/site-packages/IPython/core/interactiveshell.py\", line 2033, in showtraceback\n",
      "    stb = value._render_traceback_()\n",
      "AttributeError: 'KeyboardInterrupt' object has no attribute '_render_traceback_'\n",
      "\n",
      "During handling of the above exception, another exception occurred:\n",
      "\n",
      "Traceback (most recent call last):\n",
      "  File \"/Users/malcolmdavidson/anaconda3/envs/dse-challenge/lib/python3.7/site-packages/py4j/java_gateway.py\", line 958, in _get_connection\n",
      "    connection = self.deque.pop()\n",
      "IndexError: pop from an empty deque\n",
      "\n",
      "During handling of the above exception, another exception occurred:\n",
      "\n",
      "Traceback (most recent call last):\n",
      "  File \"/Users/malcolmdavidson/anaconda3/envs/dse-challenge/lib/python3.7/site-packages/py4j/java_gateway.py\", line 1096, in start\n",
      "    self.socket.connect((self.address, self.port))\n",
      "ConnectionRefusedError: [Errno 61] Connection refused\n"
     ]
    },
    {
     "name": "stderr",
     "output_type": "stream",
     "text": [
      "ERROR:py4j.java_gateway:An error occurred while trying to connect to the Java server (127.0.0.1:59422)\n",
      "Traceback (most recent call last):\n",
      "  File \"/Users/malcolmdavidson/anaconda3/envs/dse-challenge/lib/python3.7/site-packages/IPython/core/interactiveshell.py\", line 3296, in run_code\n",
      "    exec(code_obj, self.user_global_ns, self.user_ns)\n",
      "  File \"<ipython-input-49-933029d890b2>\", line 4, in <module>\n",
      "    model.fit(X[train_id], y[train_id])\n",
      "  File \"/Users/malcolmdavidson/anaconda3/envs/dse-challenge/lib/python3.7/site-packages/lolopy/learners.py\", line 79, in fit\n",
      "    result = learner.train(train_data, self.gateway.jvm.scala.Some(weights_java))\n",
      "  File \"/Users/malcolmdavidson/anaconda3/envs/dse-challenge/lib/python3.7/site-packages/py4j/java_gateway.py\", line 1284, in __call__\n",
      "    answer = self.gateway_client.send_command(command)\n",
      "  File \"/Users/malcolmdavidson/anaconda3/envs/dse-challenge/lib/python3.7/site-packages/py4j/java_gateway.py\", line 1014, in send_command\n",
      "    response = connection.send_command(command)\n",
      "  File \"/Users/malcolmdavidson/anaconda3/envs/dse-challenge/lib/python3.7/site-packages/py4j/java_gateway.py\", line 1181, in send_command\n",
      "    answer = smart_decode(self.stream.readline()[:-1])\n",
      "  File \"/Users/malcolmdavidson/anaconda3/envs/dse-challenge/lib/python3.7/socket.py\", line 589, in readinto\n",
      "    return self._sock.recv_into(b)\n",
      "KeyboardInterrupt\n",
      "\n",
      "During handling of the above exception, another exception occurred:\n",
      "\n",
      "Traceback (most recent call last):\n",
      "  File \"/Users/malcolmdavidson/anaconda3/envs/dse-challenge/lib/python3.7/site-packages/IPython/core/interactiveshell.py\", line 2033, in showtraceback\n",
      "    stb = value._render_traceback_()\n",
      "AttributeError: 'KeyboardInterrupt' object has no attribute '_render_traceback_'\n",
      "\n",
      "During handling of the above exception, another exception occurred:\n",
      "\n",
      "Traceback (most recent call last):\n",
      "  File \"/Users/malcolmdavidson/anaconda3/envs/dse-challenge/lib/python3.7/site-packages/py4j/java_gateway.py\", line 958, in _get_connection\n",
      "    connection = self.deque.pop()\n",
      "IndexError: pop from an empty deque\n",
      "\n",
      "During handling of the above exception, another exception occurred:\n",
      "\n",
      "Traceback (most recent call last):\n",
      "  File \"/Users/malcolmdavidson/anaconda3/envs/dse-challenge/lib/python3.7/site-packages/py4j/java_gateway.py\", line 1096, in start\n",
      "    self.socket.connect((self.address, self.port))\n",
      "ConnectionRefusedError: [Errno 61] Connection refused\n"
     ]
    }
   ],
   "source": [
    "y_resid = []\n",
    "y_uncer = []\n",
    "for train_id, test_id in KFold(8, shuffle=True).split(X):\n",
    "    model.fit(X[train_id], y[train_id])\n",
    "    yf_pred, yf_std = model.predict(X[test_id], return_std=True)\n",
    "    y_resid.extend(yf_pred - y[test_id])\n",
    "    y_uncer.extend(yf_std)"
   ]
  },
  {
   "cell_type": "code",
   "execution_count": null,
   "metadata": {},
   "outputs": [],
   "source": []
  }
 ],
 "metadata": {
  "kernelspec": {
   "display_name": "Python 3",
   "language": "python",
   "name": "python3"
  },
  "language_info": {
   "codemirror_mode": {
    "name": "ipython",
    "version": 3
   },
   "file_extension": ".py",
   "mimetype": "text/x-python",
   "name": "python",
   "nbconvert_exporter": "python",
   "pygments_lexer": "ipython3",
   "version": "3.7.3"
  }
 },
 "nbformat": 4,
 "nbformat_minor": 2
}
