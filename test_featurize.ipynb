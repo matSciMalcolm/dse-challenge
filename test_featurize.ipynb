{
 "cells": [
  {
   "cell_type": "code",
   "execution_count": 238,
   "metadata": {},
   "outputs": [],
   "source": [
    "%autoreload 1\n",
    "\n",
    "#### Standard Libraries ####\n",
    "import os\n",
    "from pprint import pprint\n",
    "import numpy as np\n",
    "import pandas as pd\n",
    "import multiprocessing as mp\n",
    "from functools import partial\n",
    "from itertools import product\n",
    "import timeit\n",
    "import uuid\n",
    "\n",
    "#### third-party Libraries ####\n",
    "from sklearn.svm import SVC\n",
    "from sklearn.naive_bayes import GaussianNB\n",
    "from sklearn.ensemble import RandomForestClassifier as SRC\n",
    "from lolopy.learners import RandomForestClassifier as LRC\n",
    "from sklearn.linear_model import LogisticRegression\n",
    "from sklearn.dummy import DummyClassifier\n",
    "from matminer.featurizers.base import MultipleFeaturizer\n",
    "from pymatgen import Composition\n",
    "\n",
    "#### Local Libraries ####\n",
    "from utils import (Result, run_k_folds, \n",
    "                   report_column_labels,\n",
    "                   compile_data)\n",
    "from data_manager import DataManager\n",
    "%aimport featurizer"
   ]
  },
  {
   "cell_type": "code",
   "execution_count": 245,
   "metadata": {},
   "outputs": [],
   "source": [
    "# configuration\n",
    "np.random.seed(8)\n",
    "load_path = os.path.join('data','training_data.csv')\n",
    "save_path = os.path.join('results','test_baseline.csv')\n",
    "mp_api_key = '7n6DwPUQ5cf8ZTWO'\n",
    "oversample = False\n",
    "data_ramp = False\n",
    "feature_set = ['electronegativity']\n",
    "#feature_set = ['energy_b']"
   ]
  },
  {
   "cell_type": "code",
   "execution_count": 246,
   "metadata": {},
   "outputs": [
    {
     "name": "stdout",
     "output_type": "stream",
     "text": [
      "'Loaded 2572 records.'\n"
     ]
    }
   ],
   "source": [
    "# Load Data\n",
    "dm = DataManager(load_path, save_path)\n",
    "dm.load()\n",
    "dm.sample_data(1)"
   ]
  },
  {
   "cell_type": "code",
   "execution_count": 247,
   "metadata": {},
   "outputs": [],
   "source": [
    "# Format and careate composition objects\n",
    "#dm.compute_formula()\n",
    "dm.to_binary_classes()\n",
    "dm.get_pymatgen_composition()\n",
    "dm.remove_noble_gasses()\n",
    "dm.remove_features()"
   ]
  },
  {
   "cell_type": "code",
   "execution_count": 248,
   "metadata": {},
   "outputs": [],
   "source": [
    "f = Featurizer(feature_set, mp_api_key)"
   ]
  },
  {
   "cell_type": "code",
   "execution_count": 249,
   "metadata": {},
   "outputs": [
    {
     "data": {
      "application/vnd.jupyter.widget-view+json": {
       "model_id": "dce6f0c05d3e410eb2ecb580c14efda6",
       "version_major": 2,
       "version_minor": 0
      },
      "text/plain": [
       "HBox(children=(IntProgress(value=0, description='MultipleFeaturizer', max=11, style=ProgressStyle(description_…"
      ]
     },
     "metadata": {},
     "output_type": "display_data"
    },
    {
     "name": "stdout",
     "output_type": "stream",
     "text": [
      "\n"
     ]
    }
   ],
   "source": [
    "dm.featurized_data = f.featurize(dm.data)"
   ]
  },
  {
   "cell_type": "code",
   "execution_count": 250,
   "metadata": {},
   "outputs": [
    {
     "data": {
      "text/plain": [
       "array([[0., 0., 0., 0., 0., 0., 0., 0., 0.],\n",
       "       [0., 0., 0., 0., 0., 0., 0., 0., 0.],\n",
       "       [0., 0., 0., 0., 0., 0., 0., 0., 0.],\n",
       "       [0., 0., 0., 0., 0., 0., 0., 0., 0.],\n",
       "       [0., 0., 0., 0., 0., 0., 0., 0., 0.],\n",
       "       [0., 0., 0., 0., 0., 0., 0., 0., 0.],\n",
       "       [0., 0., 0., 0., 0., 0., 0., 0., 0.],\n",
       "       [0., 0., 0., 0., 0., 0., 0., 0., 0.],\n",
       "       [0., 0., 0., 0., 0., 0., 0., 0., 0.],\n",
       "       [0., 0., 0., 0., 0., 0., 0., 0., 0.],\n",
       "       [0., 0., 0., 0., 0., 0., 0., 0., 0.]])"
      ]
     },
     "execution_count": 250,
     "metadata": {},
     "output_type": "execute_result"
    }
   ],
   "source": [
    "dm.featurized_data"
   ]
  },
  {
   "cell_type": "code",
   "execution_count": 74,
   "metadata": {},
   "outputs": [],
   "source": [
    "from matminer.featurizers import composition as cf\n",
    "features = [cf.CohesiveEnergy(mapi_key=mp_api_key)]\n",
    "f = MultipleFeaturizer(features)"
   ]
  },
  {
   "cell_type": "code",
   "execution_count": 75,
   "metadata": {},
   "outputs": [
    {
     "data": {
      "application/vnd.jupyter.widget-view+json": {
       "model_id": "0bb410af90ee43fa96f95fff0dba27e7",
       "version_major": 2,
       "version_minor": 0
      },
      "text/plain": [
       "HBox(children=(IntProgress(value=0, description='MultipleFeaturizer', max=1, style=ProgressStyle(description_w…"
      ]
     },
     "metadata": {},
     "output_type": "display_data"
    },
    {
     "name": "stdout",
     "output_type": "stream",
     "text": [
      "\n"
     ]
    }
   ],
   "source": [
    "dm.featurized_data = f.featurize_many(dm.data['composition'], ignore_errors=True)\n"
   ]
  },
  {
   "cell_type": "code",
   "execution_count": 78,
   "metadata": {},
   "outputs": [
    {
     "data": {
      "text/plain": [
       "3.3614263291300004"
      ]
     },
     "execution_count": 78,
     "metadata": {},
     "output_type": "execute_result"
    }
   ],
   "source": [
    "dm.featurized_data[0][0]"
   ]
  },
  {
   "cell_type": "code",
   "execution_count": 32,
   "metadata": {},
   "outputs": [
    {
     "data": {
      "text/html": [
       "<div>\n",
       "<style scoped>\n",
       "    .dataframe tbody tr th:only-of-type {\n",
       "        vertical-align: middle;\n",
       "    }\n",
       "\n",
       "    .dataframe tbody tr th {\n",
       "        vertical-align: top;\n",
       "    }\n",
       "\n",
       "    .dataframe thead th {\n",
       "        text-align: right;\n",
       "    }\n",
       "</style>\n",
       "<table border=\"1\" class=\"dataframe\">\n",
       "  <thead>\n",
       "    <tr style=\"text-align: right;\">\n",
       "      <th></th>\n",
       "      <th>formula</th>\n",
       "      <th>formulaA</th>\n",
       "      <th>formulaB</th>\n",
       "      <th>composition</th>\n",
       "      <th>group</th>\n",
       "      <th>stable</th>\n",
       "    </tr>\n",
       "  </thead>\n",
       "  <tbody>\n",
       "    <tr>\n",
       "      <th>0</th>\n",
       "      <td>Br</td>\n",
       "      <td>(Br)</td>\n",
       "      <td>(Zr)</td>\n",
       "      <td>(Br)</td>\n",
       "      <td>0</td>\n",
       "      <td>1</td>\n",
       "    </tr>\n",
       "    <tr>\n",
       "      <th>1</th>\n",
       "      <td>Si</td>\n",
       "      <td>(Si)</td>\n",
       "      <td>(Ne)</td>\n",
       "      <td>(Si)</td>\n",
       "      <td>1</td>\n",
       "      <td>1</td>\n",
       "    </tr>\n",
       "    <tr>\n",
       "      <th>2</th>\n",
       "      <td>Y</td>\n",
       "      <td>(Y)</td>\n",
       "      <td>(Sn)</td>\n",
       "      <td>(Y)</td>\n",
       "      <td>3</td>\n",
       "      <td>1</td>\n",
       "    </tr>\n",
       "    <tr>\n",
       "      <th>3</th>\n",
       "      <td>K</td>\n",
       "      <td>(K)</td>\n",
       "      <td>(Sn)</td>\n",
       "      <td>(K)</td>\n",
       "      <td>4</td>\n",
       "      <td>1</td>\n",
       "    </tr>\n",
       "    <tr>\n",
       "      <th>4</th>\n",
       "      <td>Te</td>\n",
       "      <td>(Te)</td>\n",
       "      <td>(Se)</td>\n",
       "      <td>(Te)</td>\n",
       "      <td>5</td>\n",
       "      <td>1</td>\n",
       "    </tr>\n",
       "  </tbody>\n",
       "</table>\n",
       "</div>"
      ],
      "text/plain": [
       "  formula formulaA formulaB composition  group  stable\n",
       "0      Br     (Br)     (Zr)        (Br)      0       1\n",
       "1      Si     (Si)     (Ne)        (Si)      1       1\n",
       "2       Y      (Y)     (Sn)         (Y)      3       1\n",
       "3       K      (K)     (Sn)         (K)      4       1\n",
       "4      Te     (Te)     (Se)        (Te)      5       1"
      ]
     },
     "execution_count": 32,
     "metadata": {},
     "output_type": "execute_result"
    }
   ],
   "source": [
    "dm.data.head()"
   ]
  },
  {
   "cell_type": "code",
   "execution_count": 31,
   "metadata": {},
   "outputs": [
    {
     "data": {
      "text/plain": [
       "[[1.22],\n",
       " [4.63],\n",
       " [4.37],\n",
       " [0.934],\n",
       " [2.19],\n",
       " [5.81],\n",
       " [4.28],\n",
       " [5.31],\n",
       " [nan],\n",
       " [nan],\n",
       " [nan],\n",
       " [nan],\n",
       " [nan],\n",
       " [nan],\n",
       " [3.596110979],\n",
       " [nan],\n",
       " [nan],\n",
       " [nan],\n",
       " [nan],\n",
       " [nan],\n",
       " [4.13674427],\n",
       " [nan],\n",
       " [1.5933909569999998],\n",
       " [nan],\n",
       " [nan],\n",
       " [nan],\n",
       " [nan],\n",
       " [nan],\n",
       " [nan],\n",
       " [nan],\n",
       " [nan],\n",
       " [nan],\n",
       " [4.7431766175],\n",
       " [4.3414006574999995],\n",
       " [2.329973943375],\n",
       " [2.3325621809635417],\n",
       " [3.493027030000001],\n",
       " [nan],\n",
       " [nan],\n",
       " [nan],\n",
       " [nan],\n",
       " [nan],\n",
       " [nan],\n",
       " [nan],\n",
       " [nan],\n",
       " [4.1613667266666665],\n",
       " [2.6495544651666667],\n",
       " [2.375556925729166],\n",
       " [3.283997586666667],\n",
       " [nan],\n",
       " [nan],\n",
       " [nan],\n",
       " [nan],\n",
       " [nan],\n",
       " [nan],\n",
       " [nan],\n",
       " [nan],\n",
       " [nan],\n",
       " [nan],\n",
       " [nan],\n",
       " [nan],\n",
       " [nan],\n",
       " [6.25],\n",
       " [3.14],\n",
       " [2.46],\n",
       " [2.75],\n",
       " [8.03]]"
      ]
     },
     "execution_count": 31,
     "metadata": {},
     "output_type": "execute_result"
    }
   ],
   "source": [
    "# For a single element it works\n",
    "dm.featurized_data"
   ]
  },
  {
   "cell_type": "markdown",
   "metadata": {},
   "source": [
    "## Notes 07/26/2019\n",
    "Using the dictionary approach I am now able to get some cohesive energies. I am still getting many NAN's so I would like to include a weighted energy for the constitiuent atoms. One idea for how to do this, is to try and pass multiple columns to `featurize_many`. To do this I will need to add an `element` column to the data. May consider using PMG's `reduced_formula` in place of a dictionary.\n",
    "\n",
    "### Update\n",
    "It looks like this will not work, we will need to loop through and featurize each column. We also need to retain element a and b."
   ]
  },
  {
   "cell_type": "code",
   "execution_count": 115,
   "metadata": {},
   "outputs": [],
   "source": [
    "# Add an element column to the data\n",
    "# Can I do this using the pmg composition object?\n",
    "def _get_composition(c):\n",
    "    \"\"\"Attempt to parse composition, return None if failed\"\"\"\n",
    "    try:\n",
    "        return Composition(c)\n",
    "    except:\n",
    "        return None"
   ]
  },
  {
   "cell_type": "code",
   "execution_count": 116,
   "metadata": {},
   "outputs": [],
   "source": [
    "dm.data['element_a'] = dm.data['formulaA'].apply(_get_composition)"
   ]
  },
  {
   "cell_type": "code",
   "execution_count": 117,
   "metadata": {},
   "outputs": [],
   "source": [
    "dm.data['element_b'] = dm.data['formulaB'].apply(_get_composition)"
   ]
  },
  {
   "cell_type": "code",
   "execution_count": 119,
   "metadata": {},
   "outputs": [],
   "source": [
    "dm.data = dm.data[['element_a', 'element_b', 'composition', 'formula']]"
   ]
  },
  {
   "cell_type": "code",
   "execution_count": 125,
   "metadata": {},
   "outputs": [
    {
     "data": {
      "application/vnd.jupyter.widget-view+json": {
       "model_id": "a7a859d947854e66838ae19c355b90b5",
       "version_major": 2,
       "version_minor": 0
      },
      "text/plain": [
       "HBox(children=(IntProgress(value=0, description='MultipleFeaturizer', max=67, style=ProgressStyle(description_…"
      ]
     },
     "metadata": {},
     "output_type": "display_data"
    }
   ],
   "source": [
    "dm.featurized_data = f.featurize_many(dm.data['element_a'], ignore_errors=True)\n"
   ]
  },
  {
   "cell_type": "code",
   "execution_count": 126,
   "metadata": {},
   "outputs": [
    {
     "data": {
      "text/plain": [
       "[[1.22],\n",
       " [4.63],\n",
       " [4.37],\n",
       " [0.934],\n",
       " [2.19],\n",
       " [5.81],\n",
       " [4.28],\n",
       " [5.31],\n",
       " [1.22],\n",
       " [4.37],\n",
       " [0.934],\n",
       " [2.19],\n",
       " [4.28],\n",
       " [5.31],\n",
       " [1.22],\n",
       " [4.37],\n",
       " [0.934],\n",
       " [2.19],\n",
       " [4.28],\n",
       " [5.31],\n",
       " [1.22],\n",
       " [4.37],\n",
       " [0.934],\n",
       " [2.19],\n",
       " [4.28],\n",
       " [5.31],\n",
       " [1.22],\n",
       " [4.37],\n",
       " [0.934],\n",
       " [2.19],\n",
       " [4.28],\n",
       " [5.31],\n",
       " [1.22],\n",
       " [4.37],\n",
       " [0.934],\n",
       " [2.19],\n",
       " [4.28],\n",
       " [5.31],\n",
       " [1.22],\n",
       " [4.37],\n",
       " [0.934],\n",
       " [2.19],\n",
       " [4.28],\n",
       " [5.31],\n",
       " [1.22],\n",
       " [4.37],\n",
       " [0.934],\n",
       " [2.19],\n",
       " [4.28],\n",
       " [5.31],\n",
       " [1.22],\n",
       " [4.37],\n",
       " [0.934],\n",
       " [2.19],\n",
       " [4.28],\n",
       " [5.31],\n",
       " [1.22],\n",
       " [4.37],\n",
       " [0.934],\n",
       " [2.19],\n",
       " [4.28],\n",
       " [5.31],\n",
       " [1.22],\n",
       " [4.37],\n",
       " [2.19],\n",
       " [4.28],\n",
       " [5.31]]"
      ]
     },
     "execution_count": 126,
     "metadata": {},
     "output_type": "execute_result"
    }
   ],
   "source": [
    "dm.featurized_data"
   ]
  },
  {
   "cell_type": "markdown",
   "metadata": {},
   "source": [
    "## Method for finding stoichiometric formulas"
   ]
  },
  {
   "cell_type": "code",
   "execution_count": 77,
   "metadata": {},
   "outputs": [],
   "source": [
    "from pymatgen import Composition\n",
    "fm = \"Mg0.33Cl0.66\"\n",
    "comp = Composition(fm)"
   ]
  },
  {
   "cell_type": "code",
   "execution_count": 78,
   "metadata": {},
   "outputs": [],
   "source": [
    "comp = Composition(comp.get_integer_formula_and_factor()[0])"
   ]
  },
  {
   "cell_type": "code",
   "execution_count": 79,
   "metadata": {},
   "outputs": [
    {
     "data": {
      "text/plain": [
       "Comp: Mg1 Cl2"
      ]
     },
     "execution_count": 79,
     "metadata": {},
     "output_type": "execute_result"
    }
   ],
   "source": [
    "comp"
   ]
  },
  {
   "cell_type": "code",
   "execution_count": null,
   "metadata": {},
   "outputs": [],
   "source": []
  }
 ],
 "metadata": {
  "kernelspec": {
   "display_name": "Python 3",
   "language": "python",
   "name": "python3"
  },
  "language_info": {
   "codemirror_mode": {
    "name": "ipython",
    "version": 3
   },
   "file_extension": ".py",
   "mimetype": "text/x-python",
   "name": "python",
   "nbconvert_exporter": "python",
   "pygments_lexer": "ipython3",
   "version": "3.7.3"
  }
 },
 "nbformat": 4,
 "nbformat_minor": 2
}
