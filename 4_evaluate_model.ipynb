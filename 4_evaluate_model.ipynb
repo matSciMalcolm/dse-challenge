{
 "cells": [
  {
   "cell_type": "markdown",
   "metadata": {},
   "source": [
    "# Model Evauation\n",
    "Classification models need the following metrics\n",
    "\n",
    "Cross Validation\n",
    "- Accuracy\n",
    "- error\n",
    "\n",
    "ROC Curve\n",
    "Steps\n",
    "- load data\n",
    "- featurize\n",
    "- choose model\n",
    "- pass data and HP's\n",
    "- run CV\n",
    "- ROC possible?\n",
    "- tabulate results\n",
    "- report"
   ]
  },
  {
   "cell_type": "code",
   "execution_count": 2,
   "metadata": {},
   "outputs": [],
   "source": [
    "import os\n",
    "from pprint import pprint\n",
    "import numpy as np\n",
    "import pandas as pd\n",
    "from utils import (Result, run_k_folds, \n",
    "                   report_column_labels,\n",
    "                   compile_data)\n",
    "from matminer.featurizers import composition as cf\n",
    "from matminer.featurizers.conversions import CompositionToOxidComposition\n",
    "from matminer.featurizers.composition import OxidationStates\n",
    "from matminer.featurizers.base import MultipleFeaturizer\n",
    "from sklearn.svm import SVC\n",
    "from sklearn.naive_bayes import GaussianNB\n",
    "from sklearn.ensemble import RandomForestClassifier as SRC\n",
    "from lolopy.learners import RandomForestClassifier as LRC\n",
    "from sklearn.linear_model import LogisticRegression\n",
    "from sklearn.dummy import DummyClassifier\n",
    "import multiprocessing as mp\n",
    "from functools import partial\n",
    "from itertools import product\n",
    "import timeit\n",
    "import uuid"
   ]
  },
  {
   "cell_type": "code",
   "execution_count": 3,
   "metadata": {},
   "outputs": [],
   "source": [
    "# configuration\n",
    "np.random.seed(8)\n",
    "load_path = os.path.join('data','training_data.csv')\n",
    "save_path = os.path.join('results','baseline_groupkfolds.csv')\n",
    "mp_api_key = '7n6DwPUQ5cf8ZTWO'\n",
    "lr = False\n",
    "energy_features = False\n",
    "electronegativity_features = False\n",
    "oversample = False\n",
    "data_ramp = True"
   ]
  },
  {
   "cell_type": "markdown",
   "metadata": {},
   "source": [
    "## Load data\n",
    "This object should handle data load and sampling.\n",
    "\n",
    "Should be able to do the following:\n",
    "1. load and sample \n",
    "2. Run a data ramp"
   ]
  },
  {
   "cell_type": "code",
   "execution_count": 4,
   "metadata": {},
   "outputs": [],
   "source": [
    "import pandas\n",
    "import numpy\n",
    "from functools import partial\n",
    "from pymatgen import Composition\n",
    "\n",
    "class DataManager():\n",
    "    def __init__(self, load_path, save_path):\n",
    "        self.load_path = load_path\n",
    "        self.save_path = save_path\n",
    "        self.data = None\n",
    "        self.num_records = None\n",
    "        self.groups = None\n",
    "        \n",
    "        \n",
    "    def load(self):\n",
    "        self.data = pandas.read_csv(self.load_path)\n",
    "        self.num_records = len(self.data.index)\n",
    "        pprint(f\"Loaded {self.num_records} records.\")\n",
    "        \n",
    "        \n",
    "    def sample_data(self, sample_size: int = 1000):\n",
    "        if not self.data.empty:\n",
    "            self.data = self.data.sample(sample_size)\n",
    "            self.data.reset_index(drop=True, inplace=True)\n",
    "            self.num_records = len(self.data.index)\n",
    "            \n",
    "            \n",
    "    def ramp(self):\n",
    "        pass\n",
    "    \n",
    "    \n",
    "    def get_pymatgen_composition(self):\n",
    "        if not self.data.empty:\n",
    "            def _get_composition(c):\n",
    "                \"\"\"Attempt to parse composition, return None if failed\"\"\"\n",
    "                try:\n",
    "                    return Composition(c)\n",
    "                except:\n",
    "                    return None\n",
    "            \n",
    "            self.data['composition'] = self.data['formula'].apply(_get_composition)\n",
    "    \n",
    "    \n",
    "    def remove_noble_gasses(self):\n",
    "        if not self.data.empty:\n",
    "            def _check_nobility(row):\n",
    "                comp = row['composition']\n",
    "                return comp.contains_element_type('noble_gas')\n",
    "            \n",
    "            self.data['noble'] = self.data.apply(_check_nobility, axis=1)\n",
    "            self.data = self.data[self.data['noble'] == False]\n",
    "            self.data.reset_index(drop=True, inplace=True)\n",
    "    \n",
    "    \n",
    "    def remove_features(self):\n",
    "        if 'composition' in self.data.columns:\n",
    "            self.data = self.data[['formula','composition','group','stable']]\n",
    "    \n",
    "    \n",
    "    def compute_formula(self):\n",
    "        self.data['formula'] = self.data['formulaA'] + self.data['formulaB']\n",
    "    def save_to_csv(self):\n",
    "        pass\n",
    "    \n",
    "    \n",
    "    def to_binary_classes(self):    \n",
    "        \n",
    "        def _vec_to_stability(row: pd.Series, cols: list) -> pd.Series:\n",
    "            vec = eval(row['stabilityVec'])\n",
    "            for element, col in zip(vec, cols):\n",
    "                row[col] = int(element)\n",
    "            return row\n",
    "        \n",
    "        def _row_to_formula(row: pd.Series):\n",
    "            w = float(row['weight_fraction_element_b'])\n",
    "            a = row['formulaA']\n",
    "            b = row['formulaB']\n",
    "\n",
    "            if w == 0.0:\n",
    "                return a\n",
    "            elif w == 1.0:\n",
    "                return b\n",
    "            else:\n",
    "                wa = 1.0-w\n",
    "                def _compute_formula(wa):\n",
    "                    return f\"{a}{wa:.1f}{b}{w:.1f}\"\n",
    "                return _compute_formula(wa)\n",
    "        \n",
    "        cols = ['{}'.format(i/10) for i in range(11)]\n",
    "        _vtf = partial(_vec_to_stability, cols=cols)\n",
    "\n",
    "        self.groups = numpy.arange(self.num_records)\n",
    "        self.data['group'] = self.groups\n",
    "        original_cols = self.data.columns\n",
    "\n",
    "        self.data = self.data.apply(_vtf, axis=1)\n",
    "        self.data = self.data.melt(id_vars=original_cols, var_name='weight_fraction_element_b', value_name='stable')\n",
    "        self.data['formula'] = self.data.apply(_row_to_formula, axis=1)\n",
    "        self.data = self.data.drop_duplicates('formula')"
   ]
  },
  {
   "cell_type": "code",
   "execution_count": 5,
   "metadata": {},
   "outputs": [
    {
     "name": "stdout",
     "output_type": "stream",
     "text": [
      "'Loaded 2572 records.'\n"
     ]
    }
   ],
   "source": [
    "# Load Data\n",
    "dm = DataManager(load_path, save_path)\n",
    "dm.load()"
   ]
  },
  {
   "cell_type": "code",
   "execution_count": 6,
   "metadata": {},
   "outputs": [],
   "source": [
    "# Sample data\n",
    "dm.sample_data()"
   ]
  },
  {
   "cell_type": "code",
   "execution_count": 7,
   "metadata": {},
   "outputs": [],
   "source": [
    "# Format and careate composition objects\n",
    "#dm.compute_formula()\n",
    "dm.to_binary_classes()\n",
    "dm.get_pymatgen_composition()\n",
    "dm.remove_noble_gasses()\n",
    "dm.remove_features()"
   ]
  },
  {
   "cell_type": "code",
   "execution_count": 8,
   "metadata": {},
   "outputs": [],
   "source": [
    "import pandas\n",
    "from typing import List\n",
    "from matminer.featurizers import composition as cf\n",
    "from matminer.featurizers.conversions import CompositionToOxidComposition\n",
    "from matminer.featurizers.composition import OxidationStates\n",
    "from matminer.featurizers.base import MultipleFeaturizer\n",
    "\n",
    "class Featurizer():\n",
    "    def __init__(self, feature_set: ['str'] = ['standard']):\n",
    "        self.feature_set = feature_set\n",
    "        \n",
    "        self.featurizers = {'standard': [cf.Stoichiometry(),\n",
    "                                         cf.ElementProperty.from_preset(\"magpie\"),\n",
    "                                         cf.ValenceOrbital(props=['avg']),\n",
    "                                         cf.IonProperty(fast=True)],\n",
    "                           'energy': [cf.CohesiveEnergy(mapi_key=mp_api_key)],\n",
    "                           'electronegtivity': [cf.OxidationStates(),\n",
    "                                                cf.ElectronegativityDiff()]}     \n",
    "    \n",
    "    def featurize(self, data: pandas.DataFrame) -> pandas.DataFrame:\n",
    "        impute = False\n",
    "        if 'electronegtivity' in self.feature_set:\n",
    "            impute = True\n",
    "            data = CompositionToOxidComposition(return_original_on_error=True,\n",
    "                                                overwrite_data=True).featurize_dataframe(data,\n",
    "                                                                                         'composition',\n",
    "                                                                                        ignore_errors=True)\n",
    "        features = []\n",
    "        for feature in self.feature_set:\n",
    "            features.extend(self.featurizers.get(feature))\n",
    "\n",
    "        f = MultipleFeaturizer(features)\n",
    "        X = np.array(f.featurize_many(data['composition'], ignore_errors=True))\n",
    "\n",
    "        if impute:\n",
    "            return np.nan_to_num(X)\n",
    "        else:\n",
    "            return X"
   ]
  },
  {
   "cell_type": "code",
   "execution_count": 9,
   "metadata": {},
   "outputs": [],
   "source": [
    "f = Featurizer(['standard'])"
   ]
  },
  {
   "cell_type": "code",
   "execution_count": 10,
   "metadata": {},
   "outputs": [
    {
     "data": {
      "application/vnd.jupyter.widget-view+json": {
       "model_id": "797253a36ce64160baf2079b8cfa97d2",
       "version_major": 2,
       "version_minor": 0
      },
      "text/plain": [
       "HBox(children=(IntProgress(value=0, description='MultipleFeaturizer', max=7970, style=ProgressStyle(descriptio…"
      ]
     },
     "metadata": {},
     "output_type": "display_data"
    },
    {
     "name": "stdout",
     "output_type": "stream",
     "text": [
      "\n"
     ]
    }
   ],
   "source": [
    "X = f.featurize(dm.data)"
   ]
  },
  {
   "cell_type": "code",
   "execution_count": 11,
   "metadata": {},
   "outputs": [],
   "source": [
    "groups = dm.data['group']"
   ]
  },
  {
   "cell_type": "code",
   "execution_count": 12,
   "metadata": {},
   "outputs": [],
   "source": [
    "# Set training labels\n",
    "Y = dm.data['stable']"
   ]
  },
  {
   "cell_type": "code",
   "execution_count": 13,
   "metadata": {},
   "outputs": [],
   "source": [
    "k_folds = partial(run_k_folds, inputs=X, outputs=Y, groups=groups)"
   ]
  },
  {
   "cell_type": "code",
   "execution_count": 18,
   "metadata": {},
   "outputs": [],
   "source": [
    "# set models\n",
    "#models = [GaussianNB(), SVC(), SRC(), LogisticRegression(), DummyClassifier(strategy=\"most_frequent\")]\n",
    "models = [LRC()]"
   ]
  },
  {
   "cell_type": "code",
   "execution_count": 19,
   "metadata": {},
   "outputs": [],
   "source": [
    "%%capture\n",
    "pool = mp.Pool(processes=mp.cpu_count())"
   ]
  },
  {
   "cell_type": "code",
   "execution_count": null,
   "metadata": {},
   "outputs": [],
   "source": [
    "%%capture\n",
    "start_time = timeit.default_timer()\n",
    "results = pool.map(k_folds, models)    \n",
    "elapsed = timeit.default_timer() - start_time"
   ]
  },
  {
   "cell_type": "code",
   "execution_count": 17,
   "metadata": {},
   "outputs": [
    {
     "data": {
      "text/html": [
       "<div>\n",
       "<style scoped>\n",
       "    .dataframe tbody tr th:only-of-type {\n",
       "        vertical-align: middle;\n",
       "    }\n",
       "\n",
       "    .dataframe tbody tr th {\n",
       "        vertical-align: top;\n",
       "    }\n",
       "\n",
       "    .dataframe thead th {\n",
       "        text-align: right;\n",
       "    }\n",
       "</style>\n",
       "<table border=\"1\" class=\"dataframe\">\n",
       "  <thead>\n",
       "    <tr style=\"text-align: right;\">\n",
       "      <th></th>\n",
       "      <th>type</th>\n",
       "      <th>accuracy</th>\n",
       "      <th>accuracy_std</th>\n",
       "      <th>f1</th>\n",
       "      <th>f1_std</th>\n",
       "      <th>recall</th>\n",
       "      <th>recall_std</th>\n",
       "      <th>precision</th>\n",
       "      <th>precision_std</th>\n",
       "    </tr>\n",
       "  </thead>\n",
       "  <tbody>\n",
       "    <tr>\n",
       "      <th>0</th>\n",
       "      <td>GaussianNB</td>\n",
       "      <td>0.776941</td>\n",
       "      <td>0.028893</td>\n",
       "      <td>0.395035</td>\n",
       "      <td>0.049332</td>\n",
       "      <td>0.565677</td>\n",
       "      <td>0.056210</td>\n",
       "      <td>0.305618</td>\n",
       "      <td>0.049189</td>\n",
       "    </tr>\n",
       "    <tr>\n",
       "      <th>1</th>\n",
       "      <td>SVC</td>\n",
       "      <td>0.871372</td>\n",
       "      <td>0.016390</td>\n",
       "      <td>0.000000</td>\n",
       "      <td>0.000000</td>\n",
       "      <td>0.000000</td>\n",
       "      <td>0.000000</td>\n",
       "      <td>0.000000</td>\n",
       "      <td>0.000000</td>\n",
       "    </tr>\n",
       "    <tr>\n",
       "      <th>2</th>\n",
       "      <td>RandomForestClassifier</td>\n",
       "      <td>0.892995</td>\n",
       "      <td>0.017697</td>\n",
       "      <td>0.449142</td>\n",
       "      <td>0.066306</td>\n",
       "      <td>0.339911</td>\n",
       "      <td>0.053215</td>\n",
       "      <td>0.666954</td>\n",
       "      <td>0.105192</td>\n",
       "    </tr>\n",
       "    <tr>\n",
       "      <th>3</th>\n",
       "      <td>LogisticRegression</td>\n",
       "      <td>0.881432</td>\n",
       "      <td>0.016114</td>\n",
       "      <td>0.294658</td>\n",
       "      <td>0.053799</td>\n",
       "      <td>0.193735</td>\n",
       "      <td>0.040267</td>\n",
       "      <td>0.630233</td>\n",
       "      <td>0.092399</td>\n",
       "    </tr>\n",
       "    <tr>\n",
       "      <th>4</th>\n",
       "      <td>DummyClassifier</td>\n",
       "      <td>0.871372</td>\n",
       "      <td>0.016390</td>\n",
       "      <td>0.000000</td>\n",
       "      <td>0.000000</td>\n",
       "      <td>0.000000</td>\n",
       "      <td>0.000000</td>\n",
       "      <td>0.000000</td>\n",
       "      <td>0.000000</td>\n",
       "    </tr>\n",
       "  </tbody>\n",
       "</table>\n",
       "</div>"
      ],
      "text/plain": [
       "                     type  accuracy  accuracy_std        f1    f1_std  \\\n",
       "0              GaussianNB  0.776941      0.028893  0.395035  0.049332   \n",
       "1                     SVC  0.871372      0.016390  0.000000  0.000000   \n",
       "2  RandomForestClassifier  0.892995      0.017697  0.449142  0.066306   \n",
       "3      LogisticRegression  0.881432      0.016114  0.294658  0.053799   \n",
       "4         DummyClassifier  0.871372      0.016390  0.000000  0.000000   \n",
       "\n",
       "     recall  recall_std  precision  precision_std  \n",
       "0  0.565677    0.056210   0.305618       0.049189  \n",
       "1  0.000000    0.000000   0.000000       0.000000  \n",
       "2  0.339911    0.053215   0.666954       0.105192  \n",
       "3  0.193735    0.040267   0.630233       0.092399  \n",
       "4  0.000000    0.000000   0.000000       0.000000  "
      ]
     },
     "execution_count": 17,
     "metadata": {},
     "output_type": "execute_result"
    }
   ],
   "source": [
    "compiled = compile_data(results)\n",
    "res_df = pd.DataFrame(compiled, columns=report_column_labels)\n",
    "res_df.to_csv(save_path)\n",
    "res_df"
   ]
  },
  {
   "cell_type": "code",
   "execution_count": null,
   "metadata": {},
   "outputs": [],
   "source": []
  }
 ],
 "metadata": {
  "kernelspec": {
   "display_name": "Python 3",
   "language": "python",
   "name": "python3"
  },
  "language_info": {
   "codemirror_mode": {
    "name": "ipython",
    "version": 3
   },
   "file_extension": ".py",
   "mimetype": "text/x-python",
   "name": "python",
   "nbconvert_exporter": "python",
   "pygments_lexer": "ipython3",
   "version": "3.7.3"
  }
 },
 "nbformat": 4,
 "nbformat_minor": 2
}
