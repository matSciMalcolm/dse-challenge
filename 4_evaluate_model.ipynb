{
 "cells": [
  {
   "cell_type": "markdown",
   "metadata": {},
   "source": [
    "# Model Evauation\n",
    "Classification models need the following metrics\n",
    "\n",
    "Cross Validation\n",
    "- Accuracy\n",
    "- error\n",
    "\n",
    "ROC Curve"
   ]
  },
  {
   "cell_type": "markdown",
   "metadata": {},
   "source": [
    "## SKL Models"
   ]
  },
  {
   "cell_type": "code",
   "execution_count": 67,
   "metadata": {},
   "outputs": [],
   "source": [
    "import os\n",
    "from pprint import pprint\n",
    "import numpy as np\n",
    "import pandas as pd\n",
    "from utils import get_compostion, check_nobility, Result, run_k_folds, run_k_folds_oversample\n",
    "from matminer.featurizers import composition as cf\n",
    "from matminer.featurizers.conversions import CompositionToOxidComposition\n",
    "from matminer.featurizers.composition import OxidationStates\n",
    "from matminer.featurizers.base import MultipleFeaturizer\n",
    "from sklearn.svm import SVC\n",
    "from sklearn.naive_bayes import GaussianNB\n",
    "from sklearn.ensemble import RandomForestClassifier as SRC\n",
    "from lolopy.learners import RandomForestClassifier as LRC\n",
    "from sklearn.linear_model import LogisticRegression\n",
    "from sklearn.dummy import DummyClassifier\n",
    "import multiprocessing as mp\n",
    "from functools import partial\n",
    "from itertools import product\n",
    "import timeit\n",
    "import uuid"
   ]
  },
  {
   "cell_type": "code",
   "execution_count": 2,
   "metadata": {},
   "outputs": [],
   "source": [
    "# load data\n",
    "# featurize\n",
    "# choose model\n",
    "# pass data and HP's\n",
    "# run CV\n",
    "# ROC possible?\n",
    "# tabulate results\n",
    "# report"
   ]
  },
  {
   "cell_type": "code",
   "execution_count": 106,
   "metadata": {},
   "outputs": [],
   "source": [
    "# configuration\n",
    "np.random.seed(8)\n",
    "load_path = os.path.join('data','processed_data.csv')\n",
    "save_path = os.path.join('results','elec_features.csv')\n",
    "mp_api_key = '7n6DwPUQ5cf8ZTWO'\n",
    "lr = False\n",
    "energy_features = True\n",
    "electronegativity_features = True\n",
    "oversample = False"
   ]
  },
  {
   "cell_type": "code",
   "execution_count": 4,
   "metadata": {},
   "outputs": [
    {
     "name": "stdout",
     "output_type": "stream",
     "text": [
      "'Loaded 25802 records.'\n"
     ]
    },
    {
     "data": {
      "text/html": [
       "<div>\n",
       "<style scoped>\n",
       "    .dataframe tbody tr th:only-of-type {\n",
       "        vertical-align: middle;\n",
       "    }\n",
       "\n",
       "    .dataframe tbody tr th {\n",
       "        vertical-align: top;\n",
       "    }\n",
       "\n",
       "    .dataframe thead th {\n",
       "        text-align: right;\n",
       "    }\n",
       "</style>\n",
       "<table border=\"1\" class=\"dataframe\">\n",
       "  <thead>\n",
       "    <tr style=\"text-align: right;\">\n",
       "      <th></th>\n",
       "      <th>formula</th>\n",
       "      <th>formulaA</th>\n",
       "      <th>formulaB</th>\n",
       "      <th>stable</th>\n",
       "    </tr>\n",
       "  </thead>\n",
       "  <tbody>\n",
       "    <tr>\n",
       "      <th>0</th>\n",
       "      <td>Ne</td>\n",
       "      <td>Ne</td>\n",
       "      <td>He</td>\n",
       "      <td>1</td>\n",
       "    </tr>\n",
       "    <tr>\n",
       "      <th>1</th>\n",
       "      <td>Cs</td>\n",
       "      <td>Cs</td>\n",
       "      <td>He</td>\n",
       "      <td>1</td>\n",
       "    </tr>\n",
       "    <tr>\n",
       "      <th>2</th>\n",
       "      <td>K</td>\n",
       "      <td>K</td>\n",
       "      <td>He</td>\n",
       "      <td>1</td>\n",
       "    </tr>\n",
       "    <tr>\n",
       "      <th>3</th>\n",
       "      <td>Ba</td>\n",
       "      <td>Ba</td>\n",
       "      <td>He</td>\n",
       "      <td>1</td>\n",
       "    </tr>\n",
       "    <tr>\n",
       "      <th>4</th>\n",
       "      <td>Sr</td>\n",
       "      <td>Sr</td>\n",
       "      <td>He</td>\n",
       "      <td>1</td>\n",
       "    </tr>\n",
       "  </tbody>\n",
       "</table>\n",
       "</div>"
      ],
      "text/plain": [
       "  formula formulaA formulaB  stable\n",
       "0      Ne       Ne       He       1\n",
       "1      Cs       Cs       He       1\n",
       "2       K        K       He       1\n",
       "3      Ba       Ba       He       1\n",
       "4      Sr       Sr       He       1"
      ]
     },
     "execution_count": 4,
     "metadata": {},
     "output_type": "execute_result"
    }
   ],
   "source": [
    "# Load Data\n",
    "data = pd.read_csv(load_path)\n",
    "pprint(f\"Loaded {len(data.index)} records.\")\n",
    "data.head()"
   ]
  },
  {
   "cell_type": "code",
   "execution_count": 5,
   "metadata": {},
   "outputs": [],
   "source": [
    "if lr:\n",
    "    # If working with logistic regression\n",
    "    load_path = os.path.join('data','training_data.csv')\n",
    "    data = pd.read_csv(load_path)\n",
    "    classes = list(product([0.0,1.0],repeat=10))\n",
    "    data['formula'] = data['formulaA'] + data['formulaB']\n",
    "    data.rename({'stabilityVec':'stable'}, axis=1, inplace=True)\n",
    "    data = data[['formula', 'stable']]"
   ]
  },
  {
   "cell_type": "code",
   "execution_count": 6,
   "metadata": {},
   "outputs": [
    {
     "data": {
      "text/html": [
       "<div>\n",
       "<style scoped>\n",
       "    .dataframe tbody tr th:only-of-type {\n",
       "        vertical-align: middle;\n",
       "    }\n",
       "\n",
       "    .dataframe tbody tr th {\n",
       "        vertical-align: top;\n",
       "    }\n",
       "\n",
       "    .dataframe thead th {\n",
       "        text-align: right;\n",
       "    }\n",
       "</style>\n",
       "<table border=\"1\" class=\"dataframe\">\n",
       "  <thead>\n",
       "    <tr style=\"text-align: right;\">\n",
       "      <th></th>\n",
       "      <th>composition</th>\n",
       "      <th>stable</th>\n",
       "    </tr>\n",
       "  </thead>\n",
       "  <tbody>\n",
       "    <tr>\n",
       "      <th>789</th>\n",
       "      <td>(Nb, Cs)</td>\n",
       "      <td>0</td>\n",
       "    </tr>\n",
       "    <tr>\n",
       "      <th>132</th>\n",
       "      <td>(Ge, Ce)</td>\n",
       "      <td>1</td>\n",
       "    </tr>\n",
       "    <tr>\n",
       "      <th>49</th>\n",
       "      <td>(Ce, Ac)</td>\n",
       "      <td>0</td>\n",
       "    </tr>\n",
       "    <tr>\n",
       "      <th>738</th>\n",
       "      <td>(Pt, Si)</td>\n",
       "      <td>0</td>\n",
       "    </tr>\n",
       "    <tr>\n",
       "      <th>742</th>\n",
       "      <td>(Si)</td>\n",
       "      <td>1</td>\n",
       "    </tr>\n",
       "    <tr>\n",
       "      <th>562</th>\n",
       "      <td>(Th)</td>\n",
       "      <td>1</td>\n",
       "    </tr>\n",
       "    <tr>\n",
       "      <th>32</th>\n",
       "      <td>(Ho, U)</td>\n",
       "      <td>0</td>\n",
       "    </tr>\n",
       "    <tr>\n",
       "      <th>353</th>\n",
       "      <td>(Li, Sb)</td>\n",
       "      <td>0</td>\n",
       "    </tr>\n",
       "    <tr>\n",
       "      <th>673</th>\n",
       "      <td>(Tb, Ir)</td>\n",
       "      <td>1</td>\n",
       "    </tr>\n",
       "    <tr>\n",
       "      <th>354</th>\n",
       "      <td>(Pr, Sn)</td>\n",
       "      <td>0</td>\n",
       "    </tr>\n",
       "  </tbody>\n",
       "</table>\n",
       "</div>"
      ],
      "text/plain": [
       "    composition  stable\n",
       "789    (Nb, Cs)       0\n",
       "132    (Ge, Ce)       1\n",
       "49     (Ce, Ac)       0\n",
       "738    (Pt, Si)       0\n",
       "742        (Si)       1\n",
       "562        (Th)       1\n",
       "32      (Ho, U)       0\n",
       "353    (Li, Sb)       0\n",
       "673    (Tb, Ir)       1\n",
       "354    (Pr, Sn)       0"
      ]
     },
     "execution_count": 6,
     "metadata": {},
     "output_type": "execute_result"
    }
   ],
   "source": [
    "# Format and Choose Training Data\n",
    "data = data.sample(1000)\n",
    "data['composition'] = data['formula'].apply(get_compostion)\n",
    "data['noble'] = data.apply(check_nobility, axis=1)\n",
    "data = data[data['noble'] == False]\n",
    "data = data[['composition','stable']]\n",
    "data.reset_index(drop=True, inplace=True)\n",
    "data.sample(10)"
   ]
  },
  {
   "cell_type": "code",
   "execution_count": 110,
   "metadata": {},
   "outputs": [
    {
     "data": {
      "application/vnd.jupyter.widget-view+json": {
       "model_id": "960816c396164178aa5ee2da652994a5",
       "version_major": 2,
       "version_minor": 0
      },
      "text/plain": [
       "HBox(children=(IntProgress(value=0, description='MultipleFeaturizer', max=887, style=ProgressStyle(description…"
      ]
     },
     "metadata": {},
     "output_type": "display_data"
    },
    {
     "name": "stdout",
     "output_type": "stream",
     "text": [
      "\n"
     ]
    }
   ],
   "source": [
    "# Featurize Data\n",
    "#%%capture\n",
    "standard_features = [cf.Stoichiometry(), cf.ElementProperty.from_preset(\"magpie\"),\n",
    "                             cf.ValenceOrbital(props=['avg']), cf.IonProperty(fast=True)]\n",
    "if energy_features:\n",
    "    standard_features.append(cf.CohesiveEnergy(mapi_key=mp_api_key))\n",
    "    f = MultipleFeaturizer(standard_features)\n",
    "    X = np.array(f.featurize_many(data['composition'], ignore_errors=True))\n",
    "elif electronegativity_features:\n",
    "    data = CompositionToOxidComposition(return_original_on_error=True, overwrite_data=True).featurize_dataframe(data, 'composition', ignore_errors=True)\n",
    "    standard_features.extend([cf.OxidationStates(), cf.ElectronegativityDiff()])\n",
    "    f = MultipleFeaturizer(standard_features)\n",
    "    X = np.array(f.featurize_many(data['composition_oxid'], ignore_errors=True))\n",
    "elif energy_features and electronegativity_features:\n",
    "    data = CompositionToOxidComposition(return_original_on_error=True, overwrite_data=True).featurize_dataframe(data, 'composition', ignore_errors=True)\n",
    "    standard_features.extend([cf.OxidationStates(), cf.ElectronegativityDiff(), cf.CohesiveEnergy(mapi_key=mp_api_key)])\n",
    "    f = MultipleFeaturizer(standard_features)\n",
    "    X = np.array(f.featurize_many(data['composition_oxid'], ignore_errors=True))\n",
    "else:\n",
    "    f = MultipleFeaturizer(standard_features)\n",
    "    X = np.array(f.featurize_many(data['composition'], ignore_errors=True))"
   ]
  },
  {
   "cell_type": "code",
   "execution_count": 111,
   "metadata": {},
   "outputs": [],
   "source": [
    "# Imputation method\n",
    "X = np.nan_to_num(X)\n",
    "#X = X[~np.isnan(X).any(axis=1)]"
   ]
  },
  {
   "cell_type": "code",
   "execution_count": 112,
   "metadata": {},
   "outputs": [
    {
     "data": {
      "text/plain": [
       "(887, 146)"
      ]
     },
     "execution_count": 112,
     "metadata": {},
     "output_type": "execute_result"
    }
   ],
   "source": [
    "X.shape"
   ]
  },
  {
   "cell_type": "code",
   "execution_count": 113,
   "metadata": {},
   "outputs": [],
   "source": [
    "# Set training labels\n",
    "Y = data['stable']"
   ]
  },
  {
   "cell_type": "code",
   "execution_count": 114,
   "metadata": {},
   "outputs": [],
   "source": [
    "if oversample:\n",
    "    k_folds = partial(run_k_folds_oversample, inputs=X, outputs=Y)\n",
    "else:\n",
    "    k_folds = partial(run_k_folds, inputs=X, outputs=Y)"
   ]
  },
  {
   "cell_type": "code",
   "execution_count": 115,
   "metadata": {},
   "outputs": [],
   "source": [
    "# set models\n",
    "models = [GaussianNB(), SVC(), SRC(), LogisticRegression(), DummyClassifier(strategy=\"most_frequent\")]"
   ]
  },
  {
   "cell_type": "code",
   "execution_count": 116,
   "metadata": {},
   "outputs": [],
   "source": [
    "if lr:\n",
    "# Logistic Regression\n",
    "    models[0].classes = classes"
   ]
  },
  {
   "cell_type": "code",
   "execution_count": 117,
   "metadata": {},
   "outputs": [],
   "source": [
    "%%capture\n",
    "pool = mp.Pool(processes=mp.cpu_count())"
   ]
  },
  {
   "cell_type": "code",
   "execution_count": 118,
   "metadata": {},
   "outputs": [],
   "source": [
    "%%capture\n",
    "start_time = timeit.default_timer()\n",
    "results = pool.map(k_folds, models)\n",
    "elapsed = timeit.default_timer() - start_time"
   ]
  },
  {
   "cell_type": "code",
   "execution_count": 119,
   "metadata": {},
   "outputs": [
    {
     "name": "stdout",
     "output_type": "stream",
     "text": [
      "2.089395342998614\n"
     ]
    }
   ],
   "source": [
    "pprint(elapsed)"
   ]
  },
  {
   "cell_type": "code",
   "execution_count": 120,
   "metadata": {},
   "outputs": [],
   "source": [
    "compiled = [[r.model,\n",
    "  r.accuracy,\n",
    "  r.accuracy_std,\n",
    "  r.f1,\n",
    "  r.f1_std,\n",
    "  r.recall,\n",
    "  r.recall_std,\n",
    "  r.precision,\n",
    "  r.precision_std] for r in results]"
   ]
  },
  {
   "cell_type": "code",
   "execution_count": 121,
   "metadata": {},
   "outputs": [],
   "source": [
    "cols = ['type',\n",
    " 'accuracy',\n",
    " 'accuracy_std',\n",
    " 'f1',\n",
    " 'f1_std',\n",
    " 'recall',\n",
    " 'recall_std',\n",
    " 'precision',\n",
    " 'precision_std']"
   ]
  },
  {
   "cell_type": "code",
   "execution_count": 122,
   "metadata": {},
   "outputs": [
    {
     "data": {
      "text/html": [
       "<div>\n",
       "<style scoped>\n",
       "    .dataframe tbody tr th:only-of-type {\n",
       "        vertical-align: middle;\n",
       "    }\n",
       "\n",
       "    .dataframe tbody tr th {\n",
       "        vertical-align: top;\n",
       "    }\n",
       "\n",
       "    .dataframe thead th {\n",
       "        text-align: right;\n",
       "    }\n",
       "</style>\n",
       "<table border=\"1\" class=\"dataframe\">\n",
       "  <thead>\n",
       "    <tr style=\"text-align: right;\">\n",
       "      <th></th>\n",
       "      <th>type</th>\n",
       "      <th>accuracy</th>\n",
       "      <th>accuracy_std</th>\n",
       "      <th>f1</th>\n",
       "      <th>f1_std</th>\n",
       "      <th>recall</th>\n",
       "      <th>recall_std</th>\n",
       "      <th>precision</th>\n",
       "      <th>precision_std</th>\n",
       "    </tr>\n",
       "  </thead>\n",
       "  <tbody>\n",
       "    <tr>\n",
       "      <th>0</th>\n",
       "      <td>GaussianNB</td>\n",
       "      <td>0.830784</td>\n",
       "      <td>0.043285</td>\n",
       "      <td>0.536414</td>\n",
       "      <td>0.118413</td>\n",
       "      <td>0.475538</td>\n",
       "      <td>0.121626</td>\n",
       "      <td>0.634367</td>\n",
       "      <td>0.152183</td>\n",
       "    </tr>\n",
       "    <tr>\n",
       "      <th>1</th>\n",
       "      <td>SVC</td>\n",
       "      <td>0.841050</td>\n",
       "      <td>0.037926</td>\n",
       "      <td>0.399498</td>\n",
       "      <td>0.078719</td>\n",
       "      <td>0.252276</td>\n",
       "      <td>0.060378</td>\n",
       "      <td>1.000000</td>\n",
       "      <td>0.000000</td>\n",
       "    </tr>\n",
       "    <tr>\n",
       "      <th>2</th>\n",
       "      <td>RandomForestClassifier</td>\n",
       "      <td>0.881588</td>\n",
       "      <td>0.032550</td>\n",
       "      <td>0.650557</td>\n",
       "      <td>0.113680</td>\n",
       "      <td>0.545587</td>\n",
       "      <td>0.142096</td>\n",
       "      <td>0.849737</td>\n",
       "      <td>0.117802</td>\n",
       "    </tr>\n",
       "    <tr>\n",
       "      <th>3</th>\n",
       "      <td>LogisticRegression</td>\n",
       "      <td>0.860189</td>\n",
       "      <td>0.040029</td>\n",
       "      <td>0.626590</td>\n",
       "      <td>0.102458</td>\n",
       "      <td>0.569010</td>\n",
       "      <td>0.121646</td>\n",
       "      <td>0.720730</td>\n",
       "      <td>0.136270</td>\n",
       "    </tr>\n",
       "    <tr>\n",
       "      <th>4</th>\n",
       "      <td>DummyClassifier</td>\n",
       "      <td>0.785853</td>\n",
       "      <td>0.055929</td>\n",
       "      <td>0.000000</td>\n",
       "      <td>0.000000</td>\n",
       "      <td>0.000000</td>\n",
       "      <td>0.000000</td>\n",
       "      <td>0.000000</td>\n",
       "      <td>0.000000</td>\n",
       "    </tr>\n",
       "  </tbody>\n",
       "</table>\n",
       "</div>"
      ],
      "text/plain": [
       "                     type  accuracy  accuracy_std        f1    f1_std  \\\n",
       "0              GaussianNB  0.830784      0.043285  0.536414  0.118413   \n",
       "1                     SVC  0.841050      0.037926  0.399498  0.078719   \n",
       "2  RandomForestClassifier  0.881588      0.032550  0.650557  0.113680   \n",
       "3      LogisticRegression  0.860189      0.040029  0.626590  0.102458   \n",
       "4         DummyClassifier  0.785853      0.055929  0.000000  0.000000   \n",
       "\n",
       "     recall  recall_std  precision  precision_std  \n",
       "0  0.475538    0.121626   0.634367       0.152183  \n",
       "1  0.252276    0.060378   1.000000       0.000000  \n",
       "2  0.545587    0.142096   0.849737       0.117802  \n",
       "3  0.569010    0.121646   0.720730       0.136270  \n",
       "4  0.000000    0.000000   0.000000       0.000000  "
      ]
     },
     "execution_count": 122,
     "metadata": {},
     "output_type": "execute_result"
    }
   ],
   "source": [
    "res_df = pd.DataFrame(compiled, columns=cols)\n",
    "res_df"
   ]
  },
  {
   "cell_type": "code",
   "execution_count": 123,
   "metadata": {},
   "outputs": [],
   "source": [
    "res_df.to_csv(save_path)"
   ]
  },
  {
   "cell_type": "code",
   "execution_count": null,
   "metadata": {},
   "outputs": [],
   "source": []
  },
  {
   "cell_type": "code",
   "execution_count": null,
   "metadata": {},
   "outputs": [],
   "source": []
  }
 ],
 "metadata": {
  "kernelspec": {
   "display_name": "Python 3",
   "language": "python",
   "name": "python3"
  },
  "language_info": {
   "codemirror_mode": {
    "name": "ipython",
    "version": 3
   },
   "file_extension": ".py",
   "mimetype": "text/x-python",
   "name": "python",
   "nbconvert_exporter": "python",
   "pygments_lexer": "ipython3",
   "version": "3.7.3"
  }
 },
 "nbformat": 4,
 "nbformat_minor": 2
}
