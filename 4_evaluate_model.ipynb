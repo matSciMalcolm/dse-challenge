{
 "cells": [
  {
   "cell_type": "markdown",
   "metadata": {},
   "source": [
    "# Model Evauation\n",
    "Classification models need the following metrics\n",
    "\n",
    "Cross Validation\n",
    "- Accuracy\n",
    "- error\n",
    "\n",
    "ROC Curve\n",
    "Steps\n",
    "- load data\n",
    "- featurize\n",
    "- choose model\n",
    "- pass data and HP's\n",
    "- run CV\n",
    "- ROC possible?\n",
    "- tabulate results\n",
    "- report"
   ]
  },
  {
   "cell_type": "code",
   "execution_count": 1,
   "metadata": {},
   "outputs": [],
   "source": [
    "#### Standard Lib\n",
    "import os\n",
    "from pprint import pprint\n",
    "import numpy as np\n",
    "import pandas as pd\n",
    "import multiprocessing as mp\n",
    "from functools import partial\n",
    "from itertools import product\n",
    "import timeit\n",
    "import uuid\n",
    "\n",
    "\n",
    "from sklearn.svm import SVC\n",
    "from sklearn.naive_bayes import GaussianNB\n",
    "from sklearn.ensemble import RandomForestClassifier as SRC\n",
    "from lolopy.learners import RandomForestClassifier as LRC\n",
    "from sklearn.linear_model import LogisticRegression\n",
    "from sklearn.dummy import DummyClassifier\n",
    "\n",
    "\n",
    "from utils import (Result, run_k_folds, \n",
    "                   report_column_labels,\n",
    "                   compile_data)\n",
    "from data_manager import DataManager\n",
    "from featurizer import Featurizer"
   ]
  },
  {
   "cell_type": "code",
   "execution_count": 31,
   "metadata": {},
   "outputs": [],
   "source": [
    "# configuration\n",
    "np.random.seed(8)\n",
    "load_path = os.path.join('data','training_data.csv')\n",
    "save_path = os.path.join('results','testing_ene_eln_std_100_groupkfolds.csv')\n",
    "mp_api_key = '7n6DwPUQ5cf8ZTWO'\n",
    "oversample = False\n",
    "data_ramp = True\n",
    "feature_set = ['standard', 'energy', 'electronegativity']"
   ]
  },
  {
   "cell_type": "markdown",
   "metadata": {},
   "source": [
    "## Load data\n",
    "This object should handle data load and sampling.\n",
    "\n",
    "Should be able to do the following:\n",
    "1. load and sample \n",
    "2. Run a data ramp"
   ]
  },
  {
   "cell_type": "code",
   "execution_count": 4,
   "metadata": {},
   "outputs": [
    {
     "name": "stdout",
     "output_type": "stream",
     "text": [
      "'Loaded 2572 records.'\n"
     ]
    }
   ],
   "source": [
    "# Load Data\n",
    "dm = DataManager(load_path, save_path)\n",
    "dm.load()"
   ]
  },
  {
   "cell_type": "code",
   "execution_count": 5,
   "metadata": {},
   "outputs": [],
   "source": [
    "# Sample data\n",
    "dm.sample_data(100)"
   ]
  },
  {
   "cell_type": "code",
   "execution_count": 6,
   "metadata": {},
   "outputs": [],
   "source": [
    "# Format and careate composition objects\n",
    "#dm.compute_formula()\n",
    "dm.to_binary_classes()\n",
    "dm.get_pymatgen_composition()\n",
    "dm.remove_noble_gasses()\n",
    "dm.remove_features()"
   ]
  },
  {
   "cell_type": "code",
   "execution_count": 32,
   "metadata": {},
   "outputs": [],
   "source": [
    "f = Featurizer(feature_set)"
   ]
  },
  {
   "cell_type": "code",
   "execution_count": 33,
   "metadata": {},
   "outputs": [
    {
     "data": {
      "application/vnd.jupyter.widget-view+json": {
       "model_id": "2787fed373b2410fad97578f472b9678",
       "version_major": 2,
       "version_minor": 0
      },
      "text/plain": [
       "HBox(children=(IntProgress(value=0, description='MultipleFeaturizer', max=871, style=ProgressStyle(description…"
      ]
     },
     "metadata": {},
     "output_type": "display_data"
    },
    {
     "name": "stdout",
     "output_type": "stream",
     "text": [
      "\n"
     ]
    }
   ],
   "source": [
    "X = f.featurize(dm.data)"
   ]
  },
  {
   "cell_type": "code",
   "execution_count": 34,
   "metadata": {},
   "outputs": [
    {
     "data": {
      "text/plain": [
       "False"
      ]
     },
     "execution_count": 34,
     "metadata": {},
     "output_type": "execute_result"
    }
   ],
   "source": [
    "np.isnan(X).any()"
   ]
  },
  {
   "cell_type": "code",
   "execution_count": 35,
   "metadata": {},
   "outputs": [],
   "source": [
    "groups = dm.data['group']"
   ]
  },
  {
   "cell_type": "code",
   "execution_count": 36,
   "metadata": {},
   "outputs": [],
   "source": [
    "# Set training labels\n",
    "Y = dm.data['stable']"
   ]
  },
  {
   "cell_type": "code",
   "execution_count": 37,
   "metadata": {},
   "outputs": [],
   "source": [
    "k_folds = partial(run_k_folds, inputs=X, outputs=Y, groups=groups, sampling=oversample)"
   ]
  },
  {
   "cell_type": "code",
   "execution_count": 38,
   "metadata": {},
   "outputs": [],
   "source": [
    "# set models\n",
    "models = [GaussianNB(), SVC(), SRC(), LogisticRegression(), DummyClassifier(strategy=\"most_frequent\")]\n",
    "#models = [SVC()]"
   ]
  },
  {
   "cell_type": "code",
   "execution_count": 39,
   "metadata": {},
   "outputs": [],
   "source": [
    "%%capture\n",
    "pool = mp.Pool(processes=mp.cpu_count())"
   ]
  },
  {
   "cell_type": "code",
   "execution_count": 40,
   "metadata": {},
   "outputs": [],
   "source": [
    "%%capture\n",
    "start_time = timeit.default_timer()\n",
    "results = pool.map(k_folds, models)    \n",
    "elapsed = timeit.default_timer() - start_time"
   ]
  },
  {
   "cell_type": "code",
   "execution_count": 41,
   "metadata": {},
   "outputs": [
    {
     "data": {
      "text/html": [
       "<div>\n",
       "<style scoped>\n",
       "    .dataframe tbody tr th:only-of-type {\n",
       "        vertical-align: middle;\n",
       "    }\n",
       "\n",
       "    .dataframe tbody tr th {\n",
       "        vertical-align: top;\n",
       "    }\n",
       "\n",
       "    .dataframe thead th {\n",
       "        text-align: right;\n",
       "    }\n",
       "</style>\n",
       "<table border=\"1\" class=\"dataframe\">\n",
       "  <thead>\n",
       "    <tr style=\"text-align: right;\">\n",
       "      <th></th>\n",
       "      <th>type</th>\n",
       "      <th>accuracy</th>\n",
       "      <th>accuracy_std</th>\n",
       "      <th>f1</th>\n",
       "      <th>f1_std</th>\n",
       "      <th>recall</th>\n",
       "      <th>recall_std</th>\n",
       "      <th>precision</th>\n",
       "      <th>precision_std</th>\n",
       "    </tr>\n",
       "  </thead>\n",
       "  <tbody>\n",
       "    <tr>\n",
       "      <th>0</th>\n",
       "      <td>GaussianNB</td>\n",
       "      <td>0.822265</td>\n",
       "      <td>0.094755</td>\n",
       "      <td>0.516789</td>\n",
       "      <td>0.104154</td>\n",
       "      <td>0.532717</td>\n",
       "      <td>0.114971</td>\n",
       "      <td>0.555572</td>\n",
       "      <td>0.189302</td>\n",
       "    </tr>\n",
       "    <tr>\n",
       "      <th>1</th>\n",
       "      <td>SVC</td>\n",
       "      <td>0.833208</td>\n",
       "      <td>0.030400</td>\n",
       "      <td>0.000000</td>\n",
       "      <td>0.000000</td>\n",
       "      <td>0.000000</td>\n",
       "      <td>0.000000</td>\n",
       "      <td>0.000000</td>\n",
       "      <td>0.000000</td>\n",
       "    </tr>\n",
       "    <tr>\n",
       "      <th>2</th>\n",
       "      <td>RandomForestClassifier</td>\n",
       "      <td>0.904566</td>\n",
       "      <td>0.024164</td>\n",
       "      <td>0.649579</td>\n",
       "      <td>0.069213</td>\n",
       "      <td>0.530579</td>\n",
       "      <td>0.076656</td>\n",
       "      <td>0.853687</td>\n",
       "      <td>0.113564</td>\n",
       "    </tr>\n",
       "    <tr>\n",
       "      <th>3</th>\n",
       "      <td>LogisticRegression</td>\n",
       "      <td>0.878338</td>\n",
       "      <td>0.045551</td>\n",
       "      <td>0.624953</td>\n",
       "      <td>0.106217</td>\n",
       "      <td>0.596016</td>\n",
       "      <td>0.114602</td>\n",
       "      <td>0.679515</td>\n",
       "      <td>0.143107</td>\n",
       "    </tr>\n",
       "    <tr>\n",
       "      <th>4</th>\n",
       "      <td>DummyClassifier</td>\n",
       "      <td>0.833208</td>\n",
       "      <td>0.030400</td>\n",
       "      <td>0.000000</td>\n",
       "      <td>0.000000</td>\n",
       "      <td>0.000000</td>\n",
       "      <td>0.000000</td>\n",
       "      <td>0.000000</td>\n",
       "      <td>0.000000</td>\n",
       "    </tr>\n",
       "  </tbody>\n",
       "</table>\n",
       "</div>"
      ],
      "text/plain": [
       "                     type  accuracy  accuracy_std        f1    f1_std  \\\n",
       "0              GaussianNB  0.822265      0.094755  0.516789  0.104154   \n",
       "1                     SVC  0.833208      0.030400  0.000000  0.000000   \n",
       "2  RandomForestClassifier  0.904566      0.024164  0.649579  0.069213   \n",
       "3      LogisticRegression  0.878338      0.045551  0.624953  0.106217   \n",
       "4         DummyClassifier  0.833208      0.030400  0.000000  0.000000   \n",
       "\n",
       "     recall  recall_std  precision  precision_std  \n",
       "0  0.532717    0.114971   0.555572       0.189302  \n",
       "1  0.000000    0.000000   0.000000       0.000000  \n",
       "2  0.530579    0.076656   0.853687       0.113564  \n",
       "3  0.596016    0.114602   0.679515       0.143107  \n",
       "4  0.000000    0.000000   0.000000       0.000000  "
      ]
     },
     "execution_count": 41,
     "metadata": {},
     "output_type": "execute_result"
    }
   ],
   "source": [
    "compiled = compile_data(results)\n",
    "res_df = pd.DataFrame(compiled, columns=report_column_labels)\n",
    "res_df.to_csv(save_path)\n",
    "res_df"
   ]
  },
  {
   "cell_type": "markdown",
   "metadata": {},
   "source": [
    "# Single model test"
   ]
  },
  {
   "cell_type": "code",
   "execution_count": 276,
   "metadata": {},
   "outputs": [],
   "source": [
    "from sklearn.utils import resample\n",
    "from collections import Counter\n",
    "def local_oversample(train, outputs):\n",
    "    majority_class, minority_class = Counter(outputs[train]).most_common()\n",
    "    minority = numpy.where(outputs[train] == minority_class[0])[0]\n",
    "    majority = numpy.where(outputs[train] == majority_class[0])[0]\n",
    "    minority_upsampled = resample(minority,\n",
    "                              replace=True,\n",
    "                              n_samples=len(majority),\n",
    "                              random_state=8)                          \n",
    "    return (numpy.append(minority, minority_upsampled), minority, majority, minority_upsampled)"
   ]
  },
  {
   "cell_type": "code",
   "execution_count": 277,
   "metadata": {},
   "outputs": [],
   "source": [
    "model = SVC()\n",
    "ovs = True"
   ]
  },
  {
   "cell_type": "code",
   "execution_count": 278,
   "metadata": {},
   "outputs": [],
   "source": [
    "from sklearn.metrics import accuracy_score, precision_recall_fscore_support\n",
    "from sklearn.model_selection import KFold, GroupKFold\n",
    "inputs = X\n",
    "outputs = Y\n",
    "groups = dm.data['group']\n",
    "gkf = GroupKFold(n_splits=10)\n",
    "splits = list(gkf.split(inputs, outputs, groups=groups))"
   ]
  },
  {
   "cell_type": "code",
   "execution_count": 279,
   "metadata": {},
   "outputs": [],
   "source": [
    "%%capture\n",
    "train, test = splits[0]\n",
    "if ovs:\n",
    "    train, minority, majority, minority_upsampled = local_oversample(train, outputs)\n",
    "train_df = pandas.DataFrame(dm.data.ix[train, ['formula','group','stable']])\n",
    "test_df = pandas.DataFrame(dm.data.ix[test, ['formula','group','stable']])\n",
    "\n",
    "model.fit(inputs[train], outputs[train])\n",
    "prediction = model.predict(inputs[test])\n",
    "pred_df = pandas.DataFrame(dm.data.ix[test, ['formula','group','stable']])\n",
    "pred_df['prediction'] = prediction\n",
    "acc = accuracy_score(outputs[test], prediction)\n",
    "acc_df = pandas.DataFrame([acc], columns=['accuracy'])\n"
   ]
  },
  {
   "cell_type": "code",
   "execution_count": 280,
   "metadata": {},
   "outputs": [],
   "source": [
    "f1s = [precision_recall_fscore_support(\n",
    "    outputs[test], prediction, labels=[0,1], average='binary')]\n",
    "f1_df = pandas.DataFrame(\n",
    "        f1s, columns=['precision', 'recall', 'f1', 'support'])"
   ]
  },
  {
   "cell_type": "code",
   "execution_count": 281,
   "metadata": {},
   "outputs": [
    {
     "data": {
      "text/html": [
       "<div>\n",
       "<style scoped>\n",
       "    .dataframe tbody tr th:only-of-type {\n",
       "        vertical-align: middle;\n",
       "    }\n",
       "\n",
       "    .dataframe tbody tr th {\n",
       "        vertical-align: top;\n",
       "    }\n",
       "\n",
       "    .dataframe thead th {\n",
       "        text-align: right;\n",
       "    }\n",
       "</style>\n",
       "<table border=\"1\" class=\"dataframe\">\n",
       "  <thead>\n",
       "    <tr style=\"text-align: right;\">\n",
       "      <th></th>\n",
       "      <th>precision</th>\n",
       "      <th>recall</th>\n",
       "      <th>f1</th>\n",
       "      <th>support</th>\n",
       "      <th>accuracy</th>\n",
       "      <th>overlap</th>\n",
       "      <th>pred_0</th>\n",
       "      <th>pred_1</th>\n",
       "      <th>acc_0</th>\n",
       "      <th>acc_1</th>\n",
       "      <th>smpl_0</th>\n",
       "      <th>smpl_1</th>\n",
       "    </tr>\n",
       "  </thead>\n",
       "  <tbody>\n",
       "    <tr>\n",
       "      <th>0</th>\n",
       "      <td>1.0</td>\n",
       "      <td>0.266667</td>\n",
       "      <td>0.421053</td>\n",
       "      <td>None</td>\n",
       "      <td>0.8625</td>\n",
       "      <td>True</td>\n",
       "      <td>76</td>\n",
       "      <td>4</td>\n",
       "      <td>65</td>\n",
       "      <td>15</td>\n",
       "      <td>413</td>\n",
       "      <td>324</td>\n",
       "    </tr>\n",
       "  </tbody>\n",
       "</table>\n",
       "</div>"
      ],
      "text/plain": [
       "   precision    recall        f1 support  accuracy  overlap  pred_0  pred_1  \\\n",
       "0        1.0  0.266667  0.421053    None    0.8625     True      76       4   \n",
       "\n",
       "   acc_0  acc_1  smpl_0  smpl_1  \n",
       "0     65     15     413     324  "
      ]
     },
     "execution_count": 281,
     "metadata": {},
     "output_type": "execute_result"
    }
   ],
   "source": [
    "ov_df = pd.DataFrame([train_df['group'].isin(test_df['group']).any()], columns=['overlap'])\n",
    "\n",
    "try:\n",
    "    lab_df = pandas.DataFrame([pred_df['prediction'].value_counts().values], columns=['pred_0','pred_1'])\n",
    "except:\n",
    "    lab_df = pandas.DataFrame([pred_df['prediction'].value_counts().values], columns=['pred_0'])\n",
    "if ovs:\n",
    "    sample_df = pandas.DataFrame([train_df['stable'].value_counts().values], columns=['smpl_0','smpl_1'])\n",
    "else:\n",
    "    sample_df = pandas.DataFrame([], columns=['sample'])\n",
    "ac_lab_df = pandas.DataFrame([test_df['stable'].value_counts().values], columns=['acc_0','acc_1'])\n",
    "\n",
    "f1_df.join(acc_df).join(ov_df).join(lab_df).join(ac_lab_df).join(sample_df)"
   ]
  },
  {
   "cell_type": "code",
   "execution_count": 282,
   "metadata": {},
   "outputs": [
    {
     "name": "stdout",
     "output_type": "stream",
     "text": [
      "'Minority: 143'\n",
      "'Majority: 594'\n",
      "'Minority Upsampled: 594'\n"
     ]
    }
   ],
   "source": [
    "pprint(f\"Minority: {len(minority)}\")\n",
    "pprint(f\"Majority: {len(majority)}\")\n",
    "pprint(f\"Minority Upsampled: {len(minority_upsampled)}\")"
   ]
  },
  {
   "cell_type": "code",
   "execution_count": null,
   "metadata": {},
   "outputs": [],
   "source": []
  },
  {
   "cell_type": "code",
   "execution_count": null,
   "metadata": {},
   "outputs": [],
   "source": []
  }
 ],
 "metadata": {
  "kernelspec": {
   "display_name": "Python 3",
   "language": "python",
   "name": "python3"
  },
  "language_info": {
   "codemirror_mode": {
    "name": "ipython",
    "version": 3
   },
   "file_extension": ".py",
   "mimetype": "text/x-python",
   "name": "python",
   "nbconvert_exporter": "python",
   "pygments_lexer": "ipython3",
   "version": "3.7.3"
  }
 },
 "nbformat": 4,
 "nbformat_minor": 2
}
