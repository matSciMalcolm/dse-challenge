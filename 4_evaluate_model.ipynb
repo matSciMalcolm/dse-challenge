{
 "cells": [
  {
   "cell_type": "markdown",
   "metadata": {},
   "source": [
    "# Model Evauation\n",
    "Classification models need the following metrics\n",
    "\n",
    "Cross Validation\n",
    "- Accuracy\n",
    "- error\n",
    "\n",
    "ROC Curve\n",
    "Steps\n",
    "- load data\n",
    "- featurize\n",
    "- choose model\n",
    "- pass data and HP's\n",
    "- run CV\n",
    "- ROC possible?\n",
    "- tabulate results\n",
    "- report"
   ]
  },
  {
   "cell_type": "code",
   "execution_count": 3,
   "metadata": {},
   "outputs": [],
   "source": [
    "import os\n",
    "from pprint import pprint\n",
    "import numpy as np\n",
    "import pandas as pd\n",
    "from utils import (get_compostion, \n",
    "                   check_nobility, \n",
    "                   Result, run_k_folds, \n",
    "                   run_k_folds_oversample,\n",
    "                   report_column_labels,\n",
    "                   compile_data)\n",
    "from matminer.featurizers import composition as cf\n",
    "from matminer.featurizers.conversions import CompositionToOxidComposition\n",
    "from matminer.featurizers.composition import OxidationStates\n",
    "from matminer.featurizers.base import MultipleFeaturizer\n",
    "from sklearn.svm import SVC\n",
    "from sklearn.naive_bayes import GaussianNB\n",
    "from sklearn.ensemble import RandomForestClassifier as SRC\n",
    "from lolopy.learners import RandomForestClassifier as LRC\n",
    "from sklearn.linear_model import LogisticRegression\n",
    "from sklearn.dummy import DummyClassifier\n",
    "import multiprocessing as mp\n",
    "from functools import partial\n",
    "from itertools import product\n",
    "import timeit\n",
    "import uuid"
   ]
  },
  {
   "cell_type": "code",
   "execution_count": 46,
   "metadata": {},
   "outputs": [],
   "source": [
    "# configuration\n",
    "np.random.seed(8)\n",
    "load_path = os.path.join('data','training_data.csv')\n",
    "save_path = os.path.join('results','data_ramp.csv')\n",
    "mp_api_key = '7n6DwPUQ5cf8ZTWO'\n",
    "lr = False\n",
    "energy_features = False\n",
    "electronegativity_features = False\n",
    "oversample = False\n",
    "data_ramp = True"
   ]
  },
  {
   "cell_type": "markdown",
   "metadata": {},
   "source": [
    "## Load data\n",
    "This object should handle data load and sampling.\n",
    "\n",
    "Should be able to do the following:\n",
    "1. load and sample \n",
    "2. Run a data ramp"
   ]
  },
  {
   "cell_type": "code",
   "execution_count": 106,
   "metadata": {},
   "outputs": [],
   "source": [
    "import pandas\n",
    "from pymatgen import Composition\n",
    "\n",
    "class DataManager():\n",
    "    def __init__(self, load_path, save_path):\n",
    "        self.load_path = load_path\n",
    "        self.save_path = save_path\n",
    "        self.data = None\n",
    "        self.num_records = None\n",
    "        \n",
    "        \n",
    "    def load(self):\n",
    "        self.data = pandas.read_csv(self.load_path)\n",
    "        self.num_records = len(self.data.index)\n",
    "        pprint(f\"Loaded {self.num_records} records.\")\n",
    "        \n",
    "        \n",
    "    def sample_data(self, sample_size: int = 1000):\n",
    "        if not self.data.empty:\n",
    "            self.data = self.data.sample(sample_size)\n",
    "            self.data.reset_index(drop=True, inplace=True)\n",
    "            self.num_records = len(self.data.index)\n",
    "            \n",
    "            \n",
    "    def ramp(self):\n",
    "        pass\n",
    "    \n",
    "    \n",
    "    def get_pymatgen_composition(self):\n",
    "        if not self.data.empty:\n",
    "            def _get_composition(c):\n",
    "                \"\"\"Attempt to parse composition, return None if failed\"\"\"\n",
    "                try:\n",
    "                    return Composition(c)\n",
    "                except:\n",
    "                    return None\n",
    "            \n",
    "            self.data['composition'] = self.data['formula'].apply(_get_composition)\n",
    "    \n",
    "    \n",
    "    def remove_noble_gasses(self):\n",
    "        if not self.data.empty:\n",
    "            def _check_nobility(row):\n",
    "                comp = row['composition']\n",
    "                return comp.contains_element_type('noble_gas')\n",
    "            \n",
    "            self.data['noble'] = self.data.apply(_check_nobility, axis=1)\n",
    "            self.data = self.data[self.data['noble'] == False]\n",
    "            self.data.reset_index(drop=True, inplace=True)\n",
    "    \n",
    "    \n",
    "    def remove_features(self):\n",
    "        if 'composition' in self.data.columns:\n",
    "            self.data = self.data[['formula','formulaA','formulaB','composition','stabilityVec']]\n",
    "    \n",
    "    def compute_formula(self):\n",
    "        self.data['formula'] = self.data['formulaA'] + self.data['formulaB']\n",
    "    def save_to_csv(self):\n",
    "        pass\n",
    "    "
   ]
  },
  {
   "cell_type": "code",
   "execution_count": 107,
   "metadata": {},
   "outputs": [
    {
     "name": "stdout",
     "output_type": "stream",
     "text": [
      "'Loaded 2572 records.'\n"
     ]
    }
   ],
   "source": [
    "# Load Data\n",
    "dm = DataManager(load_path, save_path)\n",
    "dm.load()\n",
    "#dm.data.head()"
   ]
  },
  {
   "cell_type": "code",
   "execution_count": 108,
   "metadata": {},
   "outputs": [],
   "source": [
    "if lr:\n",
    "    # If working with logistic regression\n",
    "    load_path = os.path.join('data','training_data.csv')\n",
    "    data = pd.read_csv(load_path)\n",
    "    classes = list(product([0.0,1.0],repeat=10))\n",
    "    data['formula'] = data['formulaA'] + data['formulaB']\n",
    "    data.rename({'stabilityVec':'stable'}, axis=1, inplace=True)\n",
    "    data = data[['formula', 'stable']]"
   ]
  },
  {
   "cell_type": "code",
   "execution_count": 109,
   "metadata": {},
   "outputs": [],
   "source": [
    "# Sample data\n",
    "dm.sample_data()"
   ]
  },
  {
   "cell_type": "code",
   "execution_count": 110,
   "metadata": {},
   "outputs": [],
   "source": [
    "# Format and careate composition objects\n",
    "dm.compute_formula()\n",
    "dm.get_pymatgen_composition()\n",
    "dm.remove_noble_gasses()\n",
    "dm.remove_features()"
   ]
  },
  {
   "cell_type": "code",
   "execution_count": 112,
   "metadata": {},
   "outputs": [],
   "source": [
    "from typing import List\n",
    "\n",
    "class Featurizer():\n",
    "    def __init__(self, feature_set: List('str') = ['standard']):\n",
    "        self.feature_set = feature_set\n",
    "        \n",
    "        standard_features = [cf.Stoichiometry(), cf.ElementProperty.from_preset(\"magpie\"),\n",
    "                             cf.ValenceOrbital(props=['avg']), cf.IonProperty(fast=True)]\n",
    "        self.featurizers = {'standard': standard_features,\n",
    "                           'energy': standard_features.extend([cf.OxidationStates(), cf.ElectronegativityDiff()]),\n",
    "                           'electronegtivity':} \n",
    "    def _get_featurizer(self:)    \n",
    "    \n",
    "    \n",
    "    def featurize(self, data: pandas.DataFrame) -> pandas.DataFrame:\n",
    "        if 'energy' or 'electronegtivity' in feature_set:\n",
    "                data = CompositionToOxidComposition(return_original_on_error=True,\n",
    "                                                    overwrite_data=True).featurize_dataframe(data,\n",
    "                                                                                             'composition',\n",
    "                                                                                            ignore_errors=True)\n",
    "        \n",
    "\n",
    "            features = []"
   ]
  },
  {
   "cell_type": "code",
   "execution_count": 69,
   "metadata": {},
   "outputs": [
    {
     "ename": "TypeError",
     "evalue": "'DataManager' object is not subscriptable",
     "output_type": "error",
     "traceback": [
      "\u001b[0;31m---------------------------------------------------------------------------\u001b[0m",
      "\u001b[0;31mTypeError\u001b[0m                                 Traceback (most recent call last)",
      "\u001b[0;32m<ipython-input-69-1a1d7e8bd834>\u001b[0m in \u001b[0;36m<module>\u001b[0;34m\u001b[0m\n\u001b[1;32m     19\u001b[0m \u001b[0;32melse\u001b[0m\u001b[0;34m:\u001b[0m\u001b[0;34m\u001b[0m\u001b[0;34m\u001b[0m\u001b[0m\n\u001b[1;32m     20\u001b[0m     \u001b[0mf\u001b[0m \u001b[0;34m=\u001b[0m \u001b[0mMultipleFeaturizer\u001b[0m\u001b[0;34m(\u001b[0m\u001b[0mstandard_features\u001b[0m\u001b[0;34m)\u001b[0m\u001b[0;34m\u001b[0m\u001b[0;34m\u001b[0m\u001b[0m\n\u001b[0;32m---> 21\u001b[0;31m     \u001b[0mX\u001b[0m \u001b[0;34m=\u001b[0m \u001b[0mnp\u001b[0m\u001b[0;34m.\u001b[0m\u001b[0marray\u001b[0m\u001b[0;34m(\u001b[0m\u001b[0mf\u001b[0m\u001b[0;34m.\u001b[0m\u001b[0mfeaturize_many\u001b[0m\u001b[0;34m(\u001b[0m\u001b[0mdata\u001b[0m\u001b[0;34m[\u001b[0m\u001b[0;34m'composition'\u001b[0m\u001b[0;34m]\u001b[0m\u001b[0;34m,\u001b[0m \u001b[0mignore_errors\u001b[0m\u001b[0;34m=\u001b[0m\u001b[0;32mTrue\u001b[0m\u001b[0;34m)\u001b[0m\u001b[0;34m)\u001b[0m\u001b[0;34m\u001b[0m\u001b[0;34m\u001b[0m\u001b[0m\n\u001b[0m",
      "\u001b[0;31mTypeError\u001b[0m: 'DataManager' object is not subscriptable"
     ]
    }
   ],
   "source": [
    "# Featurize Data\n",
    "#%%capture\n",
    "standard_features = [cf.Stoichiometry(), cf.ElementProperty.from_preset(\"magpie\"),\n",
    "                             cf.ValenceOrbital(props=['avg']), cf.IonProperty(fast=True)]\n",
    "if energy_features:\n",
    "    standard_features.append(cf.CohesiveEnergy(mapi_key=mp_api_key))\n",
    "    f = MultipleFeaturizer(standard_features)\n",
    "    X = np.array(f.featurize_many(data['composition'], ignore_errors=True))\n",
    "elif electronegativity_features:\n",
    "    standard_features.extend([cf.OxidationStates(), cf.ElectronegativityDiff()])\n",
    "    f = MultipleFeaturizer(standard_features)\n",
    "    X = np.array(f.featurize_many(data['composition_oxid'], ignore_errors=True))\n",
    "elif energy_features and electronegativity_features:\n",
    "    data = CompositionToOxidComposition(return_original_on_error=True, overwrite_data=True).featurize_dataframe(data, 'composition', ignore_errors=True)\n",
    "    standard_features.extend([cf.OxidationStates(), cf.ElectronegativityDiff(), cf.CohesiveEnergy(mapi_key=mp_api_key)])\n",
    "    f = MultipleFeaturizer(standard_features)\n",
    "    X = np.array(f.featurize_many(data['composition_oxid'], ignore_errors=True))\n",
    "else:\n",
    "    f = MultipleFeaturizer(standard_features)\n",
    "    X = np.array(f.featurize_many(data['composition'], ignore_errors=True))"
   ]
  },
  {
   "cell_type": "code",
   "execution_count": 111,
   "metadata": {},
   "outputs": [],
   "source": [
    "# Imputation method\n",
    "X = np.nan_to_num(X)\n",
    "#X = X[~np.isnan(X).any(axis=1)]"
   ]
  },
  {
   "cell_type": "code",
   "execution_count": 113,
   "metadata": {},
   "outputs": [],
   "source": [
    "# Set training labels\n",
    "Y = data['stable']"
   ]
  },
  {
   "cell_type": "code",
   "execution_count": 114,
   "metadata": {},
   "outputs": [],
   "source": [
    "if oversample:\n",
    "    k_folds = partial(run_k_folds_oversample, inputs=X, outputs=Y)\n",
    "else:\n",
    "    k_folds = partial(run_k_folds, inputs=X, outputs=Y)"
   ]
  },
  {
   "cell_type": "code",
   "execution_count": 115,
   "metadata": {},
   "outputs": [],
   "source": [
    "# set models\n",
    "models = [GaussianNB(), SVC(), SRC(), LogisticRegression(), DummyClassifier(strategy=\"most_frequent\")]"
   ]
  },
  {
   "cell_type": "code",
   "execution_count": 116,
   "metadata": {},
   "outputs": [],
   "source": [
    "if lr:\n",
    "# Logistic Regression\n",
    "    models[0].classes = classes"
   ]
  },
  {
   "cell_type": "code",
   "execution_count": 117,
   "metadata": {},
   "outputs": [],
   "source": [
    "%%capture\n",
    "pool = mp.Pool(processes=mp.cpu_count())"
   ]
  },
  {
   "cell_type": "code",
   "execution_count": 118,
   "metadata": {},
   "outputs": [],
   "source": [
    "%%capture\n",
    "start_time = timeit.default_timer()\n",
    "if data_ramp:\n",
    "    X_splits = np.split(X, 5)\n",
    "    Y_splits = np.split(Y, 5)\n",
    "    for i in range(5):\n",
    "        x = np.ndarray()\n",
    "        for arr in X_splits[:i]:\n",
    "            x.append(arr)\n",
    "        if oversample:\n",
    "            results = [run_k_folds_oversample(model, inputs=x, outputs=y) for model in models]\n",
    "        else:\n",
    "            results = [run_k_folds(model, inputs=x, outputs=y) for model in models]\n",
    "else:\n",
    "    results = pool.map(k_folds, models)\n",
    "    \n",
    "    \n",
    "elapsed = timeit.default_timer() - start_time"
   ]
  },
  {
   "cell_type": "code",
   "execution_count": 120,
   "metadata": {},
   "outputs": [],
   "source": [
    "if not data_ramp:\n",
    "    compiled = compile_results(results)\n",
    "else:\n",
    "    compiled\n",
    "res_df = pd.DataFrame(compiled, columns=report_column_labels)\n",
    "res_df.to_csv(save_path)\n",
    "res_df"
   ]
  }
 ],
 "metadata": {
  "kernelspec": {
   "display_name": "Python 3",
   "language": "python",
   "name": "python3"
  },
  "language_info": {
   "codemirror_mode": {
    "name": "ipython",
    "version": 3
   },
   "file_extension": ".py",
   "mimetype": "text/x-python",
   "name": "python",
   "nbconvert_exporter": "python",
   "pygments_lexer": "ipython3",
   "version": "3.7.3"
  }
 },
 "nbformat": 4,
 "nbformat_minor": 2
}
