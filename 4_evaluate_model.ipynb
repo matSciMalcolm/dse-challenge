{
 "cells": [
  {
   "cell_type": "markdown",
   "metadata": {},
   "source": [
    "# Model Evauation\n",
    "Classification models need the following metrics\n",
    "\n",
    "Cross Validation\n",
    "- Accuracy\n",
    "- error\n",
    "\n",
    "ROC Curve"
   ]
  },
  {
   "cell_type": "markdown",
   "metadata": {},
   "source": [
    "## SKL Models"
   ]
  },
  {
   "cell_type": "code",
   "execution_count": 1,
   "metadata": {},
   "outputs": [],
   "source": [
    "import os\n",
    "from pprint import pprint\n",
    "import numpy as np\n",
    "import pandas as pd\n",
    "from utils import get_compostion, check_nobility, Result, run_k_folds\n",
    "from matminer.featurizers import composition as cf\n",
    "from matminer.featurizers.base import MultipleFeaturizer\n",
    "from sklearn.svm import SVC\n",
    "from sklearn.naive_bayes import GaussianNB\n",
    "from sklearn.ensemble import RandomForestClassifier as SRC\n",
    "from lolopy.learners import RandomForestClassifier as LRC\n",
    "from sklearn.linear_model import LogisticRegression\n",
    "from sklearn.dummy import DummyClassifier\n",
    "import multiprocessing as mp\n",
    "from functools import partial\n",
    "from itertools import product\n",
    "import timeit\n",
    "import uuid"
   ]
  },
  {
   "cell_type": "code",
   "execution_count": 2,
   "metadata": {},
   "outputs": [],
   "source": [
    "# load data\n",
    "# featurize\n",
    "# choose model\n",
    "# pass data and HP's\n",
    "# run CV\n",
    "# ROC possible?\n",
    "# tabulate results\n",
    "# report"
   ]
  },
  {
   "cell_type": "code",
   "execution_count": 3,
   "metadata": {},
   "outputs": [],
   "source": [
    "# configuration\n",
    "np.random.seed(8)\n",
    "load_path = os.path.join('data','processed_data.csv')\n",
    "save_path = os.path.join('results','oversample_2_report.csv')\n",
    "lr = False"
   ]
  },
  {
   "cell_type": "code",
   "execution_count": 4,
   "metadata": {},
   "outputs": [
    {
     "name": "stdout",
     "output_type": "stream",
     "text": [
      "'Loaded 25802 records.'\n"
     ]
    },
    {
     "data": {
      "text/html": [
       "<div>\n",
       "<style scoped>\n",
       "    .dataframe tbody tr th:only-of-type {\n",
       "        vertical-align: middle;\n",
       "    }\n",
       "\n",
       "    .dataframe tbody tr th {\n",
       "        vertical-align: top;\n",
       "    }\n",
       "\n",
       "    .dataframe thead th {\n",
       "        text-align: right;\n",
       "    }\n",
       "</style>\n",
       "<table border=\"1\" class=\"dataframe\">\n",
       "  <thead>\n",
       "    <tr style=\"text-align: right;\">\n",
       "      <th></th>\n",
       "      <th>formula</th>\n",
       "      <th>formulaA</th>\n",
       "      <th>formulaB</th>\n",
       "      <th>stable</th>\n",
       "    </tr>\n",
       "  </thead>\n",
       "  <tbody>\n",
       "    <tr>\n",
       "      <th>0</th>\n",
       "      <td>Ne</td>\n",
       "      <td>Ne</td>\n",
       "      <td>He</td>\n",
       "      <td>1</td>\n",
       "    </tr>\n",
       "    <tr>\n",
       "      <th>1</th>\n",
       "      <td>Cs</td>\n",
       "      <td>Cs</td>\n",
       "      <td>He</td>\n",
       "      <td>1</td>\n",
       "    </tr>\n",
       "    <tr>\n",
       "      <th>2</th>\n",
       "      <td>K</td>\n",
       "      <td>K</td>\n",
       "      <td>He</td>\n",
       "      <td>1</td>\n",
       "    </tr>\n",
       "    <tr>\n",
       "      <th>3</th>\n",
       "      <td>Ba</td>\n",
       "      <td>Ba</td>\n",
       "      <td>He</td>\n",
       "      <td>1</td>\n",
       "    </tr>\n",
       "    <tr>\n",
       "      <th>4</th>\n",
       "      <td>Sr</td>\n",
       "      <td>Sr</td>\n",
       "      <td>He</td>\n",
       "      <td>1</td>\n",
       "    </tr>\n",
       "  </tbody>\n",
       "</table>\n",
       "</div>"
      ],
      "text/plain": [
       "  formula formulaA formulaB  stable\n",
       "0      Ne       Ne       He       1\n",
       "1      Cs       Cs       He       1\n",
       "2       K        K       He       1\n",
       "3      Ba       Ba       He       1\n",
       "4      Sr       Sr       He       1"
      ]
     },
     "execution_count": 4,
     "metadata": {},
     "output_type": "execute_result"
    }
   ],
   "source": [
    "# Load Data\n",
    "data = pd.read_csv(load_path)\n",
    "pprint(f\"Loaded {len(data.index)} records.\")\n",
    "data.head()"
   ]
  },
  {
   "cell_type": "code",
   "execution_count": null,
   "metadata": {},
   "outputs": [],
   "source": []
  },
  {
   "cell_type": "code",
   "execution_count": 5,
   "metadata": {},
   "outputs": [],
   "source": [
    "if lr:\n",
    "    # If working with logistic regression\n",
    "    load_path = os.path.join('data','training_data.csv')\n",
    "    data = pd.read_csv(load_path)\n",
    "    classes = list(product([0.0,1.0],repeat=10))\n",
    "    data['formula'] = data['formulaA'] + data['formulaB']\n",
    "    data.rename({'stabilityVec':'stable'}, axis=1, inplace=True)\n",
    "    data = data[['formula', 'stable']]"
   ]
  },
  {
   "cell_type": "code",
   "execution_count": 6,
   "metadata": {},
   "outputs": [
    {
     "data": {
      "text/html": [
       "<div>\n",
       "<style scoped>\n",
       "    .dataframe tbody tr th:only-of-type {\n",
       "        vertical-align: middle;\n",
       "    }\n",
       "\n",
       "    .dataframe tbody tr th {\n",
       "        vertical-align: top;\n",
       "    }\n",
       "\n",
       "    .dataframe thead th {\n",
       "        text-align: right;\n",
       "    }\n",
       "</style>\n",
       "<table border=\"1\" class=\"dataframe\">\n",
       "  <thead>\n",
       "    <tr style=\"text-align: right;\">\n",
       "      <th></th>\n",
       "      <th>composition</th>\n",
       "      <th>stable</th>\n",
       "    </tr>\n",
       "  </thead>\n",
       "  <tbody>\n",
       "    <tr>\n",
       "      <th>789</th>\n",
       "      <td>(Nb, Cs)</td>\n",
       "      <td>0</td>\n",
       "    </tr>\n",
       "    <tr>\n",
       "      <th>132</th>\n",
       "      <td>(Ge, Ce)</td>\n",
       "      <td>1</td>\n",
       "    </tr>\n",
       "    <tr>\n",
       "      <th>49</th>\n",
       "      <td>(Ce, Ac)</td>\n",
       "      <td>0</td>\n",
       "    </tr>\n",
       "    <tr>\n",
       "      <th>738</th>\n",
       "      <td>(Pt, Si)</td>\n",
       "      <td>0</td>\n",
       "    </tr>\n",
       "    <tr>\n",
       "      <th>742</th>\n",
       "      <td>(Si)</td>\n",
       "      <td>1</td>\n",
       "    </tr>\n",
       "    <tr>\n",
       "      <th>562</th>\n",
       "      <td>(Th)</td>\n",
       "      <td>1</td>\n",
       "    </tr>\n",
       "    <tr>\n",
       "      <th>32</th>\n",
       "      <td>(Ho, U)</td>\n",
       "      <td>0</td>\n",
       "    </tr>\n",
       "    <tr>\n",
       "      <th>353</th>\n",
       "      <td>(Li, Sb)</td>\n",
       "      <td>0</td>\n",
       "    </tr>\n",
       "    <tr>\n",
       "      <th>673</th>\n",
       "      <td>(Tb, Ir)</td>\n",
       "      <td>1</td>\n",
       "    </tr>\n",
       "    <tr>\n",
       "      <th>354</th>\n",
       "      <td>(Pr, Sn)</td>\n",
       "      <td>0</td>\n",
       "    </tr>\n",
       "  </tbody>\n",
       "</table>\n",
       "</div>"
      ],
      "text/plain": [
       "    composition  stable\n",
       "789    (Nb, Cs)       0\n",
       "132    (Ge, Ce)       1\n",
       "49     (Ce, Ac)       0\n",
       "738    (Pt, Si)       0\n",
       "742        (Si)       1\n",
       "562        (Th)       1\n",
       "32      (Ho, U)       0\n",
       "353    (Li, Sb)       0\n",
       "673    (Tb, Ir)       1\n",
       "354    (Pr, Sn)       0"
      ]
     },
     "execution_count": 6,
     "metadata": {},
     "output_type": "execute_result"
    }
   ],
   "source": [
    "# Format and Choose Training Data\n",
    "data = data.sample(1000)\n",
    "data['composition'] = data['formula'].apply(get_compostion)\n",
    "data['noble'] = data.apply(check_nobility, axis=1)\n",
    "data = data[data['noble'] == False]\n",
    "data = data[['composition','stable']]\n",
    "data.reset_index(drop=True, inplace=True)\n",
    "data.sample(10)"
   ]
  },
  {
   "cell_type": "code",
   "execution_count": 7,
   "metadata": {},
   "outputs": [
    {
     "data": {
      "application/vnd.jupyter.widget-view+json": {
       "model_id": "5f174c92dc084504b54274db901f9a2f",
       "version_major": 2,
       "version_minor": 0
      },
      "text/plain": [
       "HBox(children=(IntProgress(value=0, description='MultipleFeaturizer', max=887, style=ProgressStyle(description…"
      ]
     },
     "metadata": {},
     "output_type": "display_data"
    },
    {
     "name": "stdout",
     "output_type": "stream",
     "text": [
      "\n"
     ]
    }
   ],
   "source": [
    "# Featurize Data\n",
    "#%%capture\n",
    "f =  MultipleFeaturizer([cf.Stoichiometry(), cf.ElementProperty.from_preset(\"magpie\"),\n",
    "                         cf.ValenceOrbital(props=['avg']), cf.IonProperty(fast=True)])\n",
    "\n",
    "X = np.array(f.featurize_many(data['composition']))"
   ]
  },
  {
   "cell_type": "code",
   "execution_count": 8,
   "metadata": {},
   "outputs": [],
   "source": [
    "# Set training labels\n",
    "Y = data['stable']"
   ]
  },
  {
   "cell_type": "code",
   "execution_count": 9,
   "metadata": {},
   "outputs": [],
   "source": [
    "k_folds = partial(run_k_folds, inputs=X, outputs=Y)"
   ]
  },
  {
   "cell_type": "code",
   "execution_count": 10,
   "metadata": {},
   "outputs": [],
   "source": [
    "# set models\n",
    "models = [GaussianNB(), SVC(), SRC(), LogisticRegression(), DummyClassifier(strategy=\"most_frequent\")]"
   ]
  },
  {
   "cell_type": "code",
   "execution_count": 11,
   "metadata": {},
   "outputs": [],
   "source": [
    "if lr:\n",
    "# Logistic Regression\n",
    "    models[0].classes = classes"
   ]
  },
  {
   "cell_type": "code",
   "execution_count": 12,
   "metadata": {},
   "outputs": [],
   "source": [
    "%%capture\n",
    "pool = mp.Pool(processes=mp.cpu_count())"
   ]
  },
  {
   "cell_type": "code",
   "execution_count": 13,
   "metadata": {},
   "outputs": [],
   "source": [
    "#%%capture\n",
    "start_time = timeit.default_timer()\n",
    "results = pool.map(k_folds, models)\n",
    "elapsed = timeit.default_timer() - start_time"
   ]
  },
  {
   "cell_type": "code",
   "execution_count": 14,
   "metadata": {},
   "outputs": [
    {
     "name": "stdout",
     "output_type": "stream",
     "text": [
      "5.121948334999615\n"
     ]
    }
   ],
   "source": [
    "pprint(elapsed)"
   ]
  },
  {
   "cell_type": "code",
   "execution_count": 15,
   "metadata": {},
   "outputs": [],
   "source": [
    "compiled = [[r.model,\n",
    "  r.accuracy,\n",
    "  r.accuracy_std,\n",
    "  r.f1,\n",
    "  r.f1_std,\n",
    "  r.recall,\n",
    "  r.recall_std,\n",
    "  r.precision,\n",
    "  r.precision_std] for r in results]"
   ]
  },
  {
   "cell_type": "code",
   "execution_count": 16,
   "metadata": {},
   "outputs": [],
   "source": [
    "cols = ['type',\n",
    " 'accuracy',\n",
    " 'accuracy_std',\n",
    " 'f1',\n",
    " 'f1_std',\n",
    " 'recall',\n",
    " 'recall_std',\n",
    " 'precision',\n",
    " 'precision_std']"
   ]
  },
  {
   "cell_type": "code",
   "execution_count": 17,
   "metadata": {},
   "outputs": [],
   "source": [
    "res_df = pd.DataFrame(compiled, columns=cols)"
   ]
  },
  {
   "cell_type": "code",
   "execution_count": 18,
   "metadata": {},
   "outputs": [],
   "source": [
    "res_df.to_csv(save_path)"
   ]
  },
  {
   "cell_type": "code",
   "execution_count": 19,
   "metadata": {},
   "outputs": [
    {
     "data": {
      "text/html": [
       "<div>\n",
       "<style scoped>\n",
       "    .dataframe tbody tr th:only-of-type {\n",
       "        vertical-align: middle;\n",
       "    }\n",
       "\n",
       "    .dataframe tbody tr th {\n",
       "        vertical-align: top;\n",
       "    }\n",
       "\n",
       "    .dataframe thead th {\n",
       "        text-align: right;\n",
       "    }\n",
       "</style>\n",
       "<table border=\"1\" class=\"dataframe\">\n",
       "  <thead>\n",
       "    <tr style=\"text-align: right;\">\n",
       "      <th></th>\n",
       "      <th>type</th>\n",
       "      <th>accuracy</th>\n",
       "      <th>accuracy_std</th>\n",
       "      <th>f1</th>\n",
       "      <th>f1_std</th>\n",
       "      <th>recall</th>\n",
       "      <th>recall_std</th>\n",
       "      <th>precision</th>\n",
       "      <th>precision_std</th>\n",
       "    </tr>\n",
       "  </thead>\n",
       "  <tbody>\n",
       "    <tr>\n",
       "      <th>0</th>\n",
       "      <td>GaussianNB</td>\n",
       "      <td>0.805988</td>\n",
       "      <td>0.037232</td>\n",
       "      <td>0.505250</td>\n",
       "      <td>0.112822</td>\n",
       "      <td>0.489174</td>\n",
       "      <td>0.135322</td>\n",
       "      <td>0.541912</td>\n",
       "      <td>0.129551</td>\n",
       "    </tr>\n",
       "    <tr>\n",
       "      <th>1</th>\n",
       "      <td>SVC</td>\n",
       "      <td>0.974068</td>\n",
       "      <td>0.015164</td>\n",
       "      <td>0.936354</td>\n",
       "      <td>0.036369</td>\n",
       "      <td>0.882329</td>\n",
       "      <td>0.065131</td>\n",
       "      <td>1.000000</td>\n",
       "      <td>0.000000</td>\n",
       "    </tr>\n",
       "    <tr>\n",
       "      <th>2</th>\n",
       "      <td>RandomForestClassifier</td>\n",
       "      <td>0.970710</td>\n",
       "      <td>0.014374</td>\n",
       "      <td>0.929440</td>\n",
       "      <td>0.036209</td>\n",
       "      <td>0.886560</td>\n",
       "      <td>0.075837</td>\n",
       "      <td>0.982738</td>\n",
       "      <td>0.040706</td>\n",
       "    </tr>\n",
       "    <tr>\n",
       "      <th>3</th>\n",
       "      <td>LogisticRegression</td>\n",
       "      <td>0.906410</td>\n",
       "      <td>0.032774</td>\n",
       "      <td>0.749929</td>\n",
       "      <td>0.086352</td>\n",
       "      <td>0.668266</td>\n",
       "      <td>0.101458</td>\n",
       "      <td>0.863554</td>\n",
       "      <td>0.094961</td>\n",
       "    </tr>\n",
       "    <tr>\n",
       "      <th>4</th>\n",
       "      <td>DummyClassifier</td>\n",
       "      <td>0.785853</td>\n",
       "      <td>0.055929</td>\n",
       "      <td>0.000000</td>\n",
       "      <td>0.000000</td>\n",
       "      <td>0.000000</td>\n",
       "      <td>0.000000</td>\n",
       "      <td>0.000000</td>\n",
       "      <td>0.000000</td>\n",
       "    </tr>\n",
       "  </tbody>\n",
       "</table>\n",
       "</div>"
      ],
      "text/plain": [
       "                     type  accuracy  accuracy_std        f1    f1_std  \\\n",
       "0              GaussianNB  0.805988      0.037232  0.505250  0.112822   \n",
       "1                     SVC  0.974068      0.015164  0.936354  0.036369   \n",
       "2  RandomForestClassifier  0.970710      0.014374  0.929440  0.036209   \n",
       "3      LogisticRegression  0.906410      0.032774  0.749929  0.086352   \n",
       "4         DummyClassifier  0.785853      0.055929  0.000000  0.000000   \n",
       "\n",
       "     recall  recall_std  precision  precision_std  \n",
       "0  0.489174    0.135322   0.541912       0.129551  \n",
       "1  0.882329    0.065131   1.000000       0.000000  \n",
       "2  0.886560    0.075837   0.982738       0.040706  \n",
       "3  0.668266    0.101458   0.863554       0.094961  \n",
       "4  0.000000    0.000000   0.000000       0.000000  "
      ]
     },
     "execution_count": 19,
     "metadata": {},
     "output_type": "execute_result"
    }
   ],
   "source": [
    "res_df"
   ]
  },
  {
   "cell_type": "code",
   "execution_count": null,
   "metadata": {},
   "outputs": [],
   "source": []
  }
 ],
 "metadata": {
  "kernelspec": {
   "display_name": "Python 3",
   "language": "python",
   "name": "python3"
  },
  "language_info": {
   "codemirror_mode": {
    "name": "ipython",
    "version": 3
   },
   "file_extension": ".py",
   "mimetype": "text/x-python",
   "name": "python",
   "nbconvert_exporter": "python",
   "pygments_lexer": "ipython3",
   "version": "3.7.3"
  }
 },
 "nbformat": 4,
 "nbformat_minor": 2
}
