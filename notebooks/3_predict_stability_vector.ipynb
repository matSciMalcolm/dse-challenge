{
 "cells": [
  {
   "cell_type": "markdown",
   "metadata": {},
   "source": [
    "# Predict Stability Vector\n",
    "This notebook predicts the stability vector from the provided training data. The majority of the process is encapsulated in the `DataManager` class. Once a user has provided the necessary file paths in the configuration cell, the steps necessary are as follows:\n",
    "\n",
    "1. Load in test data from a .csv to a pandas dataframe.\n",
    "2. Convert the input columns into integer chemical formulas.\n",
    "3. Featurize the input data using MatMiner's stoichometric norms, magpie elemental features, and materials project cohesive energies.\n",
    "4. Load in and deserialize the chosen machine learning model using a pickle.\n",
    "5. Make predictions on the featurized inputs.\n",
    "6. Convert the predicted value of the binary classifier to the stability vector.\n"
   ]
  },
  {
   "cell_type": "code",
   "execution_count": 35,
   "metadata": {},
   "outputs": [],
   "source": [
    "#### Standard Libraries ####\n",
    "import os\n",
    "import pickle\n",
    "import numpy as np\n",
    "\n",
    "#### Local Libraries ####\n",
    "from utils.utils import Result\n",
    "from utils.data_manager import DataManager\n",
    "from utils.featurizer import Featurizer"
   ]
  },
  {
   "cell_type": "markdown",
   "metadata": {},
   "source": [
    "### Configuration\n",
    "Use this cell to set any necessary parameters.\n",
    "* `np.random.seed()` Set the random seed of the notebook for reproducibility.\n",
    "* `load_path` Path to training data.\n",
    "* `save_path` Where to save the results of cross validation.\n",
    "* `mp_api_key_path` Path to a `.txt` file containing a [Materials Project](https://materialsproject.org/) API key.\n",
    "* `feature_set` A list of key-words from 'standard', 'cmpd_energy', 'energy_a', or 'energy_b' that sets which [MatMiner](https://hackingmaterials.lbl.gov/matminer/) composition features to apply."
   ]
  },
  {
   "cell_type": "code",
   "execution_count": 23,
   "metadata": {},
   "outputs": [],
   "source": [
    "# Configuration\n",
    "load_test_path = os.path.join('..','data','test_data.csv')\n",
    "load_model_path = os.path.join('..','models','rfc.sav')\n",
    "save_path = os.path.join('..','data','test_csv_labeled.csv')\n",
    "feature_set = ['standard','cmpd_energy']\n",
    "mp_api_key_path = os.path.join('..','configuration','mp_api_key.txt')"
   ]
  },
  {
   "cell_type": "code",
   "execution_count": 24,
   "metadata": {},
   "outputs": [
    {
     "name": "stdout",
     "output_type": "stream",
     "text": [
      "'Loaded 749 records.'\n"
     ]
    }
   ],
   "source": [
    "# Load Data\n",
    "with open(mp_api_key_path, 'r') as f:\n",
    "    mp_api_key = f.readline().rstrip()\n",
    "dm = DataManager(load_test_path, save_path)\n",
    "dm.load()"
   ]
  },
  {
   "cell_type": "markdown",
   "metadata": {},
   "source": [
    "### Validating the test data\n",
    "1. Using either `csvkit` or excel we check that the test data should have 749 rows with an additional header row. Our load method above reports 749 records loaded which matches or expected value.\n",
    "2. We need to make sure that every entry for the first two columns is a string.\n",
    "3. Every string in the first 2 columns should have a max length of two.\n",
    "4. The first letter of every value for the first 2 columns should always be capitalized and the second should always be lower case.\n",
    "5. The first letter may not be J\n",
    "6. However the simplest path is to use the valid attribute of a pymatgen `Compostion` object."
   ]
  },
  {
   "cell_type": "code",
   "execution_count": 25,
   "metadata": {},
   "outputs": [
    {
     "name": "stdout",
     "output_type": "stream",
     "text": [
      "'All input elements are valid'\n"
     ]
    }
   ],
   "source": [
    "# Validate data - move to data manager\n",
    "dm.validate_data()"
   ]
  },
  {
   "cell_type": "markdown",
   "metadata": {},
   "source": [
    "## Converting Test Data\n",
    "Just as we trained on data converted into systems of binary compounds represented by integer formulas, we must convert the test data inputs."
   ]
  },
  {
   "cell_type": "code",
   "execution_count": 26,
   "metadata": {},
   "outputs": [],
   "source": [
    "# Convert the inputs\n",
    "dm.convert_inputs()\n",
    "dm.get_pymatgen_composition()"
   ]
  },
  {
   "cell_type": "markdown",
   "metadata": {},
   "source": [
    "Featurization is carried out using MatMiner. Depending on your chosen feature set, it may take up to 15 min for featurization to occur. Expect alert messages about noble gases during this process."
   ]
  },
  {
   "cell_type": "code",
   "execution_count": 27,
   "metadata": {},
   "outputs": [
    {
     "data": {
      "application/vnd.jupyter.widget-view+json": {
       "model_id": "03b16f65c6ec483097270e5f14f71feb",
       "version_major": 2,
       "version_minor": 0
      },
      "text/plain": [
       "HBox(children=(IntProgress(value=0, description='MultipleFeaturizer', max=8239, style=ProgressStyle(descriptio…"
      ]
     },
     "metadata": {},
     "output_type": "display_data"
    },
    {
     "name": "stderr",
     "output_type": "stream",
     "text": [
      "/Users/malcolmdavidson/anaconda3/envs/tecca/lib/python3.7/site-packages/pymatgen/core/periodic_table.py:427: UserWarning:\n",
      "\n",
      "No electronegativity for Ar. Setting to NaN. This has no physical meaning, and is mainly done to avoid errors caused by the code expecting a float.\n",
      "\n",
      "/Users/malcolmdavidson/anaconda3/envs/tecca/lib/python3.7/site-packages/pymatgen/core/periodic_table.py:427: UserWarning:\n",
      "\n",
      "No electronegativity for He. Setting to NaN. This has no physical meaning, and is mainly done to avoid errors caused by the code expecting a float.\n",
      "\n",
      "/Users/malcolmdavidson/anaconda3/envs/tecca/lib/python3.7/site-packages/pymatgen/core/periodic_table.py:427: UserWarning:\n",
      "\n",
      "No electronegativity for Ar. Setting to NaN. This has no physical meaning, and is mainly done to avoid errors caused by the code expecting a float.\n",
      "\n",
      "/Users/malcolmdavidson/anaconda3/envs/tecca/lib/python3.7/site-packages/pymatgen/core/periodic_table.py:427: UserWarning:\n",
      "\n",
      "No electronegativity for He. Setting to NaN. This has no physical meaning, and is mainly done to avoid errors caused by the code expecting a float.\n",
      "\n",
      "/Users/malcolmdavidson/anaconda3/envs/tecca/lib/python3.7/site-packages/pymatgen/core/periodic_table.py:427: UserWarning:\n",
      "\n",
      "No electronegativity for Ar. Setting to NaN. This has no physical meaning, and is mainly done to avoid errors caused by the code expecting a float.\n",
      "\n",
      "/Users/malcolmdavidson/anaconda3/envs/tecca/lib/python3.7/site-packages/pymatgen/core/periodic_table.py:427: UserWarning:\n",
      "\n",
      "No electronegativity for Ne. Setting to NaN. This has no physical meaning, and is mainly done to avoid errors caused by the code expecting a float.\n",
      "\n",
      "/Users/malcolmdavidson/anaconda3/envs/tecca/lib/python3.7/site-packages/pymatgen/core/periodic_table.py:427: UserWarning:\n",
      "\n",
      "No electronegativity for Ne. Setting to NaN. This has no physical meaning, and is mainly done to avoid errors caused by the code expecting a float.\n",
      "\n",
      "/Users/malcolmdavidson/anaconda3/envs/tecca/lib/python3.7/site-packages/pymatgen/core/periodic_table.py:427: UserWarning:\n",
      "\n",
      "No electronegativity for He. Setting to NaN. This has no physical meaning, and is mainly done to avoid errors caused by the code expecting a float.\n",
      "\n",
      "/Users/malcolmdavidson/anaconda3/envs/tecca/lib/python3.7/site-packages/pymatgen/core/periodic_table.py:427: UserWarning:\n",
      "\n",
      "No electronegativity for Ne. Setting to NaN. This has no physical meaning, and is mainly done to avoid errors caused by the code expecting a float.\n",
      "\n",
      "/Users/malcolmdavidson/anaconda3/envs/tecca/lib/python3.7/site-packages/pymatgen/core/periodic_table.py:427: UserWarning:\n",
      "\n",
      "No electronegativity for Ar. Setting to NaN. This has no physical meaning, and is mainly done to avoid errors caused by the code expecting a float.\n",
      "\n",
      "/Users/malcolmdavidson/anaconda3/envs/tecca/lib/python3.7/site-packages/pymatgen/core/periodic_table.py:427: UserWarning:\n",
      "\n",
      "No electronegativity for He. Setting to NaN. This has no physical meaning, and is mainly done to avoid errors caused by the code expecting a float.\n",
      "\n",
      "/Users/malcolmdavidson/anaconda3/envs/tecca/lib/python3.7/site-packages/pymatgen/core/periodic_table.py:427: UserWarning:\n",
      "\n",
      "No electronegativity for Ne. Setting to NaN. This has no physical meaning, and is mainly done to avoid errors caused by the code expecting a float.\n",
      "\n"
     ]
    },
    {
     "name": "stdout",
     "output_type": "stream",
     "text": [
      "\n"
     ]
    },
    {
     "name": "stderr",
     "output_type": "stream",
     "text": [
      "UsageError: Line magic function `%%capture` not found.\n"
     ]
    }
   ],
   "source": [
    "# featurize data\n",
    "f = Featurizer(feature_set, mp_api_key)\n",
    "dm.featurized_data = f.featurize(dm.data)\n",
    "\n",
    "\"\"\"\n",
    "Here you can choose how to impute missing values like the\n",
    "electronegativity of a noble gas. We have chosen to convert them to 0's.\n",
    "\"\"\"\n",
    "\n",
    "dm.featurized_data = np.nan_to_num(dm.featurized_data)"
   ]
  },
  {
   "cell_type": "markdown",
   "metadata": {},
   "source": [
    "## Making Predictions\n",
    "Once we have converted and featurized the test data it is time to make predictions about each compounds stability. We start by loading in out chosen model, in this case a Random Forest trained on super sampled data featurized using stoichiomteric norms, the magpie elemental properties, and cohesive energies."
   ]
  },
  {
   "cell_type": "code",
   "execution_count": 28,
   "metadata": {},
   "outputs": [],
   "source": [
    "# Load in our final model\n",
    "with open(load_model_path, \"rb\") as f:\n",
    "    model = pickle.load(f)"
   ]
  },
  {
   "cell_type": "code",
   "execution_count": 29,
   "metadata": {},
   "outputs": [],
   "source": [
    "# Predict binary stability classifier for all formulas\n",
    "dm.data['stable'] = model.predict(dm.featurized_data)"
   ]
  },
  {
   "cell_type": "code",
   "execution_count": 36,
   "metadata": {},
   "outputs": [],
   "source": [
    "# Convert the predicted binary classifier results to a stability vector\n",
    "dm.binary_to_vec()\n",
    "dm.labeled_data.to_csv(save_path)"
   ]
  },
  {
   "cell_type": "markdown",
   "metadata": {},
   "source": [
    "Finally we convert the predictions back to stability vectors and label the original test data. You can find the results at your specified save path as a csv file."
   ]
  },
  {
   "cell_type": "code",
   "execution_count": null,
   "metadata": {},
   "outputs": [],
   "source": []
  }
 ],
 "metadata": {
  "kernelspec": {
   "display_name": "Python 3",
   "language": "python",
   "name": "python3"
  },
  "language_info": {
   "codemirror_mode": {
    "name": "ipython",
    "version": 3
   },
   "file_extension": ".py",
   "mimetype": "text/x-python",
   "name": "python",
   "nbconvert_exporter": "python",
   "pygments_lexer": "ipython3",
   "version": "3.7.3"
  }
 },
 "nbformat": 4,
 "nbformat_minor": 2
}
