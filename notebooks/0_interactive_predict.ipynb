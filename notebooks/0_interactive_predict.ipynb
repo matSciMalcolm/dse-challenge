{
 "cells": [
  {
   "cell_type": "markdown",
   "metadata": {},
   "source": [
    "# Interactive Predict Module\n",
    "This module can be used to obtain the predicted stability for a binary compound by choosing the end members from the periodic table. To use this notebook simply provide the path to a text file containing your Materials Project API key. The notebook may take a minute as featurization and prediction are happening in real time."
   ]
  },
  {
   "cell_type": "code",
   "execution_count": 2,
   "metadata": {},
   "outputs": [
    {
     "data": {
      "text/html": [
       "        <script type=\"text/javascript\">\n",
       "        window.PlotlyConfig = {MathJaxConfig: 'local'};\n",
       "        if (window.MathJax) {MathJax.Hub.Config({SVG: {font: \"STIX-Web\"}});}\n",
       "        if (typeof require !== 'undefined') {\n",
       "        require.undef(\"plotly\");\n",
       "        requirejs.config({\n",
       "            paths: {\n",
       "                'plotly': ['https://cdn.plot.ly/plotly-latest.min']\n",
       "            }\n",
       "        });\n",
       "        require(['plotly'], function(Plotly) {\n",
       "            window._Plotly = Plotly;\n",
       "        });\n",
       "        }\n",
       "        </script>\n",
       "        "
      ]
     },
     "metadata": {},
     "output_type": "display_data"
    },
    {
     "data": {
      "application/vnd.jupyter.widget-view+json": {
       "model_id": "a5bb942f89dd4bd48d031c40a11c46e2",
       "version_major": 2,
       "version_minor": 0
      },
      "text/plain": [
       "FigureWidget({\n",
       "    'data': [{'hoverinfo': 'text',\n",
       "              'hovertext': array(['Hydrogen', 'Helium', 'Lit…"
      ]
     },
     "metadata": {},
     "output_type": "display_data"
    },
    {
     "name": "stderr",
     "output_type": "stream",
     "text": [
      "MultipleFeaturizer: 100%|██████████| 11/11 [00:01<00:00,  7.12it/s]\n"
     ]
    }
   ],
   "source": [
    "#### Standard Libraries ####\n",
    "import os\n",
    "\n",
    "#### Local Libraries ####\n",
    "from utils.plot_tools import interactive_pt\n",
    "\n",
    "# Configuration\n",
    "mp_api_key_path = os.path.join('..','configuration','mp_api_key.txt')\n",
    "\n",
    "# Initialize\n",
    "figure = interactive_pt(mp_api_key_path)\n",
    "figure"
   ]
  },
  {
   "cell_type": "code",
   "execution_count": null,
   "metadata": {},
   "outputs": [],
   "source": []
  }
 ],
 "metadata": {
  "kernelspec": {
   "display_name": "Python 3",
   "language": "python",
   "name": "python3"
  },
  "language_info": {
   "codemirror_mode": {
    "name": "ipython",
    "version": 3
   },
   "file_extension": ".py",
   "mimetype": "text/x-python",
   "name": "python",
   "nbconvert_exporter": "python",
   "pygments_lexer": "ipython3",
   "version": "3.7.3"
  }
 },
 "nbformat": 4,
 "nbformat_minor": 2
}
