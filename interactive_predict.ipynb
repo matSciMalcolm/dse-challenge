{
 "cells": [
  {
   "cell_type": "code",
   "execution_count": 1,
   "metadata": {},
   "outputs": [],
   "source": [
    "from mendeleev import get_table\n",
    "import plotly.plotly as py\n",
    "import plotly.graph_objs as go\n",
    "from plotly.offline import download_plotlyjs, init_notebook_mode, plot, iplot\n",
    "import plotly\n",
    "import numpy as np\n",
    "import pandas as pd\n",
    "import pickle\n",
    "color_dict = {'s':'red','p':'blue','d':'green','f':'yellow'}"
   ]
  },
  {
   "cell_type": "code",
   "execution_count": 2,
   "metadata": {},
   "outputs": [
    {
     "data": {
      "text/html": [
       "        <script type=\"text/javascript\">\n",
       "        window.PlotlyConfig = {MathJaxConfig: 'local'};\n",
       "        if (window.MathJax) {MathJax.Hub.Config({SVG: {font: \"STIX-Web\"}});}\n",
       "        if (typeof require !== 'undefined') {\n",
       "        require.undef(\"plotly\");\n",
       "        requirejs.config({\n",
       "            paths: {\n",
       "                'plotly': ['https://cdn.plot.ly/plotly-latest.min']\n",
       "            }\n",
       "        });\n",
       "        require(['plotly'], function(Plotly) {\n",
       "            window._Plotly = Plotly;\n",
       "        });\n",
       "        }\n",
       "        </script>\n",
       "        "
      ]
     },
     "metadata": {},
     "output_type": "display_data"
    }
   ],
   "source": [
    "init_notebook_mode(connected=True)"
   ]
  },
  {
   "cell_type": "code",
   "execution_count": 3,
   "metadata": {},
   "outputs": [],
   "source": [
    "pt = get_table('elements')"
   ]
  },
  {
   "cell_type": "code",
   "execution_count": 4,
   "metadata": {},
   "outputs": [],
   "source": [
    "base_pt = pt[pt['block'] != 'f']\n",
    "grid = base_pt[['name','symbol','group_id','period','block']].astype(int, errors='ignore')\n",
    "grid['color'] = grid['block'].replace(color_dict)"
   ]
  },
  {
   "cell_type": "code",
   "execution_count": 5,
   "metadata": {},
   "outputs": [],
   "source": [
    "a = \"Na\"\n",
    "b = \"Cl\"\n",
    "weight = np.arange(11)/10\n",
    "\n",
    "def row_to_formula(a, b, wts):\n",
    "    formula = []\n",
    "    for w in wts:\n",
    "        if w == 0:\n",
    "            formula.append(a)\n",
    "        elif w == 1:\n",
    "            formula.append(b)\n",
    "        else:\n",
    "            wa = 1.0-w\n",
    "            def compute_formula(wa):\n",
    "                return f\"{a}{wa:.1f}{b}{w:.1f}\"\n",
    "            formula.append(compute_formula(wa))\n",
    "    return formula\n",
    "t = row_to_formula(a,b,weight)   \n",
    "                         \n"
   ]
  },
  {
   "cell_type": "code",
   "execution_count": 6,
   "metadata": {},
   "outputs": [
    {
     "data": {
      "application/vnd.jupyter.widget-view+json": {
       "model_id": "59efaf55ad0a4e139927e573ab6ece17",
       "version_major": 2,
       "version_minor": 0
      },
      "text/plain": [
       "FigureWidget({\n",
       "    'data': [{'hoverinfo': 'text',\n",
       "              'hovertext': array(['Hydrogen', 'Helium', 'Lit…"
      ]
     },
     "metadata": {},
     "output_type": "display_data"
    }
   ],
   "source": [
    "data = [go.Scatter(x=grid['group_id'],\n",
    "                  y=grid['period'],\n",
    "                  mode='markers+text',\n",
    "                  text=grid['symbol'],\n",
    "                  hoverinfo=\"text\",\n",
    "                  hovertext=grid['name'],\n",
    "                  unselected=dict(\n",
    "                      textfont=dict(\n",
    "                          color='white')),\n",
    "                  selected=dict(\n",
    "                      textfont=dict(\n",
    "                          color='black')),\n",
    "                  textfont=dict(\n",
    "                      color='white'),\n",
    "                  marker=dict(\n",
    "                    size=30,\n",
    "                    color=grid['color'],\n",
    "                    line=dict(\n",
    "                        width = 2),\n",
    "                    symbol=1))]\n",
    "\n",
    "layout = go.Layout(\n",
    "                yaxis=dict(\n",
    "                    autorange='reversed',\n",
    "                    visible=False),\n",
    "                xaxis=dict(\n",
    "                    visible=False))\n",
    "\n",
    "from collections import Counter\n",
    "\n",
    "f = go.FigureWidget(data=data, layout=layout)\n",
    "\n",
    "\n",
    "scatter = f.data[0]\n",
    "scatter.marker.color = grid['color']\n",
    "scatter.marker.size = [30] * 100\n",
    "f.layout.hovermode = 'closest'\n",
    "\n",
    "# create our callback function\n",
    "def update_point(trace, points, selector):\n",
    "    c = list(scatter.marker.color)\n",
    "    s = list(scatter.marker.size)\n",
    "    count = Counter(c)\n",
    "    if count['#bae2be'] >= 2:\n",
    "        scatter.marker.color = grid['color']\n",
    "        scatter.marker.size = [30] * 100\n",
    "\n",
    "    else:\n",
    "        for i in points.point_inds:\n",
    "            c[i] = '#bae2be'\n",
    "            s[i] = 25\n",
    "            scatter.marker.color = c\n",
    "            scatter.marker.size = s\n",
    "\n",
    "\n",
    "scatter.on_click(update_point)\n",
    "\n",
    "f"
   ]
  },
  {
   "cell_type": "code",
   "execution_count": null,
   "metadata": {},
   "outputs": [],
   "source": [
    "# load model"
   ]
  }
 ],
 "metadata": {
  "kernelspec": {
   "display_name": "Python 3",
   "language": "python",
   "name": "python3"
  },
  "language_info": {
   "codemirror_mode": {
    "name": "ipython",
    "version": 3
   },
   "file_extension": ".py",
   "mimetype": "text/x-python",
   "name": "python",
   "nbconvert_exporter": "python",
   "pygments_lexer": "ipython3",
   "version": "3.7.3"
  }
 },
 "nbformat": 4,
 "nbformat_minor": 2
}
