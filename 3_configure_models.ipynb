{
 "cells": [
  {
   "cell_type": "code",
   "execution_count": 1,
   "metadata": {},
   "outputs": [],
   "source": [
    "import typing\n",
    "import os\n",
    "from pprint import pprint\n",
    "from citrination_client import *\n",
    "from citrination_client.views.data_view_builder import DataViewBuilder\n",
    "from pprint import pprint\n",
    "import pypif\n",
    "import time\n",
    "import json\n",
    "import uuid"
   ]
  },
  {
   "cell_type": "code",
   "execution_count": 5,
   "metadata": {},
   "outputs": [],
   "source": [
    "api_key = os.environ.get('CITRINATION_API_KEY')\n",
    "site = 'https://citrination.com'\n",
    "config_path = os.path.join('config','config.json')\n",
    "with open(config_path, 'r') as f:\n",
    "    config = json.load(f)\n",
    "dataset_id = config['dataset_id']\n",
    "dataset_name = config['dataset_name']\n",
    "data_view_name = config.get('data_view_name', generate_data_view_name(dataset_name, config))\n",
    "data_view_desc = config.get('data_view_desc', 'Binary Method')"
   ]
  },
  {
   "cell_type": "code",
   "execution_count": 4,
   "metadata": {},
   "outputs": [],
   "source": [
    "def generate_data_view_name(dataset_name, config):\n",
    "    config['datas_view_name'] = f\"{dataset_name}_{uuid.uuid1()}\"\n",
    "    with open(config_path, 'w+') as f:\n",
    "        json.dump(config, f)\n",
    "    return config['datas_view_name']"
   ]
  },
  {
   "cell_type": "code",
   "execution_count": 6,
   "metadata": {},
   "outputs": [],
   "source": [
    "client = CitrinationClient(os.environ.get('CITRINATION_API_KEY'), site)"
   ]
  },
  {
   "cell_type": "code",
   "execution_count": 7,
   "metadata": {},
   "outputs": [
    {
     "data": {
      "text/plain": [
       "['Name', 'Superalloy series', 'formula', 'Property stable']"
      ]
     },
     "execution_count": 7,
     "metadata": {},
     "output_type": "execute_result"
    }
   ],
   "source": [
    "client.data_views.search_template_client.get_available_columns(dataset_id)"
   ]
  },
  {
   "cell_type": "code",
   "execution_count": 8,
   "metadata": {},
   "outputs": [],
   "source": [
    "class MlTemplate():\n",
    "    def __init__(self, \n",
    "                 output,\n",
    "                 dataset_id,\n",
    "                 name, \n",
    "                 desc,\n",
    "                 output_lb=None, \n",
    "                 output_ub=None, \n",
    "                 units=None,\n",
    "                 rt_flag=True,\n",
    "                 data_view_id=None,\n",
    "                 ml_config = None,\n",
    "                 desc_type='real',\n",
    "                 categories=None):\n",
    "        self.dataset_id = dataset_id\n",
    "        self.output = output\n",
    "        self.output_lb = output_lb\n",
    "        self.output_ub = output_ub\n",
    "        self.units = units\n",
    "        self.data_view_id = data_view_id\n",
    "        self.name = name\n",
    "        self.desc = desc\n",
    "        self.ml_config = ml_config\n",
    "        self.desc_type = desc_type\n",
    "        self.categories = categories\n",
    "        \n",
    "        if rt_flag:\n",
    "            self.rt_flag = 'room temperature'\n",
    "        else:\n",
    "            self.rt_flag = 'non-room temperature'\n",
    "            \n",
    "        self.desc = 'This view maps composition to {} on the {} data from dataset {}'.format(output, self.rt_flag, dataset_id)\n",
    "\n",
    "\n",
    "def make_ml_config(template):\n",
    "    # Create ML configuration\n",
    "    dv_builder = DataViewBuilder()\n",
    "    dv_builder.dataset_ids([template.dataset_id]) # ID number for band gaps dataset\n",
    "\n",
    "    # Define descriptors\n",
    "    desc_formula = InorganicDescriptor(key='formula', threshold=1.0) # threshold <= 1.0; default in future releases\n",
    "    dv_builder.add_descriptor(descriptor=desc_formula, role='input')\n",
    "    \n",
    "    if template.desc_type == 'cat':\n",
    "        desc = CategoricalDescriptor(key=template.output, categories=template.categories)\n",
    "    else:\n",
    "        desc = RealDescriptor(key=template.output, lower_bound=template.output_lb, upper_bound=template.output_ub, units=template.units)\n",
    "    dv_builder.add_descriptor(descriptor=desc, role='output')\n",
    "    \n",
    "    # Build the configuration once all the pieces are in place\n",
    "    return dv_builder.build()\n",
    "\n",
    "\n",
    "def make_view(client, template):\n",
    "    template.ml_config = make_ml_config(template)\n",
    "    view_id = client.data_views.create(configuration=template.ml_config, name=template.name, description=template.desc)\n",
    "    print('Data view {} was successfully created.'.format(view_id))\n",
    "    return view_id"
   ]
  },
  {
   "cell_type": "code",
   "execution_count": 9,
   "metadata": {},
   "outputs": [],
   "source": [
    "ml_template = MlTemplate('Property stable', dataset_id, data_view_name, data_view_desc, desc_type='cat', categories=['0','1'])\n"
   ]
  },
  {
   "cell_type": "code",
   "execution_count": 10,
   "metadata": {},
   "outputs": [
    {
     "name": "stdout",
     "output_type": "stream",
     "text": [
      "Data view 10616 was successfully created.\n"
     ]
    }
   ],
   "source": [
    "config['data_view_id'] = make_view(client, ml_template)"
   ]
  },
  {
   "cell_type": "code",
   "execution_count": 11,
   "metadata": {},
   "outputs": [],
   "source": [
    "with open(config_path, 'w') as f:\n",
    "    json.dump(config, f, indent=2)"
   ]
  },
  {
   "cell_type": "code",
   "execution_count": null,
   "metadata": {},
   "outputs": [],
   "source": []
  }
 ],
 "metadata": {
  "kernelspec": {
   "display_name": "Python 3",
   "language": "python",
   "name": "python3"
  },
  "language_info": {
   "codemirror_mode": {
    "name": "ipython",
    "version": 3
   },
   "file_extension": ".py",
   "mimetype": "text/x-python",
   "name": "python",
   "nbconvert_exporter": "python",
   "pygments_lexer": "ipython3",
   "version": "3.7.3"
  }
 },
 "nbformat": 4,
 "nbformat_minor": 2
}
