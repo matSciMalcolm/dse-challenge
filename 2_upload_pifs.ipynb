{
 "cells": [
  {
   "cell_type": "code",
   "execution_count": 39,
   "metadata": {},
   "outputs": [],
   "source": [
    "# Imports\n",
    "import pandas as pd\n",
    "import os\n",
    "import time\n",
    "import typing\n",
    "import json\n",
    "from functools import partial\n",
    "from pprint import pprint\n",
    "from pypif import pif\n",
    "from pypif.obj import *\n",
    "from citrination_client import CitrinationClient\n",
    "import citrination_client.data.upload_result"
   ]
  },
  {
   "cell_type": "code",
   "execution_count": 40,
   "metadata": {},
   "outputs": [],
   "source": [
    "# Load Data\n",
    "# Filter to comp\n",
    "# Parse Vector\n",
    "# Upload to citrination"
   ]
  },
  {
   "cell_type": "code",
   "execution_count": 43,
   "metadata": {},
   "outputs": [],
   "source": [
    "load_path = os.path.join('data','pifs_data.json')\n",
    "api_key = os.environ.get('CITRINATION_API_KEY')\n",
    "site = 'https://citrination.com'\n",
    "config_path = os.path.join('config','config.json')\n",
    "dataset_name = 'dse_challenge_binary_1'"
   ]
  },
  {
   "cell_type": "code",
   "execution_count": 44,
   "metadata": {},
   "outputs": [],
   "source": [
    "client = CitrinationClient(api_key, site)"
   ]
  },
  {
   "cell_type": "code",
   "execution_count": 45,
   "metadata": {},
   "outputs": [],
   "source": [
    "# Upload the data\n",
    "upload_dataset = client.data.create_dataset(dataset_name)"
   ]
  },
  {
   "cell_type": "code",
   "execution_count": 46,
   "metadata": {},
   "outputs": [
    {
     "data": {
      "text/plain": [
       "<citrination_client.data.upload_result.UploadResult at 0x12071dcc0>"
      ]
     },
     "execution_count": 46,
     "metadata": {},
     "output_type": "execute_result"
    }
   ],
   "source": [
    "client.data.upload(dataset_id=upload_dataset.id, source_path=load_path)\n"
   ]
  },
  {
   "cell_type": "code",
   "execution_count": null,
   "metadata": {},
   "outputs": [
    {
     "name": "stdout",
     "output_type": "stream",
     "text": [
      "Waiting for data ingest...\n",
      "Waiting for data ingest...\n",
      "Waiting for data ingest...\n",
      "Waiting for data ingest...\n",
      "Waiting for data ingest...\n",
      "Waiting for data ingest...\n",
      "Waiting for data ingest...\n",
      "Waiting for data ingest...\n",
      "Waiting for data ingest...\n",
      "Waiting for data ingest...\n",
      "Waiting for data ingest...\n",
      "Waiting for data ingest...\n",
      "Waiting for data ingest...\n",
      "Waiting for data ingest...\n",
      "Waiting for data ingest...\n",
      "Waiting for data ingest...\n",
      "Waiting for data ingest...\n",
      "Waiting for data ingest...\n",
      "Waiting for data ingest...\n",
      "Waiting for data ingest...\n",
      "Waiting for data ingest...\n",
      "Waiting for data ingest...\n",
      "Waiting for data ingest...\n",
      "Waiting for data ingest...\n",
      "Waiting for data ingest...\n",
      "Waiting for data ingest...\n",
      "Waiting for data ingest...\n",
      "Waiting for data ingest...\n",
      "Waiting for data ingest...\n",
      "Waiting for data ingest...\n",
      "Waiting for data ingest...\n",
      "Waiting for data ingest...\n",
      "Waiting for data ingest...\n",
      "Waiting for data ingest...\n",
      "Waiting for data ingest...\n",
      "Waiting for data ingest...\n",
      "Waiting for data ingest...\n",
      "Waiting for data ingest...\n",
      "Waiting for data ingest...\n",
      "Waiting for data ingest...\n",
      "Waiting for data ingest...\n",
      "Waiting for data ingest...\n",
      "Waiting for data ingest...\n",
      "Waiting for data ingest...\n",
      "Waiting for data ingest...\n",
      "Waiting for data ingest...\n",
      "Waiting for data ingest...\n",
      "Waiting for data ingest...\n",
      "Waiting for data ingest...\n",
      "Waiting for data ingest...\n",
      "Waiting for data ingest...\n",
      "Waiting for data ingest...\n",
      "Waiting for data ingest...\n",
      "Waiting for data ingest...\n",
      "Waiting for data ingest...\n",
      "Waiting for data ingest...\n",
      "Waiting for data ingest...\n",
      "Waiting for data ingest...\n",
      "Waiting for data ingest...\n",
      "Waiting for data ingest...\n",
      "Waiting for data ingest...\n",
      "Waiting for data ingest...\n",
      "Waiting for data ingest...\n",
      "Waiting for data ingest...\n",
      "Waiting for data ingest...\n",
      "Waiting for data ingest...\n",
      "Waiting for data ingest...\n",
      "Waiting for data ingest...\n",
      "Waiting for data ingest...\n",
      "Waiting for data ingest...\n",
      "Waiting for data ingest...\n",
      "Waiting for data ingest...\n",
      "Waiting for data ingest...\n",
      "Waiting for data ingest...\n",
      "Waiting for data ingest...\n",
      "Waiting for data ingest...\n",
      "Waiting for data ingest...\n",
      "Waiting for data ingest...\n",
      "Waiting for data ingest...\n",
      "Waiting for data ingest...\n",
      "Waiting for data ingest...\n",
      "Waiting for data ingest...\n",
      "Waiting for data ingest...\n",
      "Waiting for data ingest...\n",
      "Waiting for data ingest...\n",
      "Waiting for data ingest...\n",
      "Waiting for data ingest...\n",
      "Waiting for data ingest...\n",
      "Waiting for data ingest...\n",
      "Waiting for data ingest...\n",
      "Waiting for data ingest...\n",
      "Waiting for data ingest...\n",
      "Waiting for data ingest...\n",
      "Waiting for data ingest...\n",
      "Waiting for data ingest...\n",
      "Waiting for data ingest...\n",
      "Waiting for data ingest...\n",
      "Waiting for data ingest...\n",
      "Waiting for data ingest...\n",
      "Waiting for data ingest...\n",
      "Waiting for data ingest...\n",
      "Waiting for data ingest...\n",
      "Waiting for data ingest...\n",
      "Waiting for data ingest...\n",
      "Waiting for data ingest...\n",
      "Waiting for data ingest...\n",
      "Waiting for data ingest...\n",
      "Waiting for data ingest...\n",
      "Waiting for data ingest...\n",
      "Waiting for data ingest...\n",
      "Waiting for data ingest...\n",
      "Waiting for data ingest...\n",
      "Waiting for data ingest...\n",
      "Waiting for data ingest...\n",
      "Waiting for data ingest...\n",
      "Waiting for data ingest...\n",
      "Waiting for data ingest...\n",
      "Waiting for data ingest...\n",
      "Waiting for data ingest...\n",
      "Waiting for data ingest...\n",
      "Waiting for data ingest...\n",
      "Waiting for data ingest...\n",
      "Waiting for data ingest...\n",
      "Waiting for data ingest...\n",
      "Waiting for data ingest...\n",
      "Waiting for data ingest...\n",
      "Waiting for data ingest...\n",
      "Waiting for data ingest...\n",
      "Waiting for data ingest...\n",
      "Waiting for data ingest...\n",
      "Waiting for data ingest...\n",
      "Waiting for data ingest...\n",
      "Waiting for data ingest...\n",
      "Waiting for data ingest...\n",
      "Waiting for data ingest...\n",
      "Waiting for data ingest...\n",
      "Waiting for data ingest...\n",
      "Waiting for data ingest...\n",
      "Waiting for data ingest...\n",
      "Waiting for data ingest...\n",
      "Waiting for data ingest...\n",
      "Waiting for data ingest...\n",
      "Waiting for data ingest...\n",
      "Waiting for data ingest...\n",
      "Waiting for data ingest...\n",
      "Waiting for data ingest...\n",
      "Waiting for data ingest...\n",
      "Waiting for data ingest...\n",
      "Waiting for data ingest...\n",
      "Waiting for data ingest...\n",
      "Waiting for data ingest...\n",
      "Waiting for data ingest...\n",
      "Waiting for data ingest...\n",
      "Waiting for data ingest...\n",
      "Waiting for data ingest...\n",
      "Waiting for data ingest...\n",
      "Waiting for data ingest...\n"
     ]
    }
   ],
   "source": [
    "while (True):\n",
    "    ingest_status = client.data.get_ingest_status(upload_dataset.id)\n",
    "    if (ingest_status == 'Finished'):\n",
    "        print('Ingestion complete!')\n",
    "        break\n",
    "    else:\n",
    "        print('Waiting for data ingest...')\n",
    "        time.sleep(10)"
   ]
  },
  {
   "cell_type": "code",
   "execution_count": 37,
   "metadata": {},
   "outputs": [],
   "source": [
    "def store_dataset_id(result, datataset_name, path: str):\n",
    "    config = {'dataset_name': dataset_name}\n",
    "    if type(result) == citrination_client.data.upload_result:\n",
    "        config['dataset_id'] = result.id\n",
    "    else:\n",
    "        config['dataset_id'] = result\n",
    "    with open(path, 'w+') as f:\n",
    "        json.dump(config, f, indent=2)"
   ]
  },
  {
   "cell_type": "code",
   "execution_count": 38,
   "metadata": {},
   "outputs": [],
   "source": [
    "store_dataset_id(upload_dataset, dataset_name, config_path)"
   ]
  },
  {
   "cell_type": "code",
   "execution_count": null,
   "metadata": {},
   "outputs": [],
   "source": []
  }
 ],
 "metadata": {
  "kernelspec": {
   "display_name": "Python 3",
   "language": "python",
   "name": "python3"
  },
  "language_info": {
   "codemirror_mode": {
    "name": "ipython",
    "version": 3
   },
   "file_extension": ".py",
   "mimetype": "text/x-python",
   "name": "python",
   "nbconvert_exporter": "python",
   "pygments_lexer": "ipython3",
   "version": "3.7.3"
  }
 },
 "nbformat": 4,
 "nbformat_minor": 2
}
