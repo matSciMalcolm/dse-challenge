{
 "cells": [
  {
   "cell_type": "code",
   "execution_count": 1,
   "metadata": {},
   "outputs": [],
   "source": [
    "# Imports\n",
    "import pandas as pd\n",
    "import os\n",
    "import typing\n",
    "from functools import partial\n",
    "from pprint import pprint\n",
    "from pypif import pif"
   ]
  },
  {
   "cell_type": "code",
   "execution_count": 2,
   "metadata": {},
   "outputs": [],
   "source": [
    "# Load Data\n",
    "# Filter to comp\n",
    "# Parse Vector\n",
    "# Upload to citrination"
   ]
  },
  {
   "cell_type": "code",
   "execution_count": 3,
   "metadata": {},
   "outputs": [],
   "source": [
    "load_path = os.path.join('data','training_data.csv')\n",
    "save_path = os.path.join('data','processed_data.csv')"
   ]
  },
  {
   "cell_type": "code",
   "execution_count": 4,
   "metadata": {},
   "outputs": [],
   "source": [
    "df = pd.read_csv(load_path)"
   ]
  },
  {
   "cell_type": "code",
   "execution_count": 5,
   "metadata": {},
   "outputs": [],
   "source": [
    "original_cols = df.columns"
   ]
  },
  {
   "cell_type": "code",
   "execution_count": 6,
   "metadata": {},
   "outputs": [],
   "source": [
    "cols = ['{}_percent'.format(i*10) for i in range(11)]"
   ]
  },
  {
   "cell_type": "code",
   "execution_count": 7,
   "metadata": {},
   "outputs": [],
   "source": [
    "def debug(func):\n",
    "    def debug_wrapper(*args, **kwargs):\n",
    "        row = args[0]\n",
    "        print(row['stabilityVec'])\n",
    "        func(*args, **kwargs)\n",
    "    return debug_wrapper"
   ]
  },
  {
   "cell_type": "code",
   "execution_count": 8,
   "metadata": {},
   "outputs": [],
   "source": [
    "def vec_to_stability(row: pd.Series, cols: list) -> pd.Series:\n",
    "\n",
    "    vec = eval(row['stabilityVec'])\n",
    "    for element, col in zip(vec, cols):\n",
    "        row[col] = int(element)\n",
    "    \n",
    "    return row"
   ]
  },
  {
   "cell_type": "code",
   "execution_count": 9,
   "metadata": {},
   "outputs": [],
   "source": [
    "vtf = partial(vec_to_stability, cols=cols)"
   ]
  },
  {
   "cell_type": "code",
   "execution_count": 10,
   "metadata": {},
   "outputs": [],
   "source": [
    "df = df.apply(vtf, axis=1)"
   ]
  },
  {
   "cell_type": "code",
   "execution_count": 11,
   "metadata": {},
   "outputs": [],
   "source": [
    "df[['formulaA', 'formulaB']+cols].to_csv(save_path, index=False)"
   ]
  },
  {
   "cell_type": "code",
   "execution_count": 12,
   "metadata": {},
   "outputs": [
    {
     "data": {
      "text/html": [
       "<div>\n",
       "<style scoped>\n",
       "    .dataframe tbody tr th:only-of-type {\n",
       "        vertical-align: middle;\n",
       "    }\n",
       "\n",
       "    .dataframe tbody tr th {\n",
       "        vertical-align: top;\n",
       "    }\n",
       "\n",
       "    .dataframe thead th {\n",
       "        text-align: right;\n",
       "    }\n",
       "</style>\n",
       "<table border=\"1\" class=\"dataframe\">\n",
       "  <thead>\n",
       "    <tr style=\"text-align: right;\">\n",
       "      <th></th>\n",
       "      <th>formulaA</th>\n",
       "      <th>formulaB</th>\n",
       "      <th>formulaA_elements_AtomicVolume</th>\n",
       "      <th>formulaB_elements_AtomicVolume</th>\n",
       "      <th>formulaA_elements_AtomicWeight</th>\n",
       "      <th>formulaB_elements_AtomicWeight</th>\n",
       "      <th>formulaA_elements_BoilingT</th>\n",
       "      <th>formulaB_elements_BoilingT</th>\n",
       "      <th>formulaA_elements_BulkModulus</th>\n",
       "      <th>formulaB_elements_BulkModulus</th>\n",
       "      <th>...</th>\n",
       "      <th>10_percent</th>\n",
       "      <th>20_percent</th>\n",
       "      <th>30_percent</th>\n",
       "      <th>40_percent</th>\n",
       "      <th>50_percent</th>\n",
       "      <th>60_percent</th>\n",
       "      <th>70_percent</th>\n",
       "      <th>80_percent</th>\n",
       "      <th>90_percent</th>\n",
       "      <th>100_percent</th>\n",
       "    </tr>\n",
       "  </thead>\n",
       "  <tbody>\n",
       "    <tr>\n",
       "      <th>0</th>\n",
       "      <td>Ne</td>\n",
       "      <td>He</td>\n",
       "      <td>37.232186</td>\n",
       "      <td>37.236036</td>\n",
       "      <td>20.179100</td>\n",
       "      <td>4.002602</td>\n",
       "      <td>26.92</td>\n",
       "      <td>4.07</td>\n",
       "      <td>0.0</td>\n",
       "      <td>0.0</td>\n",
       "      <td>...</td>\n",
       "      <td>0</td>\n",
       "      <td>0</td>\n",
       "      <td>0</td>\n",
       "      <td>0</td>\n",
       "      <td>0</td>\n",
       "      <td>0</td>\n",
       "      <td>0</td>\n",
       "      <td>0</td>\n",
       "      <td>0</td>\n",
       "      <td>1</td>\n",
       "    </tr>\n",
       "    <tr>\n",
       "      <th>1</th>\n",
       "      <td>Cs</td>\n",
       "      <td>He</td>\n",
       "      <td>117.456016</td>\n",
       "      <td>37.236036</td>\n",
       "      <td>132.905452</td>\n",
       "      <td>4.002602</td>\n",
       "      <td>944.00</td>\n",
       "      <td>4.07</td>\n",
       "      <td>1.6</td>\n",
       "      <td>0.0</td>\n",
       "      <td>...</td>\n",
       "      <td>0</td>\n",
       "      <td>0</td>\n",
       "      <td>0</td>\n",
       "      <td>0</td>\n",
       "      <td>0</td>\n",
       "      <td>0</td>\n",
       "      <td>0</td>\n",
       "      <td>0</td>\n",
       "      <td>0</td>\n",
       "      <td>1</td>\n",
       "    </tr>\n",
       "    <tr>\n",
       "      <th>2</th>\n",
       "      <td>K</td>\n",
       "      <td>He</td>\n",
       "      <td>75.847865</td>\n",
       "      <td>37.236036</td>\n",
       "      <td>39.098300</td>\n",
       "      <td>4.002602</td>\n",
       "      <td>1032.00</td>\n",
       "      <td>4.07</td>\n",
       "      <td>3.1</td>\n",
       "      <td>0.0</td>\n",
       "      <td>...</td>\n",
       "      <td>0</td>\n",
       "      <td>0</td>\n",
       "      <td>0</td>\n",
       "      <td>0</td>\n",
       "      <td>0</td>\n",
       "      <td>0</td>\n",
       "      <td>0</td>\n",
       "      <td>0</td>\n",
       "      <td>0</td>\n",
       "      <td>1</td>\n",
       "    </tr>\n",
       "    <tr>\n",
       "      <th>3</th>\n",
       "      <td>Ba</td>\n",
       "      <td>He</td>\n",
       "      <td>64.969282</td>\n",
       "      <td>37.236036</td>\n",
       "      <td>137.327000</td>\n",
       "      <td>4.002602</td>\n",
       "      <td>2143.00</td>\n",
       "      <td>4.07</td>\n",
       "      <td>9.6</td>\n",
       "      <td>0.0</td>\n",
       "      <td>...</td>\n",
       "      <td>0</td>\n",
       "      <td>0</td>\n",
       "      <td>0</td>\n",
       "      <td>0</td>\n",
       "      <td>0</td>\n",
       "      <td>0</td>\n",
       "      <td>0</td>\n",
       "      <td>0</td>\n",
       "      <td>0</td>\n",
       "      <td>1</td>\n",
       "    </tr>\n",
       "    <tr>\n",
       "      <th>4</th>\n",
       "      <td>Sr</td>\n",
       "      <td>He</td>\n",
       "      <td>55.323131</td>\n",
       "      <td>37.236036</td>\n",
       "      <td>87.620000</td>\n",
       "      <td>4.002602</td>\n",
       "      <td>1655.00</td>\n",
       "      <td>4.07</td>\n",
       "      <td>0.0</td>\n",
       "      <td>0.0</td>\n",
       "      <td>...</td>\n",
       "      <td>0</td>\n",
       "      <td>0</td>\n",
       "      <td>0</td>\n",
       "      <td>0</td>\n",
       "      <td>0</td>\n",
       "      <td>0</td>\n",
       "      <td>0</td>\n",
       "      <td>0</td>\n",
       "      <td>0</td>\n",
       "      <td>1</td>\n",
       "    </tr>\n",
       "  </tbody>\n",
       "</table>\n",
       "<p>5 rows × 110 columns</p>\n",
       "</div>"
      ],
      "text/plain": [
       "  formulaA formulaB  formulaA_elements_AtomicVolume  \\\n",
       "0       Ne       He                       37.232186   \n",
       "1       Cs       He                      117.456016   \n",
       "2        K       He                       75.847865   \n",
       "3       Ba       He                       64.969282   \n",
       "4       Sr       He                       55.323131   \n",
       "\n",
       "   formulaB_elements_AtomicVolume  formulaA_elements_AtomicWeight  \\\n",
       "0                       37.236036                       20.179100   \n",
       "1                       37.236036                      132.905452   \n",
       "2                       37.236036                       39.098300   \n",
       "3                       37.236036                      137.327000   \n",
       "4                       37.236036                       87.620000   \n",
       "\n",
       "   formulaB_elements_AtomicWeight  formulaA_elements_BoilingT  \\\n",
       "0                        4.002602                       26.92   \n",
       "1                        4.002602                      944.00   \n",
       "2                        4.002602                     1032.00   \n",
       "3                        4.002602                     2143.00   \n",
       "4                        4.002602                     1655.00   \n",
       "\n",
       "   formulaB_elements_BoilingT  formulaA_elements_BulkModulus  \\\n",
       "0                        4.07                            0.0   \n",
       "1                        4.07                            1.6   \n",
       "2                        4.07                            3.1   \n",
       "3                        4.07                            9.6   \n",
       "4                        4.07                            0.0   \n",
       "\n",
       "   formulaB_elements_BulkModulus  ...  10_percent  20_percent  30_percent  \\\n",
       "0                            0.0  ...           0           0           0   \n",
       "1                            0.0  ...           0           0           0   \n",
       "2                            0.0  ...           0           0           0   \n",
       "3                            0.0  ...           0           0           0   \n",
       "4                            0.0  ...           0           0           0   \n",
       "\n",
       "   40_percent  50_percent  60_percent  70_percent  80_percent  90_percent  \\\n",
       "0           0           0           0           0           0           0   \n",
       "1           0           0           0           0           0           0   \n",
       "2           0           0           0           0           0           0   \n",
       "3           0           0           0           0           0           0   \n",
       "4           0           0           0           0           0           0   \n",
       "\n",
       "   100_percent  \n",
       "0            1  \n",
       "1            1  \n",
       "2            1  \n",
       "3            1  \n",
       "4            1  \n",
       "\n",
       "[5 rows x 110 columns]"
      ]
     },
     "execution_count": 12,
     "metadata": {},
     "output_type": "execute_result"
    }
   ],
   "source": [
    "df.head()"
   ]
  },
  {
   "cell_type": "markdown",
   "metadata": {},
   "source": [
    "## Pivot each row and convert the stability vector into a chemical formula \n",
    "Pivot stability vector"
   ]
  },
  {
   "cell_type": "code",
   "execution_count": 13,
   "metadata": {},
   "outputs": [],
   "source": [
    "binary_df = df.melt(id_vars=original_cols, var_name='weight_fraction_element_b', value_name='stable')"
   ]
  },
  {
   "cell_type": "code",
   "execution_count": 14,
   "metadata": {},
   "outputs": [],
   "source": [
    "binary_df['weight_fraction_element_b'] = binary_df['weight_fraction_element_b'].str.strip('_percent').astype(float)"
   ]
  },
  {
   "cell_type": "code",
   "execution_count": 17,
   "metadata": {},
   "outputs": [],
   "source": [
    "binary_df['weight_fraction_element_b'] = binary_df['weight_fraction_element_b']/100"
   ]
  },
  {
   "cell_type": "markdown",
   "metadata": {},
   "source": [
    "Convert `weight_percent` to formula"
   ]
  },
  {
   "cell_type": "code",
   "execution_count": 34,
   "metadata": {},
   "outputs": [],
   "source": [
    "def row_to_formula(row: pd.Series):\n",
    "    w = row['weight_fraction_element_b']\n",
    "    a = row['formulaA']\n",
    "    b = row['formulaB']\n",
    "    \n",
    "    if w == 0:\n",
    "        return a\n",
    "    elif w == 100:\n",
    "        return b\n",
    "    else:\n",
    "        wa = 1.0-w\n",
    "        def compute_formula(wa):\n",
    "            return f\"{a}{wa:.1f} {b}{w:.1f}\"\n",
    "        return compute_formula(wa)\n",
    "             "
   ]
  },
  {
   "cell_type": "code",
   "execution_count": 35,
   "metadata": {},
   "outputs": [],
   "source": [
    "binary_df['formula'] = binary_df.apply(row_to_formula, axis=1)"
   ]
  },
  {
   "cell_type": "markdown",
   "metadata": {},
   "source": [
    "Export data"
   ]
  },
  {
   "cell_type": "code",
   "execution_count": 43,
   "metadata": {},
   "outputs": [],
   "source": [
    "# only export unique\n",
    "binary_df = binary_df.drop_duplicates('formula')"
   ]
  },
  {
   "cell_type": "code",
   "execution_count": 44,
   "metadata": {},
   "outputs": [],
   "source": [
    "binary_df[['formula','formulaA','formulaB','stable']].to_csv(save_path, index=False)"
   ]
  },
  {
   "cell_type": "code",
   "execution_count": null,
   "metadata": {},
   "outputs": [],
   "source": []
  }
 ],
 "metadata": {
  "kernelspec": {
   "display_name": "Python 3",
   "language": "python",
   "name": "python3"
  },
  "language_info": {
   "codemirror_mode": {
    "name": "ipython",
    "version": 3
   },
   "file_extension": ".py",
   "mimetype": "text/x-python",
   "name": "python",
   "nbconvert_exporter": "python",
   "pygments_lexer": "ipython3",
   "version": "3.7.3"
  }
 },
 "nbformat": 4,
 "nbformat_minor": 2
}
